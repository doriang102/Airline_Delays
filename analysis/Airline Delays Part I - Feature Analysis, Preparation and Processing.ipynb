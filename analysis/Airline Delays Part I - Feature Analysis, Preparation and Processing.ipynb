{
 "cells": [
  {
   "cell_type": "markdown",
   "metadata": {},
   "source": [
    "# Part 1: Introduction\n",
    "\n",
    "\n",
    "For this analysis, I will consider the 2016 airline delay data only, and my goal will be to predict delays\n",
    "using this one year of data. I have several hypotheses which I will evaluate throughout this presentation.\n",
    "\n",
    "**Goal:** *Given all of the airline data from 2016, can we predict delays?*\n",
    "\n",
    "I hypothesize that the following will provide gains in performance on predicting the departure delay:\n",
    "\n",
    "1. The 2016 weather data obtained from https://www.ncdc.noaa.gov/.\n",
    "2. Data regarding the age and model of the plane obtained from http://stat-computing.org/dataexpo/2009/plane-data.csv\n",
    "3. The total capacity of the airport from which the airlplane is originating form https://en.m.wikipedia.org/wiki/List_of_the_busiest_airports_in_the_United_States.\n",
    "4. Time series component to capture trends.\n",
    "6. USA Holidays.\n"
   ]
  },
  {
   "cell_type": "code",
   "execution_count": 3,
   "metadata": {
    "collapsed": true
   },
   "outputs": [],
   "source": [
    "# Prelimary libraries\n",
    "import pandas as pd\n",
    "import pylab as plt\n",
    "import seaborn\n",
    "import json\n",
    "import numpy as np\n",
    "pd.set_option('display.max_columns', 500)\n",
    "%matplotlib inline"
   ]
  },
  {
   "cell_type": "markdown",
   "metadata": {},
   "source": [
    "### Table of Contents\n",
    "#### Part I: Introduction.\n",
    "\n",
    "#### Part II: Data Processing."
   ]
  },
  {
   "cell_type": "markdown",
   "metadata": {},
   "source": [
    "# Part 2: Data Processing"
   ]
  },
  {
   "cell_type": "markdown",
   "metadata": {},
   "source": [
    "In this section I will outline the various processing steps which are necessary to end up with the final dataset\n",
    "which will be used. For those interested only in the analysis of the predictions, you may skip to the section ** Modeling Delays**."
   ]
  },
  {
   "cell_type": "markdown",
   "metadata": {},
   "source": [
    "### Step 1: Aggregating all of the 2016 data into one file. "
   ]
  },
  {
   "cell_type": "markdown",
   "metadata": {},
   "source": [
    "Although this requires aggregating quite large data sets, I've found Python to be pretty reliable at handling up to about 5GB of data at a time. "
   ]
  },
  {
   "cell_type": "code",
   "execution_count": 11,
   "metadata": {
    "collapsed": true
   },
   "outputs": [],
   "source": [
    "df_final=pd.DataFrame(columns=['Year', 'Quarter', 'Month', 'DayofMonth', 'DayOfWeek', 'FlightDate',\n",
    "       'UniqueCarrier', 'AirlineID', 'Carrier', 'TailNum', 'FlightNum',\n",
    "       'OriginAirportID', 'OriginAirportSeqID', 'OriginCityMarketID',\n",
    "       'Origin', 'OriginCityName', 'OriginState', 'OriginStateFips',\n",
    "       'OriginStateName', 'OriginWac', 'DestAirportID', 'DestAirportSeqID',\n",
    "       'DestCityMarketID', 'Dest', 'DestCityName', 'DestState',\n",
    "       'DestStateFips', 'DestStateName', 'DestWac', 'CRSDepTime',\n",
    "       'DepTime', 'DepDelay', 'DepDelayMinutes', 'DepDel15',\n",
    "       'DepartureDelayGroups', 'DepTimeBlk', 'TaxiOut', 'WheelsOff',\n",
    "       'WheelsOn', 'TaxiIn', 'CRSArrTime', 'ArrTime', 'ArrDelay',\n",
    "       'ArrDelayMinutes', 'ArrDel15', 'ArrivalDelayGroups', 'ArrTimeBlk',\n",
    "       'Cancelled', 'CancellationCode', 'Diverted', 'CRSElapsedTime',\n",
    "       'ActualElapsedTime', 'AirTime', 'Flights', 'Distance',\n",
    "       'DistanceGroup', 'CarrierDelay', 'WeatherDelay', 'NASDelay',\n",
    "       'SecurityDelay', 'LateAircraftDelay', 'FirstDepTime',\n",
    "       'TotalAddGTime', 'LongestAddGTime', 'DivAirportLandings',\n",
    "       'DivReachedDest', 'DivActualElapsedTime', 'DivArrDelay',\n",
    "       'DivDistance', 'Div1Airport', 'Div1AirportID', 'Div1AirportSeqID',\n",
    "       'Div1WheelsOn', 'Div1TotalGTime', 'Div1LongestGTime',\n",
    "       'Div1WheelsOff', 'Div1TailNum', 'Div2Airport', 'Div2AirportID',\n",
    "       'Div2AirportSeqID', 'Div2WheelsOn', 'Div2TotalGTime',\n",
    "       'Div2LongestGTime', 'Div2WheelsOff', 'Div2TailNum', 'Div3Airport',\n",
    "       'Div3AirportID', 'Div3AirportSeqID', 'Div3WheelsOn',\n",
    "       'Div3TotalGTime', 'Div3LongestGTime', 'Div3WheelsOff',\n",
    "       'Div3TailNum', 'Div4Airport', 'Div4AirportID', 'Div4AirportSeqID',\n",
    "       'Div4WheelsOn', 'Div4TotalGTime', 'Div4LongestGTime',\n",
    "       'Div4WheelsOff', 'Div4TailNum', 'Div5Airport', 'Div5AirportID',\n",
    "       'Div5AirportSeqID', 'Div5WheelsOn', 'Div5TotalGTime',\n",
    "       'Div5LongestGTime', 'Div5WheelsOff', 'Div5TailNum', 'Unnamed: 109'])"
   ]
  },
  {
   "cell_type": "code",
   "execution_count": 16,
   "metadata": {
    "collapsed": false
   },
   "outputs": [
    {
     "name": "stderr",
     "output_type": "stream",
     "text": [
      "/Users/dgoldma1/anaconda/lib/python3.6/site-packages/IPython/core/interactiveshell.py:2717: DtypeWarning: Columns (77) have mixed types. Specify dtype option on import or set low_memory=False.\n",
      "  interactivity=interactivity, compiler=compiler, result=result)\n",
      "/Users/dgoldma1/anaconda/lib/python3.6/site-packages/IPython/core/interactiveshell.py:2717: DtypeWarning: Columns (77,84) have mixed types. Specify dtype option on import or set low_memory=False.\n",
      "  interactivity=interactivity, compiler=compiler, result=result)\n",
      "/Users/dgoldma1/anaconda/lib/python3.6/site-packages/IPython/core/interactiveshell.py:2717: DtypeWarning: Columns (48,77,84) have mixed types. Specify dtype option on import or set low_memory=False.\n",
      "  interactivity=interactivity, compiler=compiler, result=result)\n",
      "/Users/dgoldma1/anaconda/lib/python3.6/site-packages/IPython/core/interactiveshell.py:2717: DtypeWarning: Columns (48,77,84,85) have mixed types. Specify dtype option on import or set low_memory=False.\n",
      "  interactivity=interactivity, compiler=compiler, result=result)\n",
      "/Users/dgoldma1/anaconda/lib/python3.6/site-packages/IPython/core/interactiveshell.py:2717: DtypeWarning: Columns (48,69,76,77,84) have mixed types. Specify dtype option on import or set low_memory=False.\n",
      "  interactivity=interactivity, compiler=compiler, result=result)\n"
     ]
    }
   ],
   "source": [
    "df_final\n",
    "for m in range(1,13):\n",
    "    fname = '../data/On_Time_Performance/On_Time_On_Time_Performance_2016_' + str(m) + '.csv'\n",
    "    df = pd.read_csv(fname)\n",
    "    df_final=df_final.append(df)"
   ]
  },
  {
   "cell_type": "markdown",
   "metadata": {},
   "source": [
    "### Step 2: Remove bad columns and causaul columns."
   ]
  },
  {
   "cell_type": "markdown",
   "metadata": {},
   "source": [
    "The following columns, upon inspection of the definitions, are the only variables (excluding DepDelay) which\n",
    "won't have a causal impact on DepDelay, and which aren't mostly null (Div variables are almost all null)."
   ]
  },
  {
   "cell_type": "code",
   "execution_count": 30,
   "metadata": {
    "collapsed": true
   },
   "outputs": [],
   "source": [
    "good_cols=['Year', 'Quarter', 'Month', 'DayofMonth', 'DayOfWeek', 'FlightDate',\n",
    "       'UniqueCarrier', 'AirlineID', 'Carrier', 'TailNum', 'FlightNum',\n",
    "       'OriginAirportID', 'OriginAirportSeqID', 'OriginCityMarketID',\n",
    "       'Origin', 'OriginCityName', 'OriginState', 'OriginStateFips',\n",
    "       'OriginStateName', 'OriginWac', 'DestAirportID', 'DestAirportSeqID',\n",
    "       'DestCityMarketID', 'Dest', 'DestCityName', 'DestState',\n",
    "       'DestStateFips', 'DestStateName', 'DestWac', 'CRSDepTime',\n",
    "       'DepTime','CRSArrTime','Distance', 'DepDelay']"
   ]
  },
  {
   "cell_type": "code",
   "execution_count": 33,
   "metadata": {
    "collapsed": true
   },
   "outputs": [],
   "source": [
    "df_final=df_final[good_cols]\n",
    "df_final.to_csv('../data/On_Time_Performance/On_Time_Performance_2016_agg.tsv',sep='\\t',index=False)"
   ]
  },
  {
   "cell_type": "markdown",
   "metadata": {},
   "source": [
    "### Step 3: Variable checking"
   ]
  },
  {
   "cell_type": "code",
   "execution_count": 4,
   "metadata": {
    "collapsed": true
   },
   "outputs": [],
   "source": [
    "df_final = pd.read_csv('../data/On_Time_Performance/On_Time_Performance_2016_agg.tsv',sep='\\t')"
   ]
  },
  {
   "cell_type": "markdown",
   "metadata": {},
   "source": [
    "### a) Check for null values"
   ]
  },
  {
   "cell_type": "markdown",
   "metadata": {},
   "source": [
    "Since there are zero and negative values, this means any null values mean there just is missing data. So we remove these rows"
   ]
  },
  {
   "cell_type": "code",
   "execution_count": 19,
   "metadata": {
    "collapsed": false
   },
   "outputs": [
    {
     "data": {
      "text/plain": [
       "0.011295810460515752"
      ]
     },
     "execution_count": 19,
     "metadata": {},
     "output_type": "execute_result"
    }
   ],
   "source": [
    "len(df_final[df_final['DepDelay'].isnull()])/len(df_final)"
   ]
  },
  {
   "cell_type": "code",
   "execution_count": 56,
   "metadata": {
    "collapsed": false
   },
   "outputs": [],
   "source": [
    "df_final=df_final[~df_final['DepDelay'].isnull()]"
   ]
  },
  {
   "cell_type": "markdown",
   "metadata": {},
   "source": [
    "### b) Convert time values to datetime objects."
   ]
  },
  {
   "cell_type": "markdown",
   "metadata": {},
   "source": [
    "The form of the datetime is just as a string, so we need to convert this to a proper datetime object."
   ]
  },
  {
   "cell_type": "code",
   "execution_count": 17,
   "metadata": {
    "collapsed": false
   },
   "outputs": [],
   "source": [
    "import datetime\n",
    "def fix_time(row):\n",
    "    x = row['CRSDepTime']\n",
    "    time_str = str(int(x)).zfill(4)\n",
    "    time_str_hour = int(time_str[0:2])\n",
    "    if time_str_hour == 24:\n",
    "        return 0\n",
    "    time_str_minute = int(time_str[2:])\n",
    "    \n",
    "    month = int(row['Month'])\n",
    "    day = int(row['DayofMonth'])\n",
    "\n",
    "    return datetime.datetime(2016,month,day,time_str_hour,time_str_minute)\n",
    "df_small['CRSDepTime']=df_small[['CRSDepTime','Month','DayofMonth']].apply(lambda row : fix_time(row),axis=1)"
   ]
  },
  {
   "cell_type": "code",
   "execution_count": 18,
   "metadata": {
    "collapsed": false
   },
   "outputs": [],
   "source": [
    "df_final['CRSDepTime'] = df_final[['CRSDepTime','Month','DayofMonth']].apply(lambda row : fix_time(row),axis=1)"
   ]
  },
  {
   "cell_type": "code",
   "execution_count": 60,
   "metadata": {
    "collapsed": false
   },
   "outputs": [],
   "source": [
    "df_final=df_final.drop(['DepTime'],1)"
   ]
  },
  {
   "cell_type": "markdown",
   "metadata": {},
   "source": [
    "### b) Variable Counts"
   ]
  },
  {
   "cell_type": "markdown",
   "metadata": {},
   "source": [
    "Here we check basic stats on the variables to see if anything appears odd, and to understand the distribuitons of the data. "
   ]
  },
  {
   "cell_type": "code",
   "execution_count": 75,
   "metadata": {
    "collapsed": false
   },
   "outputs": [],
   "source": [
    "df_origins = df_final.groupby('Origin').size()\n",
    "df_airlines = df_final.groupby('AirlineID').size()\n",
    "df_tailnum = df_final.groupby('TailNum').size()\n",
    "df_carrier = df_final.groupby('Carrier').size()"
   ]
  },
  {
   "cell_type": "code",
   "execution_count": 80,
   "metadata": {
    "collapsed": false
   },
   "outputs": [
    {
     "data": {
      "text/plain": [
       "Carrier\n",
       "AA     904240\n",
       "AS     176520\n",
       "B6     278748\n",
       "DL     918730\n",
       "EV     479542\n",
       "F9      93980\n",
       "HA      76686\n",
       "NK     135674\n",
       "OO     597949\n",
       "UA     539849\n",
       "VX      68477\n",
       "WN    1283807\n",
       "dtype: int64"
      ]
     },
     "execution_count": 80,
     "metadata": {},
     "output_type": "execute_result"
    }
   ],
   "source": [
    "df_carrier"
   ]
  },
  {
   "cell_type": "markdown",
   "metadata": {
    "collapsed": false
   },
   "source": [
    "Here we notice that there are only 12 carriers in the entire data set. This is a bit odd and indicates that\n",
    "this data is somewhat incomplete. However for the purpose of this analysis, this should suffice. Analysis of the other variables appear normal."
   ]
  },
  {
   "cell_type": "code",
   "execution_count": 484,
   "metadata": {
    "collapsed": false
   },
   "outputs": [
    {
     "data": {
      "text/plain": [
       "Origin\n",
       "ABE     2020\n",
       "ABI      161\n",
       "ABQ    12286\n",
       "ABY     1004\n",
       "ACK      287\n",
       "dtype: int64"
      ]
     },
     "execution_count": 484,
     "metadata": {},
     "output_type": "execute_result"
    }
   ],
   "source": [
    "df_origins.head()"
   ]
  },
  {
   "cell_type": "code",
   "execution_count": 486,
   "metadata": {
    "collapsed": false
   },
   "outputs": [
    {
     "data": {
      "text/plain": [
       "TailNum\n",
       "N102UW     392\n",
       "N103US     453\n",
       "N104UA      24\n",
       "N104UW     436\n",
       "N10575    1079\n",
       "dtype: int64"
      ]
     },
     "execution_count": 486,
     "metadata": {},
     "output_type": "execute_result"
    }
   ],
   "source": [
    "df_tailnum.head()"
   ]
  },
  {
   "cell_type": "code",
   "execution_count": 82,
   "metadata": {
    "collapsed": false
   },
   "outputs": [],
   "source": [
    "df_final.to_csv('../data/On_Time_Performance/final_cols_fixed.tsv',sep='\\t',index=False)"
   ]
  },
  {
   "cell_type": "markdown",
   "metadata": {},
   "source": [
    "# Exploratory analysis on variables"
   ]
  },
  {
   "cell_type": "markdown",
   "metadata": {},
   "source": [
    "In this section we perform some exploratory data analysis on the variables in question. to understand their distribution\n",
    "This will be very important in deciding which models are most appropriate."
   ]
  },
  {
   "cell_type": "markdown",
   "metadata": {},
   "source": [
    "### a) Departure Delays"
   ]
  },
  {
   "cell_type": "code",
   "execution_count": 93,
   "metadata": {
    "collapsed": false
   },
   "outputs": [
    {
     "data": {
      "text/plain": [
       "count    5.554202e+06\n",
       "mean     8.938011e+00\n",
       "std      3.976306e+01\n",
       "min     -2.040000e+02\n",
       "25%     -5.000000e+00\n",
       "50%     -2.000000e+00\n",
       "75%      6.000000e+00\n",
       "max      2.149000e+03\n",
       "Name: DepDelay, dtype: float64"
      ]
     },
     "execution_count": 93,
     "metadata": {},
     "output_type": "execute_result"
    }
   ],
   "source": [
    "df_final['DepDelay'].describe()"
   ]
  },
  {
   "cell_type": "markdown",
   "metadata": {},
   "source": [
    "We first observe that there are many departure delays which are negative, meaning the flights left earlier than expected."
   ]
  },
  {
   "cell_type": "code",
   "execution_count": 96,
   "metadata": {
    "collapsed": false
   },
   "outputs": [
    {
     "data": {
      "text/plain": [
       "3324094"
      ]
     },
     "execution_count": 96,
     "metadata": {},
     "output_type": "execute_result"
    }
   ],
   "source": [
    "len(df_final[df_final['DepDelay']<0])"
   ]
  },
  {
   "cell_type": "code",
   "execution_count": 97,
   "metadata": {
    "collapsed": false
   },
   "outputs": [
    {
     "data": {
      "text/plain": [
       "5554202"
      ]
     },
     "execution_count": 97,
     "metadata": {},
     "output_type": "execute_result"
    }
   ],
   "source": [
    "len(df_final)"
   ]
  },
  {
   "cell_type": "code",
   "execution_count": 487,
   "metadata": {
    "collapsed": false
   },
   "outputs": [
    {
     "data": {
      "text/plain": [
       "0.5984827343333929"
      ]
     },
     "execution_count": 487,
     "metadata": {},
     "output_type": "execute_result"
    }
   ],
   "source": [
    "3324094.0/5554202"
   ]
  },
  {
   "cell_type": "markdown",
   "metadata": {},
   "source": [
    "We see that 60% of the values are actualy negative, which is a huge amount. The most natural thing to do in this setting is\n",
    "to make all of these values zero. Let's first see what the positive part of the distribution looks like."
   ]
  },
  {
   "cell_type": "markdown",
   "metadata": {},
   "source": [
    "** Positive part of distribution: **"
   ]
  },
  {
   "cell_type": "code",
   "execution_count": 187,
   "metadata": {
    "collapsed": false
   },
   "outputs": [
    {
     "data": {
      "text/plain": [
       "<matplotlib.axes._subplots.AxesSubplot at 0x1298f20f0>"
      ]
     },
     "execution_count": 187,
     "metadata": {},
     "output_type": "execute_result"
    },
    {
     "data": {
      "image/png": "[encoded data removed]",
      "text/plain": [
       "<matplotlib.figure.Figure at 0x1298de128>"
      ]
     },
     "metadata": {},
     "output_type": "display_data"
    }
   ],
   "source": [
    "df_final[df_final['DepDelay']>0]['DepDelay'].hist(bins=100)"
   ]
  },
  {
   "cell_type": "markdown",
   "metadata": {},
   "source": [
    "** Distribution transformed to be positive: **"
   ]
  },
  {
   "cell_type": "code",
   "execution_count": null,
   "metadata": {
    "collapsed": true
   },
   "outputs": [],
   "source": [
    "df_final['DepDelay_pos'] = df_final['DepDelay'].apply(lambda x : max(0,x))"
   ]
  },
  {
   "cell_type": "code",
   "execution_count": 232,
   "metadata": {
    "collapsed": false
   },
   "outputs": [
    {
     "data": {
      "text/plain": [
       "<matplotlib.axes._subplots.AxesSubplot at 0x1290bb470>"
      ]
     },
     "execution_count": 232,
     "metadata": {},
     "output_type": "execute_result"
    },
    {
     "data": {
      "image/png": "[encoded data removed]",
      "text/plain": [
       "<matplotlib.figure.Figure at 0x129c60400>"
      ]
     },
     "metadata": {},
     "output_type": "display_data"
    }
   ],
   "source": [
    "df_final['DepDelay_pos'].hist(bins=100)"
   ]
  },
  {
   "cell_type": "markdown",
   "metadata": {},
   "source": [
    "**Note:** This appears to resemble a *fractional poisson distribution* with its concentration near \n",
    "    zero and heavy tail near $+\\infty$."
   ]
  },
  {
   "cell_type": "markdown",
   "metadata": {},
   "source": [
    "** Analysis of log: **"
   ]
  },
  {
   "cell_type": "code",
   "execution_count": 101,
   "metadata": {
    "collapsed": false
   },
   "outputs": [],
   "source": [
    "df_final['DepDelay_log']=df_final['DepDelay'].apply(lambda x : np.log(max(x,1)))"
   ]
  },
  {
   "cell_type": "code",
   "execution_count": 104,
   "metadata": {
    "collapsed": false
   },
   "outputs": [
    {
     "data": {
      "text/plain": [
       "<matplotlib.axes._subplots.AxesSubplot at 0x117869dd8>"
      ]
     },
     "execution_count": 104,
     "metadata": {},
     "output_type": "execute_result"
    },
    {
     "data": {
      "image/png": "[encoded data removed]",
      "text/plain": [
       "<matplotlib.figure.Figure at 0x116967d68>"
      ]
     },
     "metadata": {},
     "output_type": "display_data"
    }
   ],
   "source": [
    "df_final[df_final['DepDelay']>1]['DepDelay_log'].hist(bins=100)"
   ]
  },
  {
   "cell_type": "markdown",
   "metadata": {},
   "source": [
    "We see from this that the total distribution seems to be a Poisson distribution with a concentration near zero (known as a Tweedie distirbtion).\n",
    "This implies that the delays for a given flight on a given day may follow this kind of distribution, and thus\n",
    "we should modify our priors when performing maximum likelhihood."
   ]
  },
  {
   "cell_type": "markdown",
   "metadata": {},
   "source": [
    "### b) Other variables and their relation to Departure Delays"
   ]
  },
  {
   "cell_type": "markdown",
   "metadata": {},
   "source": [
    "### Temporal information"
   ]
  },
  {
   "cell_type": "markdown",
   "metadata": {},
   "source": [
    "#### Rolling mean"
   ]
  },
  {
   "cell_type": "markdown",
   "metadata": {},
   "source": [
    "Here we begin looking at the time series for departure delays. The goal is to understand if there is any stationary behavior\n",
    "and what the distribution over a given day. The actual time series is quite noisy, so I look at a rolling mean with a window of a month."
   ]
  },
  {
   "cell_type": "code",
   "execution_count": 269,
   "metadata": {
    "collapsed": true
   },
   "outputs": [],
   "source": [
    "series=df_final.groupby('CRSDepTime')['DepDelay'].mean()"
   ]
  },
  {
   "cell_type": "markdown",
   "metadata": {},
   "source": [
    "b.1) Zoomed in data."
   ]
  },
  {
   "cell_type": "code",
   "execution_count": 350,
   "metadata": {
    "collapsed": false
   },
   "outputs": [
    {
     "name": "stdout",
     "output_type": "stream",
     "text": [
      "CRSDepTime\n",
      "2016-01-01 00:10:00   NaN\n",
      "2016-01-01 00:15:00   NaN\n",
      "2016-01-01 00:20:00   NaN\n",
      "2016-01-01 00:24:00   NaN\n",
      "2016-01-01 00:30:00   NaN\n",
      "2016-01-01 00:35:00   NaN\n",
      "2016-01-01 00:39:00   NaN\n",
      "2016-01-01 00:40:00   NaN\n",
      "2016-01-01 00:45:00   NaN\n",
      "2016-01-01 00:46:00   NaN\n",
      "Name: DepDelay, dtype: float64\n"
     ]
    },
    {
     "data": {
      "text/plain": [
       "<matplotlib.axes._subplots.AxesSubplot at 0x14c242fd0>"
      ]
     },
     "execution_count": 350,
     "metadata": {},
     "output_type": "execute_result"
    },
    {
     "data": {
      "image/png": "[encoded data removed]",
      "text/plain": [
       "<matplotlib.figure.Figure at 0x14c1eba20>"
      ]
     },
     "metadata": {},
     "output_type": "display_data"
    }
   ],
   "source": [
    "# Tail-rolling average transform\n",
    "plt.figure(figsize=(15,5))\n",
    "rolling = series.rolling(window=30)\n",
    "rolling_mean = rolling.mean()\n",
    "print(rolling_mean.head(10))\n",
    "rolling_mean[0:10000].plot()\n",
    "# plot original and transformed dataset"
   ]
  },
  {
   "cell_type": "markdown",
   "metadata": {},
   "source": [
    "The time separation is a bit noisy (no equal separation of time scales) and not equally distributed. Rather than fixing this here though, we will\n",
    "do so in the time series section. "
   ]
  },
  {
   "cell_type": "markdown",
   "metadata": {
    "collapsed": true
   },
   "source": [
    "b.2) Entire dataset."
   ]
  },
  {
   "cell_type": "code",
   "execution_count": 359,
   "metadata": {
    "collapsed": false
   },
   "outputs": [
    {
     "name": "stdout",
     "output_type": "stream",
     "text": [
      "CRSDepTime\n",
      "2016-01-01 00:10:00   NaN\n",
      "2016-01-01 00:15:00   NaN\n",
      "2016-01-01 00:20:00   NaN\n",
      "2016-01-01 00:24:00   NaN\n",
      "2016-01-01 00:30:00   NaN\n",
      "2016-01-01 00:35:00   NaN\n",
      "2016-01-01 00:39:00   NaN\n",
      "2016-01-01 00:40:00   NaN\n",
      "2016-01-01 00:45:00   NaN\n",
      "2016-01-01 00:46:00   NaN\n",
      "Name: DepDelay, dtype: float64\n"
     ]
    },
    {
     "data": {
      "text/plain": [
       "<matplotlib.axes._subplots.AxesSubplot at 0x13fb8e828>"
      ]
     },
     "execution_count": 359,
     "metadata": {},
     "output_type": "execute_result"
    },
    {
     "data": {
      "image/png": "[encoded data removed]",
      "text/plain": [
       "<matplotlib.figure.Figure at 0x150945da0>"
      ]
     },
     "metadata": {},
     "output_type": "display_data"
    }
   ],
   "source": [
    "# Tail-rolling average transform\n",
    "plt.figure(figsize=(15,5))\n",
    "rolling = series.rolling(window=30)\n",
    "rolling_mean = rolling.mean()\n",
    "print(rolling_mean.head(10))\n",
    "rolling_mean.plot()\n",
    "# plot original and transformed dataset"
   ]
  },
  {
   "cell_type": "markdown",
   "metadata": {},
   "source": [
    "### Conclusion: \n",
    "\n",
    "The time series data appears to have a spike in the summer seasons and around the winter holidays. An auto correlation will be done in the time series section and maximum likelhihood estimates with different prior distributions will be attempted. The data here seems to suggest there is some autocorrelation of the departure delays, and that the distribution has a Gamma or Poisson like distribution.\n",
    "This suggests there is some seasonal behavior and also that weather could play a factor. \n",
    "\n",
    "\n",
    "For now, we will aggregate on a daily, monthly and hourly level to see what trends occur."
   ]
  },
  {
   "cell_type": "markdown",
   "metadata": {},
   "source": [
    "### Daily"
   ]
  },
  {
   "cell_type": "markdown",
   "metadata": {},
   "source": [
    "We start by taking a sample of the data to see if the trend observed in the summer and winter holds true."
   ]
  },
  {
   "cell_type": "code",
   "execution_count": 362,
   "metadata": {
    "collapsed": false
   },
   "outputs": [
    {
     "name": "stdout",
     "output_type": "stream",
     "text": [
      "FlightDate\n",
      "2016-01-01     6.784034\n",
      "2016-01-02     9.111778\n",
      "2016-01-03    12.323874\n",
      "2016-01-04    11.228356\n",
      "2016-01-05    12.498644\n",
      "2016-01-06    10.402533\n",
      "2016-01-07     6.121184\n",
      "2016-01-08     9.660244\n",
      "2016-01-09     6.844305\n",
      "2016-01-10    17.208583\n",
      "Name: DepDelay, dtype: float64\n"
     ]
    },
    {
     "data": {
      "text/plain": [
       "<matplotlib.axes._subplots.AxesSubplot at 0x152abd518>"
      ]
     },
     "execution_count": 362,
     "metadata": {},
     "output_type": "execute_result"
    },
    {
     "data": {
      "image/png": "[encoded data removed]",
      "text/plain": [
       "<matplotlib.figure.Figure at 0x14db984a8>"
      ]
     },
     "metadata": {},
     "output_type": "display_data"
    }
   ],
   "source": [
    "# Tail-rolling average transform\n",
    "series=df_final.groupby('FlightDate')['DepDelay'].mean()\n",
    "plt.figure(figsize=(15,5))\n",
    "#rolling = series.rolling(window=30)\n",
    "rolling_mean = series #rolling.mean()\n",
    "print(rolling_mean.head(10))\n",
    "rolling_mean[0:10000].plot()"
   ]
  },
  {
   "cell_type": "markdown",
   "metadata": {},
   "source": [
    "The above implies that there is a seaonal trend in the summer and in the winter, implying that traffic\n",
    "is a very important factor in the delays. "
   ]
  },
  {
   "cell_type": "markdown",
   "metadata": {},
   "source": [
    "### Distribution of data on a given day."
   ]
  },
  {
   "cell_type": "markdown",
   "metadata": {},
   "source": [
    "We now see that there is most likely some seasonal trend. We would like to now understand what the distributions\n",
    "on a given day look like - this will motivate the model we use. Let's compare some of the peak days we observed\n",
    "in the last section."
   ]
  },
  {
   "cell_type": "code",
   "execution_count": 595,
   "metadata": {
    "collapsed": false
   },
   "outputs": [
    {
     "data": {
      "text/plain": [
       "(0, 200)"
      ]
     },
     "execution_count": 595,
     "metadata": {},
     "output_type": "execute_result"
    },
    {
     "data": {
      "image/png": "[encoded data removed]",
      "text/plain": [
       "<matplotlib.figure.Figure at 0x130760f28>"
      ]
     },
     "metadata": {},
     "output_type": "display_data"
    }
   ],
   "source": [
    "plt.figure(figsize=(10,8))\n",
    "df_final[df_final['FlightDate']=='2016-01-20']['DepDelay'].hist(bins=120,alpha=0.5,color='b',label='Winter',normed=True)\n",
    "df_final[df_final['FlightDate']=='2016-08-20']['DepDelay'].hist(bins=120,alpha=0.5,label='Summer Peak',color='y',normed=True)\n",
    "df_final[df_final['FlightDate']=='2016-12-25']['DepDelay'].hist(bins=120,alpha=0.5,label='Christmas',color='r',normed=True)\n",
    "plt.legend()\n",
    "plt.xlim([0,200])"
   ]
  },
  {
   "cell_type": "markdown",
   "metadata": {},
   "source": [
    "This shows that the distribution of delays for any given day seem to have a Gamma distribution or a fractional\n",
    "poisson distribution. Indeed consider the example below."
   ]
  },
  {
   "cell_type": "markdown",
   "metadata": {},
   "source": [
    "### Fitting to different distributions."
   ]
  },
  {
   "cell_type": "markdown",
   "metadata": {},
   "source": [
    "Here we do some qualitative/adhoc comparison of fitting the delays over a given day to different distributions. We try\n",
    "1. Poisson.\n",
    "2. Gamma\n",
    "3. Beta\n",
    "4. Normal"
   ]
  },
  {
   "cell_type": "markdown",
   "metadata": {},
   "source": [
    "### Before setting negative values to 0"
   ]
  },
  {
   "cell_type": "markdown",
   "metadata": {},
   "source": [
    "Let's see which distributio fits best when we don't push the negative delays to zero."
   ]
  },
  {
   "cell_type": "code",
   "execution_count": 615,
   "metadata": {
    "collapsed": false
   },
   "outputs": [
    {
     "name": "stderr",
     "output_type": "stream",
     "text": [
      "/Users/dgoldma1/anaconda/lib/python3.6/site-packages/scipy/stats/_continuous_distns.py:404: RuntimeWarning: invalid value encountered in sqrt\n",
      "  sk = 2*(b-a)*np.sqrt(a + b + 1) / (a + b + 2) / np.sqrt(a*b)\n",
      "/Users/dgoldma1/anaconda/lib/python3.6/site-packages/scipy/optimize/minpack.py:161: RuntimeWarning: The iteration is not making good progress, as measured by the \n",
      "  improvement from the last ten iterations.\n",
      "  warnings.warn(msg, RuntimeWarning)\n"
     ]
    },
    {
     "data": {
      "image/png": "[encoded data removed]",
      "text/plain": [
       "<matplotlib.figure.Figure at 0x12fdf5d30>"
      ]
     },
     "metadata": {},
     "output_type": "display_data"
    }
   ],
   "source": [
    "# Poisson piece needs to be custom\n",
    "import numpy as np\n",
    "import matplotlib.pyplot as plt\n",
    "from scipy.optimize import curve_fit\n",
    "from scipy.misc import factorial\n",
    "\n",
    "# plot normed histogram\n",
    "christmas=df_final[(df_final['FlightDate']=='2016-12-25') & ~(df_final['DepDelay'].isnull())]['DepDelay'].dropna().values\n",
    "#christmas = np.array[max(c,0) for c in list(christmas)])\n",
    "ser=christmas[(christmas <50)]\n",
    "plt.figure(figsize=(10,5))\n",
    "plt.hist(ser,normed=True,bins=20,label='Raw Data')\n",
    "\n",
    "# find minimum and maximum of xticks, so we know\n",
    "# where we should compute theoretical distribution\n",
    "xt = plt.xticks()[0]  \n",
    "xmin, xmax =-10, 60 \n",
    "lnspc = np.linspace(xmin, xmax, len(ser))\n",
    "\n",
    "# lets try the normal distribution first\n",
    "m, s = stats.norm.fit(ser) # get mean and standard deviation  \n",
    "pdf_g = stats.norm.pdf(lnspc, m, s) # now get theoretical values in our interval  \n",
    "plt.plot(lnspc, pdf_g, label=\"Norm\") # plot it\n",
    "\n",
    "# exactly same as above\n",
    "ag,bg,cg = stats.gamma.fit(ser)  \n",
    "pdf_gamma = stats.gamma.pdf(lnspc, ag, bg,cg)  \n",
    "plt.plot(lnspc, pdf_gamma, label=\"Gamma\")\n",
    "\n",
    "# guess what :) \n",
    "ab,bb,cb,db = stats.beta.fit(ser)  \n",
    "pdf_beta = stats.beta.pdf(lnspc, ab, bb,cb, db)  \n",
    "plt.plot(lnspc, pdf_beta, label=\"Beta\")\n",
    "\n",
    "\n",
    "\n",
    "# get poisson deviated random numbers\n",
    "data = christmas[christmas>0]\n",
    "\n",
    "# the bins should be of integer width, because poisson is an integer distribution\n",
    "#entries, bin_edges, patches = plt.hist(data, bins=11, range=[-0.5, 10.5], normed=True)\n",
    "\n",
    "# calculate binmiddles\n",
    "bin_middles = 0.5*(bin_edges[1:] + bin_edges[:-1])\n",
    "\n",
    "# poisson function, parameter lamb is the fit parameter\n",
    "def poisson(k, lamb):\n",
    "    return (lamb**k/factorial(k)) * np.exp(-lamb)\n",
    "\n",
    "# fit with curve_fit\n",
    "parameters, cov_matrix = curve_fit(poisson, bin_middles, entries) \n",
    "\n",
    "# plot poisson-deviation with fitted parameter\n",
    "x_plot = np.linspace(0, 60, 1000)\n",
    "\n",
    "plt.plot(x_plot, poisson(x_plot, *parameters), 'r-', lw=2,label='Poisson')\n",
    "plt.legend()\n",
    "\n",
    "\n",
    "plt.show()"
   ]
  },
  {
   "cell_type": "markdown",
   "metadata": {},
   "source": [
    "As we see here, the Beta distribution appears to be the best, but is still not very good. Poisson is completely off, since it has\n",
    "zero support for negative values."
   ]
  },
  {
   "cell_type": "markdown",
   "metadata": {},
   "source": [
    "### After settign negative values to zero"
   ]
  },
  {
   "cell_type": "markdown",
   "metadata": {},
   "source": [
    "Let's see how things look when we collapse all negatie values to zero."
   ]
  },
  {
   "cell_type": "code",
   "execution_count": 618,
   "metadata": {
    "collapsed": false
   },
   "outputs": [
    {
     "data": {
      "image/png": "[encoded data removed]",
      "text/plain": [
       "<matplotlib.figure.Figure at 0x12f3539b0>"
      ]
     },
     "metadata": {},
     "output_type": "display_data"
    }
   ],
   "source": [
    "# plot normed histogram\n",
    "christmas=df_final[(df_final['FlightDate']=='2016-12-25') & ~(df_final['DepDelay'].isnull())]['DepDelay'].dropna().values\n",
    "christmas = np.array([max(c,0) for c in list(christmas)])\n",
    "ser=christmas[(christmas <50)]\n",
    "plt.figure(figsize=(10,5))\n",
    "plt.hist(ser,normed=True,bins=20,label='Raw Data')\n",
    "\n",
    "# find minimum and maximum of xticks, so we know\n",
    "# where we should compute theoretical distribution\n",
    "xt = plt.xticks()[0]  \n",
    "xmin, xmax =-10, 60 \n",
    "lnspc = np.linspace(xmin, xmax, len(ser))\n",
    "\n",
    "# lets try the normal distribution first\n",
    "m, s = stats.norm.fit(ser) # get mean and standard deviation  \n",
    "pdf_g = stats.norm.pdf(lnspc, m, s) # now get theoretical values in our interval  \n",
    "plt.plot(lnspc, pdf_g, label=\"Norm\") # plot it\n",
    "\n",
    "# exactly same as above\n",
    "ag,bg,cg = stats.gamma.fit(ser)  \n",
    "pdf_gamma = stats.gamma.pdf(lnspc, ag, bg,cg)  \n",
    "plt.plot(lnspc, pdf_gamma, label=\"Gamma\")\n",
    "\n",
    "# guess what :) \n",
    "#ab,bb,cb,db = stats.beta.fit(ser)  \n",
    "##pdf_beta = stats.beta.pdf(lnspc, ab, bb,cb, db)  \n",
    "#plt.plot(lnspc, pdf_beta, label=\"Beta\")\n",
    "\n",
    "# Poisson piece needs to be custom\n",
    "import numpy as np\n",
    "import matplotlib.pyplot as plt\n",
    "from scipy.optimize import curve_fit\n",
    "from scipy.misc import factorial\n",
    "\n",
    "\n",
    "# get poisson deviated random numbers\n",
    "data = christmas[christmas>0]\n",
    "\n",
    "# the bins should be of integer width, because poisson is an integer distribution\n",
    "#entries, bin_edges, patches = plt.hist(data, bins=11, range=[-0.5, 10.5], normed=True)\n",
    "\n",
    "# calculate binmiddles\n",
    "bin_middles = 0.5*(bin_edges[1:] + bin_edges[:-1])\n",
    "\n",
    "# poisson function, parameter lamb is the fit parameter\n",
    "def poisson(k, lamb):\n",
    "    return (lamb**k/factorial(k)) * np.exp(-lamb)\n",
    "\n",
    "# fit with curve_fit\n",
    "parameters, cov_matrix = curve_fit(poisson, bin_middles, entries) \n",
    "\n",
    "# plot poisson-deviation with fitted parameter\n",
    "x_plot = np.linspace(0, 60, 1000)\n",
    "\n",
    "plt.plot(x_plot, poisson(x_plot, *parameters), 'r-', lw=2,label='Poisson')\n",
    "plt.legend()\n",
    "\n",
    "\n",
    "plt.show()"
   ]
  },
  {
   "cell_type": "markdown",
   "metadata": {},
   "source": [
    "Here it appears that Poisson looks the most appropriate, which confirms our previous guess when looking at the entire distribution."
   ]
  },
  {
   "cell_type": "markdown",
   "metadata": {},
   "source": [
    "Let's plot the comparison for Christmas day, which should have more delays than usual.'"
   ]
  },
  {
   "cell_type": "code",
   "execution_count": 609,
   "metadata": {
    "collapsed": false
   },
   "outputs": [
    {
     "data": {
      "image/png": "[encoded data removed]",
      "text/plain": [
       "<matplotlib.figure.Figure at 0x130120dd8>"
      ]
     },
     "metadata": {},
     "output_type": "display_data"
    }
   ],
   "source": [
    "\n",
    "\n",
    "# get poisson deviated random numbers\n",
    "data = christmas\n",
    "\n",
    "# the bins should be of integer width, because poisson is an integer distribution\n",
    "entries, bin_edges, patches = plt.hist(data, bins=11, range=[-0.5, 10.5], normed=True)\n",
    "\n",
    "# calculate binmiddles\n",
    "bin_middles = 0.5*(bin_edges[1:] + bin_edges[:-1])\n",
    "\n",
    "# poisson function, parameter lamb is the fit parameter\n",
    "def poisson(k, lamb):\n",
    "    return (lamb**k/factorial(k)) * np.exp(-lamb)\n",
    "\n",
    "# fit with curve_fit\n",
    "parameters, cov_matrix = curve_fit(poisson, bin_middles, entries) \n",
    "\n",
    "# plot poisson-deviation with fitted parameter\n",
    "x_plot = np.linspace(0, 60, 1000)\n",
    "\n",
    "plt.plot(x_plot, poisson(x_plot, *parameters), 'r-', lw=2)\n",
    "plt.show()"
   ]
  },
  {
   "cell_type": "markdown",
   "metadata": {},
   "source": [
    "This appears to be a very good fit. we expect that for larger delays,  Poisson will work better."
   ]
  },
  {
   "cell_type": "code",
   "execution_count": 491,
   "metadata": {
    "collapsed": true
   },
   "outputs": [],
   "source": [
    "def boxplot_sorted(df, by, column, rot=0):\n",
    "    # use dict comprehension to create new dataframe from the iterable groupby object\n",
    "    # each group name becomes a column in the new dataframe\n",
    "    df2 = pd.DataFrame({col:vals[column] for col, vals in df.groupby(by)})\n",
    "    # find and sort the median values in this new dataframe\n",
    "    meds = df2.median().sort_values()\n",
    "    # use the columns in the dataframe, ordered sorted by median value\n",
    "    # return axes so changes can be made outside the function\n",
    "    return df2[meds.index].boxplot(rot=rot, return_type=\"axes\",figsize=(10,5))"
   ]
  },
  {
   "cell_type": "markdown",
   "metadata": {},
   "source": [
    "### Analysis of more temporal variables."
   ]
  },
  {
   "cell_type": "markdown",
   "metadata": {},
   "source": [
    "### Month"
   ]
  },
  {
   "cell_type": "code",
   "execution_count": 139,
   "metadata": {
    "collapsed": false
   },
   "outputs": [],
   "source": [
    "df_more_delays_2=df_final[df_final['DepDelay_log']>3]"
   ]
  },
  {
   "cell_type": "code",
   "execution_count": 136,
   "metadata": {
    "collapsed": false
   },
   "outputs": [
    {
     "data": {
      "text/plain": [
       "<matplotlib.legend.Legend at 0x126a066a0>"
      ]
     },
     "execution_count": 136,
     "metadata": {},
     "output_type": "execute_result"
    },
    {
     "data": {
      "image/png": "[encoded data removed]",
      "text/plain": [
       "<matplotlib.figure.Figure at 0x1266e6c18>"
      ]
     },
     "metadata": {},
     "output_type": "display_data"
    }
   ],
   "source": [
    "(df_more_delays.groupby('Month').size()/df_more_delays.groupby('Month').size().sum()).plot(color='b',label='Delayed Flights (>20 mins)')\n",
    "(df_more_delays_2.groupby('Month').size()/df_more_delays_2.groupby('Month').size().sum()).plot(color='g',label='Delayed Flights (>7 mins)')\n",
    "(df_final.groupby('Month').size()/df_final.groupby('Month').size().sum()).plot(color='r',label='Full dataset')\n",
    "(df_final.groupby('Month').size()/df_final.groupby('Month').size().sum()).plot(color='r',label='Full dataset')\n",
    "plt.legend()"
   ]
  },
  {
   "cell_type": "markdown",
   "metadata": {},
   "source": [
    "### Hour"
   ]
  },
  {
   "cell_type": "markdown",
   "metadata": {},
   "source": [
    "We will see below that delays are worst later in the evening, when more people are flying. This suggests\n",
    "making hour a separate variable, which we will do in our model."
   ]
  },
  {
   "cell_type": "code",
   "execution_count": 248,
   "metadata": {
    "collapsed": false
   },
   "outputs": [],
   "source": [
    "def get_hour(x):\n",
    "    hour = str(x).split(' ')[1].split(':')[0]\n",
    "    return hour\n",
    "df_small['hour']=df_small['CRSDepTime'].apply(lambda x : get_hour(x))"
   ]
  },
  {
   "cell_type": "code",
   "execution_count": 249,
   "metadata": {
    "collapsed": true
   },
   "outputs": [],
   "source": [
    "df_final['hour']=df_final['CRSDepTime'].apply(lambda x : get_hour(x))"
   ]
  },
  {
   "cell_type": "code",
   "execution_count": 388,
   "metadata": {
    "collapsed": false
   },
   "outputs": [
    {
     "data": {
      "text/plain": [
       "<matplotlib.axes._subplots.AxesSubplot at 0x1339ffeb8>"
      ]
     },
     "execution_count": 388,
     "metadata": {},
     "output_type": "execute_result"
    },
    {
     "data": {
      "text/plain": [
       "<matplotlib.figure.Figure at 0x133a074e0>"
      ]
     },
     "metadata": {},
     "output_type": "display_data"
    },
    {
     "data": {
      "image/png": "[encoded data removed]",
      "text/plain": [
       "<matplotlib.figure.Figure at 0x1339ff2b0>"
      ]
     },
     "metadata": {},
     "output_type": "display_data"
    }
   ],
   "source": [
    "plt.figure(figsize=(20,10))\n",
    "df_final[(df_final['DepDelay']<100) ][['hour','DepDelay_pos']].boxplot( by='hour',figsize=(10,8))"
   ]
  },
  {
   "cell_type": "markdown",
   "metadata": {},
   "source": [
    "### Day of Month"
   ]
  },
  {
   "cell_type": "markdown",
   "metadata": {},
   "source": [
    "There appears to be a small peak around the middle of the month, but very small. "
   ]
  },
  {
   "cell_type": "code",
   "execution_count": 389,
   "metadata": {
    "collapsed": false
   },
   "outputs": [
    {
     "data": {
      "text/plain": [
       "<matplotlib.axes._subplots.AxesSubplot at 0x133a42780>"
      ]
     },
     "execution_count": 389,
     "metadata": {},
     "output_type": "execute_result"
    },
    {
     "data": {
      "text/plain": [
       "<matplotlib.figure.Figure at 0x133a07048>"
      ]
     },
     "metadata": {},
     "output_type": "display_data"
    },
    {
     "data": {
      "image/png": "[encoded data removed]",
      "text/plain": [
       "<matplotlib.figure.Figure at 0x133a39ba8>"
      ]
     },
     "metadata": {},
     "output_type": "display_data"
    }
   ],
   "source": [
    "plt.figure(figsize=(20,10))\n",
    "df_final[df_final['DepDelay']<100][['DayofMonth','DepDelay_pos']].boxplot( by='DayofMonth',figsize=(10,8))"
   ]
  },
  {
   "cell_type": "markdown",
   "metadata": {},
   "source": [
    "We will see below that the introduction of this variable improves the R^2 from 0.017 to 0.02."
   ]
  },
  {
   "cell_type": "markdown",
   "metadata": {},
   "source": [
    "### Quarter "
   ]
  },
  {
   "cell_type": "markdown",
   "metadata": {},
   "source": [
    "Consistent in our observations fro above, we see the largest delay in the third quarter, which is in the summer."
   ]
  },
  {
   "cell_type": "code",
   "execution_count": 287,
   "metadata": {
    "collapsed": false
   },
   "outputs": [
    {
     "data": {
      "text/plain": [
       "Quarter\n",
       "1     7.893277\n",
       "2     8.496406\n",
       "3    11.239215\n",
       "4     7.990617\n",
       "Name: DepDelay, dtype: float64"
      ]
     },
     "execution_count": 287,
     "metadata": {},
     "output_type": "execute_result"
    }
   ],
   "source": [
    "df_final.groupby('Quarter')['DepDelay'].mean()"
   ]
  },
  {
   "cell_type": "code",
   "execution_count": 394,
   "metadata": {
    "collapsed": false
   },
   "outputs": [
    {
     "data": {
      "text/plain": [
       "<matplotlib.axes._subplots.AxesSubplot at 0x15536a550>"
      ]
     },
     "execution_count": 394,
     "metadata": {},
     "output_type": "execute_result"
    },
    {
     "data": {
      "text/plain": [
       "<matplotlib.figure.Figure at 0x1550cf940>"
      ]
     },
     "metadata": {},
     "output_type": "display_data"
    },
    {
     "data": {
      "image/png": "[encoded data removed]",
      "text/plain": [
       "<matplotlib.figure.Figure at 0x15527e9e8>"
      ]
     },
     "metadata": {},
     "output_type": "display_data"
    }
   ],
   "source": [
    "plt.figure(figsize=(20,10))\n",
    "df_final[df_final['DepDelay']<100][['Quarter','DepDelay_pos']].boxplot( by='Quarter',figsize=(10,8))"
   ]
  },
  {
   "cell_type": "markdown",
   "metadata": {},
   "source": [
    "Here we look only at positive delays."
   ]
  },
  {
   "cell_type": "code",
   "execution_count": 399,
   "metadata": {
    "collapsed": false
   },
   "outputs": [
    {
     "data": {
      "text/plain": [
       "<matplotlib.axes._subplots.AxesSubplot at 0x17006b128>"
      ]
     },
     "execution_count": 399,
     "metadata": {},
     "output_type": "execute_result"
    },
    {
     "data": {
      "text/plain": [
       "<matplotlib.figure.Figure at 0x16f92c080>"
      ]
     },
     "metadata": {},
     "output_type": "display_data"
    },
    {
     "data": {
      "image/png": "[encoded data removed]",
      "text/plain": [
       "<matplotlib.figure.Figure at 0x159904e80>"
      ]
     },
     "metadata": {},
     "output_type": "display_data"
    }
   ],
   "source": [
    "plt.figure(figsize=(20,10))\n",
    "df_final[(df_final['DepDelay']<100) & (df_final['DepDelay']>0)][['Quarter','DepDelay_pos']].boxplot( by='Quarter',figsize=(10,8))"
   ]
  },
  {
   "cell_type": "markdown",
   "metadata": {},
   "source": [
    "### Carrier information"
   ]
  },
  {
   "cell_type": "markdown",
   "metadata": {},
   "source": [
    "Certain carriers seem to be worse than others. Frontier, Spirit and EVA Air Corporation. These airlines\n",
    "having the worst delays are consistent with my experience, so this is a good sanity check."
   ]
  },
  {
   "cell_type": "code",
   "execution_count": 413,
   "metadata": {
    "collapsed": false
   },
   "outputs": [
    {
     "data": {
      "text/plain": [
       "<matplotlib.text.Text at 0x1d6f4d9e8>"
      ]
     },
     "execution_count": 413,
     "metadata": {},
     "output_type": "execute_result"
    },
    {
     "data": {
      "image/png": "[encoded data removed]",
      "text/plain": [
       "<matplotlib.figure.Figure at 0x1d6f165f8>"
      ]
     },
     "metadata": {},
     "output_type": "display_data"
    }
   ],
   "source": [
    "  \n",
    "axes = boxplot_sorted(df_final[(df_final['DepDelay']<100) & (df_final['DepDelay']>0) ], by=[\"Carrier\"], column=\"DepDelay_pos\")\n",
    "axes.set_title(\"Boxplot of delays by Carrier\")\n"
   ]
  },
  {
   "cell_type": "markdown",
   "metadata": {},
   "source": [
    "B6: Jet Blue\n",
    "\n",
    "F9: Frontier Airlines\n",
    "\n",
    "NK: Spirit Airlines\n",
    "\n",
    "UA: United Airlines\n",
    "\n",
    "EV: EVA Air Corporation"
   ]
  },
  {
   "cell_type": "markdown",
   "metadata": {},
   "source": [
    "### Airport information"
   ]
  },
  {
   "cell_type": "code",
   "execution_count": 437,
   "metadata": {
    "collapsed": true
   },
   "outputs": [],
   "source": [
    "df_airports = df_final.groupby('Origin')['DepDelay'].mean().sort_values()\n",
    "df_airports_sizes = df_final.groupby('Origin')['DepDelay'].size().sort_values()"
   ]
  },
  {
   "cell_type": "code",
   "execution_count": 440,
   "metadata": {
    "collapsed": false
   },
   "outputs": [],
   "source": [
    "popular_airports=df_airports_sizes[5:]"
   ]
  },
  {
   "cell_type": "code",
   "execution_count": 453,
   "metadata": {
    "collapsed": false
   },
   "outputs": [],
   "source": [
    "df_final=df_final[df_final['Origin'].isin(popular_airports.index)]"
   ]
  },
  {
   "cell_type": "code",
   "execution_count": 454,
   "metadata": {
    "collapsed": true
   },
   "outputs": [],
   "source": [
    "df_airports = df_final.groupby('Origin')['DepDelay'].mean().sort_values()\n",
    "df_airports_sizes = df_final.groupby('Origin')['DepDelay'].size().sort_values()"
   ]
  },
  {
   "cell_type": "code",
   "execution_count": 460,
   "metadata": {
    "collapsed": false
   },
   "outputs": [
    {
     "data": {
      "text/plain": [
       "Origin\n",
       "GUC    15.420168\n",
       "MQT    15.874269\n",
       "CMX    16.507205\n",
       "SAF    16.741990\n",
       "BPT    17.260788\n",
       "OTH    20.192440\n",
       "MVY    20.822581\n",
       "GCK    20.833333\n",
       "MMH    22.560440\n",
       "PPG    52.553719\n",
       "Name: DepDelay, dtype: float64"
      ]
     },
     "execution_count": 460,
     "metadata": {},
     "output_type": "execute_result"
    }
   ],
   "source": [
    "df_airports[-10:]"
   ]
  },
  {
   "cell_type": "code",
   "execution_count": 461,
   "metadata": {
    "collapsed": false
   },
   "outputs": [
    {
     "data": {
      "text/plain": [
       "<matplotlib.text.Text at 0x33ca8fac8>"
      ]
     },
     "execution_count": 461,
     "metadata": {},
     "output_type": "execute_result"
    },
    {
     "data": {
      "image/png": "[encoded data removed]",
      "text/plain": [
       "<matplotlib.figure.Figure at 0x33c71d278>"
      ]
     },
     "metadata": {},
     "output_type": "display_data"
    }
   ],
   "source": [
    "axes = boxplot_sorted(df_final[(df_final['DepDelay']<100) & (df_final['DepDelay']>0) & (df_final['Origin'].isin(df_airports[-10:].index))], by=[\"Origin\"], column=\"DepDelay_pos\")\n",
    "axes.set_title(\"Boxplot of delays by Carrier\")"
   ]
  },
  {
   "cell_type": "code",
   "execution_count": null,
   "metadata": {
    "collapsed": true
   },
   "outputs": [],
   "source": [
    "# Southwest Oregon Regional Airport\n",
    "# San Francisco\n",
    "#Gunnison–Crested Butte Regional Airport"
   ]
  },
  {
   "cell_type": "markdown",
   "metadata": {},
   "source": [
    "### Holidays"
   ]
  },
  {
   "cell_type": "markdown",
   "metadata": {},
   "source": [
    "As an additional variable to add in, motivated by some of the above observations, we see which\n",
    "holidays relate the most to departure delays. "
   ]
  },
  {
   "cell_type": "code",
   "execution_count": null,
   "metadata": {
    "collapsed": true
   },
   "outputs": [],
   "source": [
    "df_holidays = pd.read_csv('../data/holidays/holidays_07-17.csv').drop(['Unnamed: 0'],1)"
   ]
  },
  {
   "cell_type": "code",
   "execution_count": 9,
   "metadata": {
    "collapsed": false
   },
   "outputs": [
    {
     "data": {
      "text/html": [
       "<div>\n",
       "<style>\n",
       "    .dataframe thead tr:only-child th {\n",
       "        text-align: right;\n",
       "    }\n",
       "\n",
       "    .dataframe thead th {\n",
       "        text-align: left;\n",
       "    }\n",
       "\n",
       "    .dataframe tbody tr th {\n",
       "        vertical-align: top;\n",
       "    }\n",
       "</style>\n",
       "<table border=\"1\" class=\"dataframe\">\n",
       "  <thead>\n",
       "    <tr style=\"text-align: right;\">\n",
       "      <th></th>\n",
       "      <th>Date</th>\n",
       "      <th>Weekday</th>\n",
       "      <th>Holiday.Name</th>\n",
       "      <th>Holiday.Type</th>\n",
       "    </tr>\n",
       "  </thead>\n",
       "  <tbody>\n",
       "    <tr>\n",
       "      <th>0</th>\n",
       "      <td>2017-01-01</td>\n",
       "      <td>Sunday</td>\n",
       "      <td>Last Day of Chanukah</td>\n",
       "      <td>Jewish holiday</td>\n",
       "    </tr>\n",
       "    <tr>\n",
       "      <th>1</th>\n",
       "      <td>2017-01-01</td>\n",
       "      <td>Sunday</td>\n",
       "      <td>New Year's Day</td>\n",
       "      <td>Federal Holiday</td>\n",
       "    </tr>\n",
       "    <tr>\n",
       "      <th>2</th>\n",
       "      <td>2017-01-02</td>\n",
       "      <td>Monday</td>\n",
       "      <td>New Year's Day observed</td>\n",
       "      <td>Federal Holiday</td>\n",
       "    </tr>\n",
       "    <tr>\n",
       "      <th>3</th>\n",
       "      <td>2017-01-16</td>\n",
       "      <td>Monday</td>\n",
       "      <td>Martin Luther King Jr. Day</td>\n",
       "      <td>Federal Holiday</td>\n",
       "    </tr>\n",
       "    <tr>\n",
       "      <th>4</th>\n",
       "      <td>2017-02-20</td>\n",
       "      <td>Monday</td>\n",
       "      <td>Presidents' Day</td>\n",
       "      <td>Federal Holiday</td>\n",
       "    </tr>\n",
       "  </tbody>\n",
       "</table>\n",
       "</div>"
      ],
      "text/plain": [
       "         Date Weekday                Holiday.Name     Holiday.Type\n",
       "0  2017-01-01  Sunday        Last Day of Chanukah   Jewish holiday\n",
       "1  2017-01-01  Sunday              New Year's Day  Federal Holiday\n",
       "2  2017-01-02  Monday     New Year's Day observed  Federal Holiday\n",
       "3  2017-01-16  Monday  Martin Luther King Jr. Day  Federal Holiday\n",
       "4  2017-02-20  Monday             Presidents' Day  Federal Holiday"
      ]
     },
     "execution_count": 9,
     "metadata": {},
     "output_type": "execute_result"
    }
   ],
   "source": [
    "df_holidays.head()"
   ]
  },
  {
   "cell_type": "code",
   "execution_count": 10,
   "metadata": {
    "collapsed": false
   },
   "outputs": [],
   "source": [
    "df_holidays['FlightDate']=df_holidays['Date']\n",
    "df_final_holiday=pd.merge(df_final,df_holidays,how='left',on='FlightDate')"
   ]
  },
  {
   "cell_type": "markdown",
   "metadata": {},
   "source": [
    "We create a categorical variable to determine if it's a holiday or not. "
   ]
  },
  {
   "cell_type": "code",
   "execution_count": 11,
   "metadata": {
    "collapsed": false
   },
   "outputs": [],
   "source": [
    "df_final_holiday['is_holiday']=~df_final_holiday['Holiday.Name'].isnull()"
   ]
  },
  {
   "cell_type": "code",
   "execution_count": 347,
   "metadata": {
    "collapsed": false
   },
   "outputs": [
    {
     "data": {
      "text/html": [
       "<div>\n",
       "<style>\n",
       "    .dataframe thead tr:only-child th {\n",
       "        text-align: right;\n",
       "    }\n",
       "\n",
       "    .dataframe thead th {\n",
       "        text-align: left;\n",
       "    }\n",
       "\n",
       "    .dataframe tbody tr th {\n",
       "        vertical-align: top;\n",
       "    }\n",
       "</style>\n",
       "<table border=\"1\" class=\"dataframe\">\n",
       "  <thead>\n",
       "    <tr style=\"text-align: right;\">\n",
       "      <th></th>\n",
       "      <th>Year</th>\n",
       "      <th>Quarter</th>\n",
       "      <th>Month</th>\n",
       "      <th>DayofMonth</th>\n",
       "      <th>DayOfWeek</th>\n",
       "      <th>FlightDate</th>\n",
       "      <th>UniqueCarrier</th>\n",
       "      <th>AirlineID</th>\n",
       "      <th>Carrier</th>\n",
       "      <th>TailNum</th>\n",
       "      <th>FlightNum</th>\n",
       "      <th>OriginAirportID</th>\n",
       "      <th>OriginAirportSeqID</th>\n",
       "      <th>OriginCityMarketID</th>\n",
       "      <th>Origin</th>\n",
       "      <th>OriginCityName</th>\n",
       "      <th>OriginState</th>\n",
       "      <th>OriginStateFips</th>\n",
       "      <th>OriginStateName</th>\n",
       "      <th>OriginWac</th>\n",
       "      <th>DestAirportID</th>\n",
       "      <th>DestAirportSeqID</th>\n",
       "      <th>DestCityMarketID</th>\n",
       "      <th>Dest</th>\n",
       "      <th>DestCityName</th>\n",
       "      <th>DestState</th>\n",
       "      <th>DestStateFips</th>\n",
       "      <th>DestStateName</th>\n",
       "      <th>DestWac</th>\n",
       "      <th>CRSDepTime</th>\n",
       "      <th>CRSArrTime</th>\n",
       "      <th>Distance</th>\n",
       "      <th>DepDelay</th>\n",
       "      <th>DepDelay_log</th>\n",
       "      <th>DepDelay_class</th>\n",
       "      <th>DepDelay_pos</th>\n",
       "      <th>hour</th>\n",
       "      <th>Date</th>\n",
       "      <th>Weekday</th>\n",
       "      <th>Holiday.Name</th>\n",
       "      <th>Holiday.Type</th>\n",
       "      <th>is_holiday</th>\n",
       "    </tr>\n",
       "  </thead>\n",
       "  <tbody>\n",
       "    <tr>\n",
       "      <th>0</th>\n",
       "      <td>2016</td>\n",
       "      <td>1</td>\n",
       "      <td>1</td>\n",
       "      <td>6</td>\n",
       "      <td>3</td>\n",
       "      <td>2016-01-06</td>\n",
       "      <td>AA</td>\n",
       "      <td>19805</td>\n",
       "      <td>AA</td>\n",
       "      <td>N4YBAA</td>\n",
       "      <td>43</td>\n",
       "      <td>11298</td>\n",
       "      <td>1129804</td>\n",
       "      <td>30194</td>\n",
       "      <td>DFW</td>\n",
       "      <td>Dallas/Fort Worth, TX</td>\n",
       "      <td>TX</td>\n",
       "      <td>48</td>\n",
       "      <td>Texas</td>\n",
       "      <td>74</td>\n",
       "      <td>11433</td>\n",
       "      <td>1143302</td>\n",
       "      <td>31295</td>\n",
       "      <td>DTW</td>\n",
       "      <td>Detroit, MI</td>\n",
       "      <td>MI</td>\n",
       "      <td>26</td>\n",
       "      <td>Michigan</td>\n",
       "      <td>43</td>\n",
       "      <td>2016-01-06 11:00:00</td>\n",
       "      <td>1438</td>\n",
       "      <td>986.0</td>\n",
       "      <td>-3.0</td>\n",
       "      <td>0.000000</td>\n",
       "      <td>0</td>\n",
       "      <td>0.0</td>\n",
       "      <td>11</td>\n",
       "      <td>NaN</td>\n",
       "      <td>NaN</td>\n",
       "      <td>NaN</td>\n",
       "      <td>NaN</td>\n",
       "      <td>False</td>\n",
       "    </tr>\n",
       "    <tr>\n",
       "      <th>1</th>\n",
       "      <td>2016</td>\n",
       "      <td>1</td>\n",
       "      <td>1</td>\n",
       "      <td>7</td>\n",
       "      <td>4</td>\n",
       "      <td>2016-01-07</td>\n",
       "      <td>AA</td>\n",
       "      <td>19805</td>\n",
       "      <td>AA</td>\n",
       "      <td>N434AA</td>\n",
       "      <td>43</td>\n",
       "      <td>11298</td>\n",
       "      <td>1129804</td>\n",
       "      <td>30194</td>\n",
       "      <td>DFW</td>\n",
       "      <td>Dallas/Fort Worth, TX</td>\n",
       "      <td>TX</td>\n",
       "      <td>48</td>\n",
       "      <td>Texas</td>\n",
       "      <td>74</td>\n",
       "      <td>11433</td>\n",
       "      <td>1143302</td>\n",
       "      <td>31295</td>\n",
       "      <td>DTW</td>\n",
       "      <td>Detroit, MI</td>\n",
       "      <td>MI</td>\n",
       "      <td>26</td>\n",
       "      <td>Michigan</td>\n",
       "      <td>43</td>\n",
       "      <td>2016-01-07 11:00:00</td>\n",
       "      <td>1438</td>\n",
       "      <td>986.0</td>\n",
       "      <td>-4.0</td>\n",
       "      <td>0.000000</td>\n",
       "      <td>0</td>\n",
       "      <td>0.0</td>\n",
       "      <td>11</td>\n",
       "      <td>NaN</td>\n",
       "      <td>NaN</td>\n",
       "      <td>NaN</td>\n",
       "      <td>NaN</td>\n",
       "      <td>False</td>\n",
       "    </tr>\n",
       "    <tr>\n",
       "      <th>2</th>\n",
       "      <td>2016</td>\n",
       "      <td>1</td>\n",
       "      <td>1</td>\n",
       "      <td>8</td>\n",
       "      <td>5</td>\n",
       "      <td>2016-01-08</td>\n",
       "      <td>AA</td>\n",
       "      <td>19805</td>\n",
       "      <td>AA</td>\n",
       "      <td>N541AA</td>\n",
       "      <td>43</td>\n",
       "      <td>11298</td>\n",
       "      <td>1129804</td>\n",
       "      <td>30194</td>\n",
       "      <td>DFW</td>\n",
       "      <td>Dallas/Fort Worth, TX</td>\n",
       "      <td>TX</td>\n",
       "      <td>48</td>\n",
       "      <td>Texas</td>\n",
       "      <td>74</td>\n",
       "      <td>11433</td>\n",
       "      <td>1143302</td>\n",
       "      <td>31295</td>\n",
       "      <td>DTW</td>\n",
       "      <td>Detroit, MI</td>\n",
       "      <td>MI</td>\n",
       "      <td>26</td>\n",
       "      <td>Michigan</td>\n",
       "      <td>43</td>\n",
       "      <td>2016-01-08 11:00:00</td>\n",
       "      <td>1438</td>\n",
       "      <td>986.0</td>\n",
       "      <td>-5.0</td>\n",
       "      <td>0.000000</td>\n",
       "      <td>0</td>\n",
       "      <td>0.0</td>\n",
       "      <td>11</td>\n",
       "      <td>NaN</td>\n",
       "      <td>NaN</td>\n",
       "      <td>NaN</td>\n",
       "      <td>NaN</td>\n",
       "      <td>False</td>\n",
       "    </tr>\n",
       "    <tr>\n",
       "      <th>3</th>\n",
       "      <td>2016</td>\n",
       "      <td>1</td>\n",
       "      <td>1</td>\n",
       "      <td>9</td>\n",
       "      <td>6</td>\n",
       "      <td>2016-01-09</td>\n",
       "      <td>AA</td>\n",
       "      <td>19805</td>\n",
       "      <td>AA</td>\n",
       "      <td>N489AA</td>\n",
       "      <td>43</td>\n",
       "      <td>11298</td>\n",
       "      <td>1129804</td>\n",
       "      <td>30194</td>\n",
       "      <td>DFW</td>\n",
       "      <td>Dallas/Fort Worth, TX</td>\n",
       "      <td>TX</td>\n",
       "      <td>48</td>\n",
       "      <td>Texas</td>\n",
       "      <td>74</td>\n",
       "      <td>11433</td>\n",
       "      <td>1143302</td>\n",
       "      <td>31295</td>\n",
       "      <td>DTW</td>\n",
       "      <td>Detroit, MI</td>\n",
       "      <td>MI</td>\n",
       "      <td>26</td>\n",
       "      <td>Michigan</td>\n",
       "      <td>43</td>\n",
       "      <td>2016-01-09 11:00:00</td>\n",
       "      <td>1438</td>\n",
       "      <td>986.0</td>\n",
       "      <td>2.0</td>\n",
       "      <td>0.693147</td>\n",
       "      <td>0</td>\n",
       "      <td>2.0</td>\n",
       "      <td>11</td>\n",
       "      <td>NaN</td>\n",
       "      <td>NaN</td>\n",
       "      <td>NaN</td>\n",
       "      <td>NaN</td>\n",
       "      <td>False</td>\n",
       "    </tr>\n",
       "    <tr>\n",
       "      <th>4</th>\n",
       "      <td>2016</td>\n",
       "      <td>1</td>\n",
       "      <td>1</td>\n",
       "      <td>10</td>\n",
       "      <td>7</td>\n",
       "      <td>2016-01-10</td>\n",
       "      <td>AA</td>\n",
       "      <td>19805</td>\n",
       "      <td>AA</td>\n",
       "      <td>N439AA</td>\n",
       "      <td>43</td>\n",
       "      <td>11298</td>\n",
       "      <td>1129804</td>\n",
       "      <td>30194</td>\n",
       "      <td>DFW</td>\n",
       "      <td>Dallas/Fort Worth, TX</td>\n",
       "      <td>TX</td>\n",
       "      <td>48</td>\n",
       "      <td>Texas</td>\n",
       "      <td>74</td>\n",
       "      <td>11433</td>\n",
       "      <td>1143302</td>\n",
       "      <td>31295</td>\n",
       "      <td>DTW</td>\n",
       "      <td>Detroit, MI</td>\n",
       "      <td>MI</td>\n",
       "      <td>26</td>\n",
       "      <td>Michigan</td>\n",
       "      <td>43</td>\n",
       "      <td>2016-01-10 11:00:00</td>\n",
       "      <td>1438</td>\n",
       "      <td>986.0</td>\n",
       "      <td>100.0</td>\n",
       "      <td>4.605170</td>\n",
       "      <td>1</td>\n",
       "      <td>100.0</td>\n",
       "      <td>11</td>\n",
       "      <td>NaN</td>\n",
       "      <td>NaN</td>\n",
       "      <td>NaN</td>\n",
       "      <td>NaN</td>\n",
       "      <td>False</td>\n",
       "    </tr>\n",
       "  </tbody>\n",
       "</table>\n",
       "</div>"
      ],
      "text/plain": [
       "   Year  Quarter  Month  DayofMonth  DayOfWeek  FlightDate UniqueCarrier  \\\n",
       "0  2016        1      1           6          3  2016-01-06            AA   \n",
       "1  2016        1      1           7          4  2016-01-07            AA   \n",
       "2  2016        1      1           8          5  2016-01-08            AA   \n",
       "3  2016        1      1           9          6  2016-01-09            AA   \n",
       "4  2016        1      1          10          7  2016-01-10            AA   \n",
       "\n",
       "   AirlineID Carrier TailNum  FlightNum  OriginAirportID  OriginAirportSeqID  \\\n",
       "0      19805      AA  N4YBAA         43            11298             1129804   \n",
       "1      19805      AA  N434AA         43            11298             1129804   \n",
       "2      19805      AA  N541AA         43            11298             1129804   \n",
       "3      19805      AA  N489AA         43            11298             1129804   \n",
       "4      19805      AA  N439AA         43            11298             1129804   \n",
       "\n",
       "   OriginCityMarketID Origin         OriginCityName OriginState  \\\n",
       "0               30194    DFW  Dallas/Fort Worth, TX          TX   \n",
       "1               30194    DFW  Dallas/Fort Worth, TX          TX   \n",
       "2               30194    DFW  Dallas/Fort Worth, TX          TX   \n",
       "3               30194    DFW  Dallas/Fort Worth, TX          TX   \n",
       "4               30194    DFW  Dallas/Fort Worth, TX          TX   \n",
       "\n",
       "   OriginStateFips OriginStateName  OriginWac  DestAirportID  \\\n",
       "0               48           Texas         74          11433   \n",
       "1               48           Texas         74          11433   \n",
       "2               48           Texas         74          11433   \n",
       "3               48           Texas         74          11433   \n",
       "4               48           Texas         74          11433   \n",
       "\n",
       "   DestAirportSeqID  DestCityMarketID Dest DestCityName DestState  \\\n",
       "0           1143302             31295  DTW  Detroit, MI        MI   \n",
       "1           1143302             31295  DTW  Detroit, MI        MI   \n",
       "2           1143302             31295  DTW  Detroit, MI        MI   \n",
       "3           1143302             31295  DTW  Detroit, MI        MI   \n",
       "4           1143302             31295  DTW  Detroit, MI        MI   \n",
       "\n",
       "   DestStateFips DestStateName  DestWac          CRSDepTime  CRSArrTime  \\\n",
       "0             26      Michigan       43 2016-01-06 11:00:00        1438   \n",
       "1             26      Michigan       43 2016-01-07 11:00:00        1438   \n",
       "2             26      Michigan       43 2016-01-08 11:00:00        1438   \n",
       "3             26      Michigan       43 2016-01-09 11:00:00        1438   \n",
       "4             26      Michigan       43 2016-01-10 11:00:00        1438   \n",
       "\n",
       "   Distance  DepDelay  DepDelay_log  DepDelay_class  DepDelay_pos hour Date  \\\n",
       "0     986.0      -3.0      0.000000               0           0.0   11  NaN   \n",
       "1     986.0      -4.0      0.000000               0           0.0   11  NaN   \n",
       "2     986.0      -5.0      0.000000               0           0.0   11  NaN   \n",
       "3     986.0       2.0      0.693147               0           2.0   11  NaN   \n",
       "4     986.0     100.0      4.605170               1         100.0   11  NaN   \n",
       "\n",
       "  Weekday Holiday.Name Holiday.Type  is_holiday  \n",
       "0     NaN          NaN          NaN       False  \n",
       "1     NaN          NaN          NaN       False  \n",
       "2     NaN          NaN          NaN       False  \n",
       "3     NaN          NaN          NaN       False  \n",
       "4     NaN          NaN          NaN       False  "
      ]
     },
     "execution_count": 347,
     "metadata": {},
     "output_type": "execute_result"
    }
   ],
   "source": [
    "df_final_holiday.head()"
   ]
  },
  {
   "cell_type": "markdown",
   "metadata": {},
   "source": [
    "Let's see if holidays are more correlated with delays. It turns out there are overall less delays on holidays."
   ]
  },
  {
   "cell_type": "code",
   "execution_count": 13,
   "metadata": {
    "collapsed": false
   },
   "outputs": [
    {
     "data": {
      "text/plain": [
       "is_holiday\n",
       "False    9.086116\n",
       "True     7.099671\n",
       "Name: DepDelay, dtype: float64"
      ]
     },
     "execution_count": 13,
     "metadata": {},
     "output_type": "execute_result"
    }
   ],
   "source": [
    "df_final_holiday.groupby('is_holiday')['DepDelay'].mean()"
   ]
  },
  {
   "cell_type": "markdown",
   "metadata": {},
   "source": [
    "** Delays by particular holiday: **"
   ]
  },
  {
   "cell_type": "markdown",
   "metadata": {},
   "source": [
    "We see here that Chritmas day and President's day are the worst. Given that the mean delay is 8.9 minutes\n",
    "as observed above, we see that most holidays have less delay. Thanksgiving day has a very low delay, most likely\n",
    "since everyone stays local or within driving distance for this particular holiday."
   ]
  },
  {
   "cell_type": "code",
   "execution_count": 310,
   "metadata": {
    "collapsed": false
   },
   "outputs": [
    {
     "data": {
      "text/plain": [
       "Holiday.Name\n",
       "Chanukah/Hanukkah (first day)     7.089130\n",
       "Christmas Day                     7.089130\n",
       "Christmas Day observed           18.797550\n",
       "Christmas Eve                     8.553534\n",
       "Columbus Day                      4.599096\n",
       "Dussehra                          4.599096\n",
       "Easter Monday                     8.446117\n",
       "Easter Sunday                     5.741386\n",
       "Eid al-Adha                       4.190807\n",
       "Eid al-Fitr                      18.101829\n",
       "Ganesh Chaturthi                 -0.047114\n",
       "Good Friday                      11.126024\n",
       "Holi                              5.544060\n",
       "Independence Day                  3.480856\n",
       "Isra and Mi'raj                   7.077166\n",
       "Janmashtami                       4.618030\n",
       "Labor Day                         2.478333\n",
       "Lailat al-Qadr                   10.145052\n",
       "Last Day of Passover              9.650568\n",
       "Last Day of Sukkot                6.270130\n",
       "Maha Shivaratri                   5.109192\n",
       "Martin Luther King Jr. Day       10.569690\n",
       "Memorial Day                      3.067235\n",
       "Muharram                          2.728447\n",
       "Navaratri                         2.705753\n",
       "New Year’s Day                    6.784034\n",
       "Passover (first day)              2.048592\n",
       "Presidents' Day                  22.325166\n",
       "Raksha Bandhan                   10.225779\n",
       "Ramadan starts                    7.309587\n",
       "Rosh Hashana                      2.728447\n",
       "Thanksgiving Day                 -0.527735\n",
       "The Prophet's Birthday           11.500886\n",
       "Veterans Day                      5.739266\n",
       "Yom Kippur                        3.286065\n",
       "Name: DepDelay, dtype: float64"
      ]
     },
     "execution_count": 310,
     "metadata": {},
     "output_type": "execute_result"
    }
   ],
   "source": [
    "df_final_holiday.groupby('Holiday.Name')['DepDelay'].mean()"
   ]
  },
  {
   "cell_type": "markdown",
   "metadata": {},
   "source": [
    "We see that Hindu holidays actually have the lowest delays overall. State holidays appear to be the worst - suggesting that people leave town for the weekend."
   ]
  },
  {
   "cell_type": "code",
   "execution_count": 345,
   "metadata": {
    "collapsed": false
   },
   "outputs": [
    {
     "data": {
      "text/plain": [
       "Holiday.Type\n",
       "Christian                 8.446117\n",
       "Federal Holiday           7.980103\n",
       "Hindu Holiday             4.926383\n",
       "Jewish holiday            5.022378\n",
       "Muslim                    8.749381\n",
       "Observance, Christian     6.974810\n",
       "State holiday            11.126024\n",
       "Name: DepDelay, dtype: float64"
      ]
     },
     "execution_count": 345,
     "metadata": {},
     "output_type": "execute_result"
    }
   ],
   "source": [
    "df_final_holiday.groupby('Holiday.Type')['DepDelay'].mean()"
   ]
  },
  {
   "cell_type": "markdown",
   "metadata": {
    "collapsed": true
   },
   "source": [
    "## Conclusions\n",
    "\n",
    "1. The time of the year and the time of day seem to have a large impact on delays. This suggests that traffic\n",
    "is actually to blame. In the summer season when people are on vacation, or the fact that most people prefer to have\n",
    "mid day or early evening flights suggets this. \n",
    "\n",
    "2. The distribution over given days appears to be well approximated by a fractional Poisson distribution, implying\n",
    "that some kind of Poisson regresion time series model may be the most appropriate. "
   ]
  },
  {
   "cell_type": "markdown",
   "metadata": {},
   "source": [
    "# Part IV: Feature Engineering"
   ]
  },
  {
   "cell_type": "markdown",
   "metadata": {},
   "source": [
    "# IV.1) Weather"
   ]
  },
  {
   "cell_type": "markdown",
   "metadata": {},
   "source": [
    "Here we load in the weather data generated in the other notebook."
   ]
  },
  {
   "cell_type": "code",
   "execution_count": 787,
   "metadata": {
    "collapsed": true
   },
   "outputs": [],
   "source": [
    "df_weather = pd.read_csv('../data/weather/all_weather_data_agg.tsv',sep='\\t')"
   ]
  },
  {
   "cell_type": "code",
   "execution_count": 788,
   "metadata": {
    "collapsed": false
   },
   "outputs": [
    {
     "data": {
      "text/html": [
       "<div>\n",
       "<style>\n",
       "    .dataframe thead tr:only-child th {\n",
       "        text-align: right;\n",
       "    }\n",
       "\n",
       "    .dataframe thead th {\n",
       "        text-align: left;\n",
       "    }\n",
       "\n",
       "    .dataframe tbody tr th {\n",
       "        vertical-align: top;\n",
       "    }\n",
       "</style>\n",
       "<table border=\"1\" class=\"dataframe\">\n",
       "  <thead>\n",
       "    <tr style=\"text-align: right;\">\n",
       "      <th></th>\n",
       "      <th>locationID</th>\n",
       "      <th>airport_code</th>\n",
       "      <th>lat</th>\n",
       "      <th>lon</th>\n",
       "      <th>date</th>\n",
       "      <th>TMAX</th>\n",
       "      <th>TMIN</th>\n",
       "      <th>PRCP</th>\n",
       "      <th>AWND</th>\n",
       "      <th>TAVG</th>\n",
       "      <th>WDF2</th>\n",
       "      <th>WDF5</th>\n",
       "      <th>WSF2</th>\n",
       "      <th>WSF5</th>\n",
       "      <th>TOBS</th>\n",
       "      <th>SNOW</th>\n",
       "      <th>SNWD</th>\n",
       "      <th>WT01</th>\n",
       "      <th>WT08</th>\n",
       "      <th>WT03</th>\n",
       "      <th>WT02</th>\n",
       "      <th>PSUN</th>\n",
       "      <th>TSUN</th>\n",
       "      <th>PGTM</th>\n",
       "      <th>WESD</th>\n",
       "      <th>WESF</th>\n",
       "      <th>WT05</th>\n",
       "      <th>WT06</th>\n",
       "      <th>WT04</th>\n",
       "      <th>WT11</th>\n",
       "      <th>WT09</th>\n",
       "      <th>DAPR</th>\n",
       "      <th>MDPR</th>\n",
       "      <th>SN32</th>\n",
       "      <th>SX32</th>\n",
       "      <th>WT07</th>\n",
       "      <th>WT10</th>\n",
       "      <th>SN52</th>\n",
       "      <th>SX52</th>\n",
       "      <th>EVAP</th>\n",
       "      <th>MNPN</th>\n",
       "      <th>MXPN</th>\n",
       "      <th>WDMV</th>\n",
       "    </tr>\n",
       "  </thead>\n",
       "  <tbody>\n",
       "    <tr>\n",
       "      <th>0</th>\n",
       "      <td>01FL</td>\n",
       "      <td>USW00012854</td>\n",
       "      <td>28.8</td>\n",
       "      <td>81.2</td>\n",
       "      <td>20160101</td>\n",
       "      <td>289</td>\n",
       "      <td>189</td>\n",
       "      <td>0</td>\n",
       "      <td>26</td>\n",
       "      <td>0</td>\n",
       "      <td>10</td>\n",
       "      <td>20</td>\n",
       "      <td>76</td>\n",
       "      <td>94</td>\n",
       "      <td>0</td>\n",
       "      <td>0</td>\n",
       "      <td>0</td>\n",
       "      <td>1</td>\n",
       "      <td>1</td>\n",
       "      <td>0</td>\n",
       "      <td>1</td>\n",
       "      <td>0</td>\n",
       "      <td>0</td>\n",
       "      <td>0</td>\n",
       "      <td>0</td>\n",
       "      <td>0</td>\n",
       "      <td>0</td>\n",
       "      <td>0</td>\n",
       "      <td>0</td>\n",
       "      <td>0</td>\n",
       "      <td>0</td>\n",
       "      <td>0</td>\n",
       "      <td>0</td>\n",
       "      <td>0</td>\n",
       "      <td>0</td>\n",
       "      <td>0</td>\n",
       "      <td>0</td>\n",
       "      <td>0</td>\n",
       "      <td>0</td>\n",
       "      <td>0</td>\n",
       "      <td>0</td>\n",
       "      <td>0</td>\n",
       "      <td>0</td>\n",
       "    </tr>\n",
       "    <tr>\n",
       "      <th>1</th>\n",
       "      <td>01FL</td>\n",
       "      <td>USW00012854</td>\n",
       "      <td>28.8</td>\n",
       "      <td>81.2</td>\n",
       "      <td>20160102</td>\n",
       "      <td>206</td>\n",
       "      <td>156</td>\n",
       "      <td>0</td>\n",
       "      <td>41</td>\n",
       "      <td>0</td>\n",
       "      <td>360</td>\n",
       "      <td>10</td>\n",
       "      <td>76</td>\n",
       "      <td>89</td>\n",
       "      <td>0</td>\n",
       "      <td>0</td>\n",
       "      <td>0</td>\n",
       "      <td>0</td>\n",
       "      <td>0</td>\n",
       "      <td>0</td>\n",
       "      <td>0</td>\n",
       "      <td>0</td>\n",
       "      <td>0</td>\n",
       "      <td>0</td>\n",
       "      <td>0</td>\n",
       "      <td>0</td>\n",
       "      <td>0</td>\n",
       "      <td>0</td>\n",
       "      <td>0</td>\n",
       "      <td>0</td>\n",
       "      <td>0</td>\n",
       "      <td>0</td>\n",
       "      <td>0</td>\n",
       "      <td>0</td>\n",
       "      <td>0</td>\n",
       "      <td>0</td>\n",
       "      <td>0</td>\n",
       "      <td>0</td>\n",
       "      <td>0</td>\n",
       "      <td>0</td>\n",
       "      <td>0</td>\n",
       "      <td>0</td>\n",
       "      <td>0</td>\n",
       "    </tr>\n",
       "    <tr>\n",
       "      <th>2</th>\n",
       "      <td>01FL</td>\n",
       "      <td>USW00012854</td>\n",
       "      <td>28.8</td>\n",
       "      <td>81.2</td>\n",
       "      <td>20160103</td>\n",
       "      <td>156</td>\n",
       "      <td>89</td>\n",
       "      <td>178</td>\n",
       "      <td>42</td>\n",
       "      <td>0</td>\n",
       "      <td>320</td>\n",
       "      <td>340</td>\n",
       "      <td>76</td>\n",
       "      <td>98</td>\n",
       "      <td>0</td>\n",
       "      <td>0</td>\n",
       "      <td>0</td>\n",
       "      <td>1</td>\n",
       "      <td>0</td>\n",
       "      <td>0</td>\n",
       "      <td>0</td>\n",
       "      <td>0</td>\n",
       "      <td>0</td>\n",
       "      <td>0</td>\n",
       "      <td>0</td>\n",
       "      <td>0</td>\n",
       "      <td>0</td>\n",
       "      <td>0</td>\n",
       "      <td>0</td>\n",
       "      <td>0</td>\n",
       "      <td>0</td>\n",
       "      <td>0</td>\n",
       "      <td>0</td>\n",
       "      <td>0</td>\n",
       "      <td>0</td>\n",
       "      <td>0</td>\n",
       "      <td>0</td>\n",
       "      <td>0</td>\n",
       "      <td>0</td>\n",
       "      <td>0</td>\n",
       "      <td>0</td>\n",
       "      <td>0</td>\n",
       "      <td>0</td>\n",
       "    </tr>\n",
       "    <tr>\n",
       "      <th>3</th>\n",
       "      <td>01FL</td>\n",
       "      <td>USW00012854</td>\n",
       "      <td>28.8</td>\n",
       "      <td>81.2</td>\n",
       "      <td>20160104</td>\n",
       "      <td>189</td>\n",
       "      <td>78</td>\n",
       "      <td>0</td>\n",
       "      <td>45</td>\n",
       "      <td>0</td>\n",
       "      <td>310</td>\n",
       "      <td>340</td>\n",
       "      <td>72</td>\n",
       "      <td>98</td>\n",
       "      <td>0</td>\n",
       "      <td>0</td>\n",
       "      <td>0</td>\n",
       "      <td>0</td>\n",
       "      <td>0</td>\n",
       "      <td>0</td>\n",
       "      <td>0</td>\n",
       "      <td>0</td>\n",
       "      <td>0</td>\n",
       "      <td>0</td>\n",
       "      <td>0</td>\n",
       "      <td>0</td>\n",
       "      <td>0</td>\n",
       "      <td>0</td>\n",
       "      <td>0</td>\n",
       "      <td>0</td>\n",
       "      <td>0</td>\n",
       "      <td>0</td>\n",
       "      <td>0</td>\n",
       "      <td>0</td>\n",
       "      <td>0</td>\n",
       "      <td>0</td>\n",
       "      <td>0</td>\n",
       "      <td>0</td>\n",
       "      <td>0</td>\n",
       "      <td>0</td>\n",
       "      <td>0</td>\n",
       "      <td>0</td>\n",
       "      <td>0</td>\n",
       "    </tr>\n",
       "    <tr>\n",
       "      <th>4</th>\n",
       "      <td>01FL</td>\n",
       "      <td>USW00012854</td>\n",
       "      <td>28.8</td>\n",
       "      <td>81.2</td>\n",
       "      <td>20160105</td>\n",
       "      <td>200</td>\n",
       "      <td>111</td>\n",
       "      <td>0</td>\n",
       "      <td>54</td>\n",
       "      <td>0</td>\n",
       "      <td>70</td>\n",
       "      <td>70</td>\n",
       "      <td>107</td>\n",
       "      <td>134</td>\n",
       "      <td>0</td>\n",
       "      <td>0</td>\n",
       "      <td>0</td>\n",
       "      <td>0</td>\n",
       "      <td>0</td>\n",
       "      <td>0</td>\n",
       "      <td>0</td>\n",
       "      <td>0</td>\n",
       "      <td>0</td>\n",
       "      <td>0</td>\n",
       "      <td>0</td>\n",
       "      <td>0</td>\n",
       "      <td>0</td>\n",
       "      <td>0</td>\n",
       "      <td>0</td>\n",
       "      <td>0</td>\n",
       "      <td>0</td>\n",
       "      <td>0</td>\n",
       "      <td>0</td>\n",
       "      <td>0</td>\n",
       "      <td>0</td>\n",
       "      <td>0</td>\n",
       "      <td>0</td>\n",
       "      <td>0</td>\n",
       "      <td>0</td>\n",
       "      <td>0</td>\n",
       "      <td>0</td>\n",
       "      <td>0</td>\n",
       "      <td>0</td>\n",
       "    </tr>\n",
       "  </tbody>\n",
       "</table>\n",
       "</div>"
      ],
      "text/plain": [
       "  locationID airport_code   lat   lon      date  TMAX  TMIN  PRCP  AWND  TAVG  \\\n",
       "0       01FL  USW00012854  28.8  81.2  20160101   289   189     0    26     0   \n",
       "1       01FL  USW00012854  28.8  81.2  20160102   206   156     0    41     0   \n",
       "2       01FL  USW00012854  28.8  81.2  20160103   156    89   178    42     0   \n",
       "3       01FL  USW00012854  28.8  81.2  20160104   189    78     0    45     0   \n",
       "4       01FL  USW00012854  28.8  81.2  20160105   200   111     0    54     0   \n",
       "\n",
       "   WDF2  WDF5  WSF2  WSF5  TOBS  SNOW  SNWD  WT01  WT08  WT03  WT02  PSUN  \\\n",
       "0    10    20    76    94     0     0     0     1     1     0     1     0   \n",
       "1   360    10    76    89     0     0     0     0     0     0     0     0   \n",
       "2   320   340    76    98     0     0     0     1     0     0     0     0   \n",
       "3   310   340    72    98     0     0     0     0     0     0     0     0   \n",
       "4    70    70   107   134     0     0     0     0     0     0     0     0   \n",
       "\n",
       "   TSUN  PGTM  WESD  WESF  WT05  WT06  WT04  WT11  WT09  DAPR  MDPR  SN32  \\\n",
       "0     0     0     0     0     0     0     0     0     0     0     0     0   \n",
       "1     0     0     0     0     0     0     0     0     0     0     0     0   \n",
       "2     0     0     0     0     0     0     0     0     0     0     0     0   \n",
       "3     0     0     0     0     0     0     0     0     0     0     0     0   \n",
       "4     0     0     0     0     0     0     0     0     0     0     0     0   \n",
       "\n",
       "   SX32  WT07  WT10  SN52  SX52  EVAP  MNPN  MXPN  WDMV  \n",
       "0     0     0     0     0     0     0     0     0     0  \n",
       "1     0     0     0     0     0     0     0     0     0  \n",
       "2     0     0     0     0     0     0     0     0     0  \n",
       "3     0     0     0     0     0     0     0     0     0  \n",
       "4     0     0     0     0     0     0     0     0     0  "
      ]
     },
     "execution_count": 788,
     "metadata": {},
     "output_type": "execute_result"
    }
   ],
   "source": [
    "pd.merge(df_ts,df_weather,how='inner',on='locationID')"
   ]
  },
  {
   "cell_type": "code",
   "execution_count": 6,
   "metadata": {
    "collapsed": false
   },
   "outputs": [],
   "source": [
    "df_final=pd.read_csv('../data/On_Time_Performance/final_cols_fixed.tsv',sep='\\t')"
   ]
  },
  {
   "cell_type": "code",
   "execution_count": 9,
   "metadata": {
    "collapsed": true
   },
   "outputs": [],
   "source": [
    "df_sample = df_final.sample(1000)"
   ]
  },
  {
   "cell_type": "code",
   "execution_count": 10,
   "metadata": {
    "collapsed": true
   },
   "outputs": [],
   "source": [
    "df_weather = pd.read_csv('../data/weather/all_weather_data_agg.tsv',sep='\\t')"
   ]
  },
  {
   "cell_type": "code",
   "execution_count": 11,
   "metadata": {
    "collapsed": false
   },
   "outputs": [
    {
     "data": {
      "text/html": [
       "<div>\n",
       "<style>\n",
       "    .dataframe thead tr:only-child th {\n",
       "        text-align: right;\n",
       "    }\n",
       "\n",
       "    .dataframe thead th {\n",
       "        text-align: left;\n",
       "    }\n",
       "\n",
       "    .dataframe tbody tr th {\n",
       "        vertical-align: top;\n",
       "    }\n",
       "</style>\n",
       "<table border=\"1\" class=\"dataframe\">\n",
       "  <thead>\n",
       "    <tr style=\"text-align: right;\">\n",
       "      <th></th>\n",
       "      <th>locationID</th>\n",
       "      <th>airport_code</th>\n",
       "      <th>lat</th>\n",
       "      <th>lon</th>\n",
       "      <th>date</th>\n",
       "      <th>TMAX</th>\n",
       "      <th>TMIN</th>\n",
       "      <th>PRCP</th>\n",
       "      <th>AWND</th>\n",
       "      <th>TAVG</th>\n",
       "      <th>WDF2</th>\n",
       "      <th>WDF5</th>\n",
       "      <th>WSF2</th>\n",
       "      <th>WSF5</th>\n",
       "      <th>TOBS</th>\n",
       "      <th>SNOW</th>\n",
       "      <th>SNWD</th>\n",
       "      <th>WT01</th>\n",
       "      <th>WT08</th>\n",
       "      <th>WT03</th>\n",
       "      <th>WT02</th>\n",
       "      <th>PSUN</th>\n",
       "      <th>TSUN</th>\n",
       "      <th>PGTM</th>\n",
       "      <th>WESD</th>\n",
       "      <th>WESF</th>\n",
       "      <th>WT05</th>\n",
       "      <th>WT06</th>\n",
       "      <th>WT04</th>\n",
       "      <th>WT11</th>\n",
       "      <th>WT09</th>\n",
       "      <th>DAPR</th>\n",
       "      <th>MDPR</th>\n",
       "      <th>SN32</th>\n",
       "      <th>SX32</th>\n",
       "      <th>WT07</th>\n",
       "      <th>WT10</th>\n",
       "      <th>SN52</th>\n",
       "      <th>SX52</th>\n",
       "      <th>EVAP</th>\n",
       "      <th>MNPN</th>\n",
       "      <th>MXPN</th>\n",
       "      <th>WDMV</th>\n",
       "    </tr>\n",
       "  </thead>\n",
       "  <tbody>\n",
       "    <tr>\n",
       "      <th>0</th>\n",
       "      <td>01FL</td>\n",
       "      <td>USW00012854</td>\n",
       "      <td>28.8</td>\n",
       "      <td>81.2</td>\n",
       "      <td>20160101</td>\n",
       "      <td>289</td>\n",
       "      <td>189</td>\n",
       "      <td>0</td>\n",
       "      <td>26</td>\n",
       "      <td>0</td>\n",
       "      <td>10</td>\n",
       "      <td>20</td>\n",
       "      <td>76</td>\n",
       "      <td>94</td>\n",
       "      <td>0</td>\n",
       "      <td>0</td>\n",
       "      <td>0</td>\n",
       "      <td>1</td>\n",
       "      <td>1</td>\n",
       "      <td>0</td>\n",
       "      <td>1</td>\n",
       "      <td>0</td>\n",
       "      <td>0</td>\n",
       "      <td>0</td>\n",
       "      <td>0</td>\n",
       "      <td>0</td>\n",
       "      <td>0</td>\n",
       "      <td>0</td>\n",
       "      <td>0</td>\n",
       "      <td>0</td>\n",
       "      <td>0</td>\n",
       "      <td>0</td>\n",
       "      <td>0</td>\n",
       "      <td>0</td>\n",
       "      <td>0</td>\n",
       "      <td>0</td>\n",
       "      <td>0</td>\n",
       "      <td>0</td>\n",
       "      <td>0</td>\n",
       "      <td>0</td>\n",
       "      <td>0</td>\n",
       "      <td>0</td>\n",
       "      <td>0</td>\n",
       "    </tr>\n",
       "    <tr>\n",
       "      <th>1</th>\n",
       "      <td>01FL</td>\n",
       "      <td>USW00012854</td>\n",
       "      <td>28.8</td>\n",
       "      <td>81.2</td>\n",
       "      <td>20160102</td>\n",
       "      <td>206</td>\n",
       "      <td>156</td>\n",
       "      <td>0</td>\n",
       "      <td>41</td>\n",
       "      <td>0</td>\n",
       "      <td>360</td>\n",
       "      <td>10</td>\n",
       "      <td>76</td>\n",
       "      <td>89</td>\n",
       "      <td>0</td>\n",
       "      <td>0</td>\n",
       "      <td>0</td>\n",
       "      <td>0</td>\n",
       "      <td>0</td>\n",
       "      <td>0</td>\n",
       "      <td>0</td>\n",
       "      <td>0</td>\n",
       "      <td>0</td>\n",
       "      <td>0</td>\n",
       "      <td>0</td>\n",
       "      <td>0</td>\n",
       "      <td>0</td>\n",
       "      <td>0</td>\n",
       "      <td>0</td>\n",
       "      <td>0</td>\n",
       "      <td>0</td>\n",
       "      <td>0</td>\n",
       "      <td>0</td>\n",
       "      <td>0</td>\n",
       "      <td>0</td>\n",
       "      <td>0</td>\n",
       "      <td>0</td>\n",
       "      <td>0</td>\n",
       "      <td>0</td>\n",
       "      <td>0</td>\n",
       "      <td>0</td>\n",
       "      <td>0</td>\n",
       "      <td>0</td>\n",
       "    </tr>\n",
       "    <tr>\n",
       "      <th>2</th>\n",
       "      <td>01FL</td>\n",
       "      <td>USW00012854</td>\n",
       "      <td>28.8</td>\n",
       "      <td>81.2</td>\n",
       "      <td>20160103</td>\n",
       "      <td>156</td>\n",
       "      <td>89</td>\n",
       "      <td>178</td>\n",
       "      <td>42</td>\n",
       "      <td>0</td>\n",
       "      <td>320</td>\n",
       "      <td>340</td>\n",
       "      <td>76</td>\n",
       "      <td>98</td>\n",
       "      <td>0</td>\n",
       "      <td>0</td>\n",
       "      <td>0</td>\n",
       "      <td>1</td>\n",
       "      <td>0</td>\n",
       "      <td>0</td>\n",
       "      <td>0</td>\n",
       "      <td>0</td>\n",
       "      <td>0</td>\n",
       "      <td>0</td>\n",
       "      <td>0</td>\n",
       "      <td>0</td>\n",
       "      <td>0</td>\n",
       "      <td>0</td>\n",
       "      <td>0</td>\n",
       "      <td>0</td>\n",
       "      <td>0</td>\n",
       "      <td>0</td>\n",
       "      <td>0</td>\n",
       "      <td>0</td>\n",
       "      <td>0</td>\n",
       "      <td>0</td>\n",
       "      <td>0</td>\n",
       "      <td>0</td>\n",
       "      <td>0</td>\n",
       "      <td>0</td>\n",
       "      <td>0</td>\n",
       "      <td>0</td>\n",
       "      <td>0</td>\n",
       "    </tr>\n",
       "    <tr>\n",
       "      <th>3</th>\n",
       "      <td>01FL</td>\n",
       "      <td>USW00012854</td>\n",
       "      <td>28.8</td>\n",
       "      <td>81.2</td>\n",
       "      <td>20160104</td>\n",
       "      <td>189</td>\n",
       "      <td>78</td>\n",
       "      <td>0</td>\n",
       "      <td>45</td>\n",
       "      <td>0</td>\n",
       "      <td>310</td>\n",
       "      <td>340</td>\n",
       "      <td>72</td>\n",
       "      <td>98</td>\n",
       "      <td>0</td>\n",
       "      <td>0</td>\n",
       "      <td>0</td>\n",
       "      <td>0</td>\n",
       "      <td>0</td>\n",
       "      <td>0</td>\n",
       "      <td>0</td>\n",
       "      <td>0</td>\n",
       "      <td>0</td>\n",
       "      <td>0</td>\n",
       "      <td>0</td>\n",
       "      <td>0</td>\n",
       "      <td>0</td>\n",
       "      <td>0</td>\n",
       "      <td>0</td>\n",
       "      <td>0</td>\n",
       "      <td>0</td>\n",
       "      <td>0</td>\n",
       "      <td>0</td>\n",
       "      <td>0</td>\n",
       "      <td>0</td>\n",
       "      <td>0</td>\n",
       "      <td>0</td>\n",
       "      <td>0</td>\n",
       "      <td>0</td>\n",
       "      <td>0</td>\n",
       "      <td>0</td>\n",
       "      <td>0</td>\n",
       "      <td>0</td>\n",
       "    </tr>\n",
       "    <tr>\n",
       "      <th>4</th>\n",
       "      <td>01FL</td>\n",
       "      <td>USW00012854</td>\n",
       "      <td>28.8</td>\n",
       "      <td>81.2</td>\n",
       "      <td>20160105</td>\n",
       "      <td>200</td>\n",
       "      <td>111</td>\n",
       "      <td>0</td>\n",
       "      <td>54</td>\n",
       "      <td>0</td>\n",
       "      <td>70</td>\n",
       "      <td>70</td>\n",
       "      <td>107</td>\n",
       "      <td>134</td>\n",
       "      <td>0</td>\n",
       "      <td>0</td>\n",
       "      <td>0</td>\n",
       "      <td>0</td>\n",
       "      <td>0</td>\n",
       "      <td>0</td>\n",
       "      <td>0</td>\n",
       "      <td>0</td>\n",
       "      <td>0</td>\n",
       "      <td>0</td>\n",
       "      <td>0</td>\n",
       "      <td>0</td>\n",
       "      <td>0</td>\n",
       "      <td>0</td>\n",
       "      <td>0</td>\n",
       "      <td>0</td>\n",
       "      <td>0</td>\n",
       "      <td>0</td>\n",
       "      <td>0</td>\n",
       "      <td>0</td>\n",
       "      <td>0</td>\n",
       "      <td>0</td>\n",
       "      <td>0</td>\n",
       "      <td>0</td>\n",
       "      <td>0</td>\n",
       "      <td>0</td>\n",
       "      <td>0</td>\n",
       "      <td>0</td>\n",
       "      <td>0</td>\n",
       "    </tr>\n",
       "  </tbody>\n",
       "</table>\n",
       "</div>"
      ],
      "text/plain": [
       "  locationID airport_code   lat   lon      date  TMAX  TMIN  PRCP  AWND  TAVG  \\\n",
       "0       01FL  USW00012854  28.8  81.2  20160101   289   189     0    26     0   \n",
       "1       01FL  USW00012854  28.8  81.2  20160102   206   156     0    41     0   \n",
       "2       01FL  USW00012854  28.8  81.2  20160103   156    89   178    42     0   \n",
       "3       01FL  USW00012854  28.8  81.2  20160104   189    78     0    45     0   \n",
       "4       01FL  USW00012854  28.8  81.2  20160105   200   111     0    54     0   \n",
       "\n",
       "   WDF2  WDF5  WSF2  WSF5  TOBS  SNOW  SNWD  WT01  WT08  WT03  WT02  PSUN  \\\n",
       "0    10    20    76    94     0     0     0     1     1     0     1     0   \n",
       "1   360    10    76    89     0     0     0     0     0     0     0     0   \n",
       "2   320   340    76    98     0     0     0     1     0     0     0     0   \n",
       "3   310   340    72    98     0     0     0     0     0     0     0     0   \n",
       "4    70    70   107   134     0     0     0     0     0     0     0     0   \n",
       "\n",
       "   TSUN  PGTM  WESD  WESF  WT05  WT06  WT04  WT11  WT09  DAPR  MDPR  SN32  \\\n",
       "0     0     0     0     0     0     0     0     0     0     0     0     0   \n",
       "1     0     0     0     0     0     0     0     0     0     0     0     0   \n",
       "2     0     0     0     0     0     0     0     0     0     0     0     0   \n",
       "3     0     0     0     0     0     0     0     0     0     0     0     0   \n",
       "4     0     0     0     0     0     0     0     0     0     0     0     0   \n",
       "\n",
       "   SX32  WT07  WT10  SN52  SX52  EVAP  MNPN  MXPN  WDMV  \n",
       "0     0     0     0     0     0     0     0     0     0  \n",
       "1     0     0     0     0     0     0     0     0     0  \n",
       "2     0     0     0     0     0     0     0     0     0  \n",
       "3     0     0     0     0     0     0     0     0     0  \n",
       "4     0     0     0     0     0     0     0     0     0  "
      ]
     },
     "execution_count": 11,
     "metadata": {},
     "output_type": "execute_result"
    }
   ],
   "source": [
    "df_weather.head()\n"
   ]
  },
  {
   "cell_type": "code",
   "execution_count": 276,
   "metadata": {
    "collapsed": false
   },
   "outputs": [],
   "source": [
    "import re\n",
    "df_sample['date'] = df_sample['FlightDate'].apply(lambda x : int(re.sub(\"-\",\"\",x)))\n",
    "df_sample['locationID'] = df_sample['Origin']\n",
    "df_ts_w=pd.merge(df_sample,df_weather,how='inner',on=['locationID','date'])"
   ]
  },
  {
   "cell_type": "code",
   "execution_count": 68,
   "metadata": {
    "collapsed": false
   },
   "outputs": [],
   "source": [
    "weather_cols = df_weather.columns\n",
    "weather_cols = list(weather_cols) + ['DepDelay']"
   ]
  },
  {
   "cell_type": "code",
   "execution_count": 73,
   "metadata": {
    "collapsed": false
   },
   "outputs": [
    {
     "data": {
      "text/plain": [
       "<matplotlib.axes._subplots.AxesSubplot at 0x11f7e3630>"
      ]
     },
     "execution_count": 73,
     "metadata": {},
     "output_type": "execute_result"
    },
    {
     "data": {
      "image/png": "[encoded data removed]",
      "text/plain": [
       "<matplotlib.figure.Figure at 0x11975f2e8>"
      ]
     },
     "metadata": {},
     "output_type": "display_data"
    }
   ],
   "source": [
    "import seaborn as sns\n",
    "plt.figure(figsize=(10,10))\n",
    "corr = df_ts_w[weather_cols].corr()\n",
    "sns.heatmap(corr)"
   ]
  },
  {
   "cell_type": "markdown",
   "metadata": {},
   "source": [
    "It turns out that the wind speed has the highest correlation with delays, not preciptiation or snow. This most likely is due to planes not arriving at their destinations on time, and thus delaying their subsequent departure."
   ]
  },
  {
   "cell_type": "code",
   "execution_count": 81,
   "metadata": {
    "collapsed": false
   },
   "outputs": [
    {
     "data": {
      "text/plain": [
       "<matplotlib.axes._subplots.AxesSubplot at 0x11fc15b38>"
      ]
     },
     "execution_count": 81,
     "metadata": {},
     "output_type": "execute_result"
    },
    {
     "data": {
      "image/png": "[encoded data removed]",
      "text/plain": [
       "<matplotlib.figure.Figure at 0x11fd42b38>"
      ]
     },
     "metadata": {},
     "output_type": "display_data"
    }
   ],
   "source": [
    "max_corrs = corr['DepDelay'].sort_values()\n",
    "plt.ylabel('Correlation')\n",
    "plt.title('Correlation of weather variables to delay times')\n",
    "max_corrs[::-1].dropna()[1:20].plot(kind='bar')"
   ]
  },
  {
   "cell_type": "markdown",
   "metadata": {},
   "source": [
    "# Plane data "
   ]
  },
  {
   "cell_type": "code",
   "execution_count": 35,
   "metadata": {
    "collapsed": false
   },
   "outputs": [],
   "source": [
    "df_plane_data=pd.read_csv('../data/airport_data/plane-data.csv')"
   ]
  },
  {
   "cell_type": "code",
   "execution_count": 262,
   "metadata": {
    "collapsed": false
   },
   "outputs": [
    {
     "data": {
      "text/html": [
       "<div>\n",
       "<style>\n",
       "    .dataframe thead tr:only-child th {\n",
       "        text-align: right;\n",
       "    }\n",
       "\n",
       "    .dataframe thead th {\n",
       "        text-align: left;\n",
       "    }\n",
       "\n",
       "    .dataframe tbody tr th {\n",
       "        vertical-align: top;\n",
       "    }\n",
       "</style>\n",
       "<table border=\"1\" class=\"dataframe\">\n",
       "  <thead>\n",
       "    <tr style=\"text-align: right;\">\n",
       "      <th></th>\n",
       "      <th>tailnum</th>\n",
       "      <th>type</th>\n",
       "      <th>manufacturer</th>\n",
       "      <th>issue_date</th>\n",
       "      <th>model</th>\n",
       "      <th>status</th>\n",
       "      <th>aircraft_type</th>\n",
       "      <th>engine_type</th>\n",
       "      <th>year</th>\n",
       "      <th>TailNum</th>\n",
       "    </tr>\n",
       "  </thead>\n",
       "  <tbody>\n",
       "    <tr>\n",
       "      <th>34</th>\n",
       "      <td>N10156</td>\n",
       "      <td>Corporation</td>\n",
       "      <td>EMBRAER</td>\n",
       "      <td>02/13/2004</td>\n",
       "      <td>EMB-145XR</td>\n",
       "      <td>Valid</td>\n",
       "      <td>Fixed Wing Multi-Engine</td>\n",
       "      <td>Turbo-Fan</td>\n",
       "      <td>2004</td>\n",
       "      <td>N10156</td>\n",
       "    </tr>\n",
       "    <tr>\n",
       "      <th>35</th>\n",
       "      <td>N102UW</td>\n",
       "      <td>Corporation</td>\n",
       "      <td>AIRBUS INDUSTRIE</td>\n",
       "      <td>05/26/1999</td>\n",
       "      <td>A320-214</td>\n",
       "      <td>Valid</td>\n",
       "      <td>Fixed Wing Multi-Engine</td>\n",
       "      <td>Turbo-Fan</td>\n",
       "      <td>1998</td>\n",
       "      <td>N102UW</td>\n",
       "    </tr>\n",
       "    <tr>\n",
       "      <th>36</th>\n",
       "      <td>N10323</td>\n",
       "      <td>Corporation</td>\n",
       "      <td>BOEING</td>\n",
       "      <td>07/01/1997</td>\n",
       "      <td>737-3TO</td>\n",
       "      <td>Valid</td>\n",
       "      <td>Fixed Wing Multi-Engine</td>\n",
       "      <td>Turbo-Jet</td>\n",
       "      <td>1986</td>\n",
       "      <td>N10323</td>\n",
       "    </tr>\n",
       "    <tr>\n",
       "      <th>37</th>\n",
       "      <td>N103US</td>\n",
       "      <td>Corporation</td>\n",
       "      <td>AIRBUS INDUSTRIE</td>\n",
       "      <td>06/18/1999</td>\n",
       "      <td>A320-214</td>\n",
       "      <td>Valid</td>\n",
       "      <td>Fixed Wing Multi-Engine</td>\n",
       "      <td>Turbo-Fan</td>\n",
       "      <td>1999</td>\n",
       "      <td>N103US</td>\n",
       "    </tr>\n",
       "    <tr>\n",
       "      <th>38</th>\n",
       "      <td>N104UA</td>\n",
       "      <td>Corporation</td>\n",
       "      <td>BOEING</td>\n",
       "      <td>01/26/1998</td>\n",
       "      <td>747-422</td>\n",
       "      <td>Valid</td>\n",
       "      <td>Fixed Wing Multi-Engine</td>\n",
       "      <td>Turbo-Fan</td>\n",
       "      <td>1998</td>\n",
       "      <td>N104UA</td>\n",
       "    </tr>\n",
       "  </tbody>\n",
       "</table>\n",
       "</div>"
      ],
      "text/plain": [
       "   tailnum         type      manufacturer  issue_date      model status  \\\n",
       "34  N10156  Corporation           EMBRAER  02/13/2004  EMB-145XR  Valid   \n",
       "35  N102UW  Corporation  AIRBUS INDUSTRIE  05/26/1999   A320-214  Valid   \n",
       "36  N10323  Corporation            BOEING  07/01/1997    737-3TO  Valid   \n",
       "37  N103US  Corporation  AIRBUS INDUSTRIE  06/18/1999   A320-214  Valid   \n",
       "38  N104UA  Corporation            BOEING  01/26/1998    747-422  Valid   \n",
       "\n",
       "              aircraft_type engine_type  year TailNum  \n",
       "34  Fixed Wing Multi-Engine   Turbo-Fan  2004  N10156  \n",
       "35  Fixed Wing Multi-Engine   Turbo-Fan  1998  N102UW  \n",
       "36  Fixed Wing Multi-Engine   Turbo-Jet  1986  N10323  \n",
       "37  Fixed Wing Multi-Engine   Turbo-Fan  1999  N103US  \n",
       "38  Fixed Wing Multi-Engine   Turbo-Fan  1998  N104UA  "
      ]
     },
     "execution_count": 262,
     "metadata": {},
     "output_type": "execute_result"
    }
   ],
   "source": [
    "df_plane_data.dropna().head()"
   ]
  },
  {
   "cell_type": "code",
   "execution_count": 40,
   "metadata": {
    "collapsed": false
   },
   "outputs": [
    {
     "data": {
      "text/plain": [
       "tailnum          object\n",
       "type             object\n",
       "manufacturer     object\n",
       "issue_date       object\n",
       "model            object\n",
       "status           object\n",
       "aircraft_type    object\n",
       "engine_type      object\n",
       "year             object\n",
       "dtype: object"
      ]
     },
     "execution_count": 40,
     "metadata": {},
     "output_type": "execute_result"
    }
   ],
   "source": [
    "df_plane_data.dtypes"
   ]
  },
  {
   "cell_type": "code",
   "execution_count": 38,
   "metadata": {
    "collapsed": true
   },
   "outputs": [],
   "source": [
    "df_plane_data = df_plane_data.dropna()"
   ]
  },
  {
   "cell_type": "code",
   "execution_count": 84,
   "metadata": {
    "collapsed": false
   },
   "outputs": [
    {
     "data": {
      "text/html": [
       "<div>\n",
       "<style>\n",
       "    .dataframe thead tr:only-child th {\n",
       "        text-align: right;\n",
       "    }\n",
       "\n",
       "    .dataframe thead th {\n",
       "        text-align: left;\n",
       "    }\n",
       "\n",
       "    .dataframe tbody tr th {\n",
       "        vertical-align: top;\n",
       "    }\n",
       "</style>\n",
       "<table border=\"1\" class=\"dataframe\">\n",
       "  <thead>\n",
       "    <tr style=\"text-align: right;\">\n",
       "      <th></th>\n",
       "      <th>tailnum</th>\n",
       "      <th>type</th>\n",
       "      <th>manufacturer</th>\n",
       "      <th>issue_date</th>\n",
       "      <th>model</th>\n",
       "      <th>status</th>\n",
       "      <th>aircraft_type</th>\n",
       "      <th>engine_type</th>\n",
       "      <th>year</th>\n",
       "      <th>TailNum</th>\n",
       "    </tr>\n",
       "  </thead>\n",
       "  <tbody>\n",
       "    <tr>\n",
       "      <th>34</th>\n",
       "      <td>N10156</td>\n",
       "      <td>Corporation</td>\n",
       "      <td>EMBRAER</td>\n",
       "      <td>02/13/2004</td>\n",
       "      <td>EMB-145XR</td>\n",
       "      <td>Valid</td>\n",
       "      <td>Fixed Wing Multi-Engine</td>\n",
       "      <td>Turbo-Fan</td>\n",
       "      <td>2004</td>\n",
       "      <td>N10156</td>\n",
       "    </tr>\n",
       "    <tr>\n",
       "      <th>35</th>\n",
       "      <td>N102UW</td>\n",
       "      <td>Corporation</td>\n",
       "      <td>AIRBUS INDUSTRIE</td>\n",
       "      <td>05/26/1999</td>\n",
       "      <td>A320-214</td>\n",
       "      <td>Valid</td>\n",
       "      <td>Fixed Wing Multi-Engine</td>\n",
       "      <td>Turbo-Fan</td>\n",
       "      <td>1998</td>\n",
       "      <td>N102UW</td>\n",
       "    </tr>\n",
       "    <tr>\n",
       "      <th>36</th>\n",
       "      <td>N10323</td>\n",
       "      <td>Corporation</td>\n",
       "      <td>BOEING</td>\n",
       "      <td>07/01/1997</td>\n",
       "      <td>737-3TO</td>\n",
       "      <td>Valid</td>\n",
       "      <td>Fixed Wing Multi-Engine</td>\n",
       "      <td>Turbo-Jet</td>\n",
       "      <td>1986</td>\n",
       "      <td>N10323</td>\n",
       "    </tr>\n",
       "    <tr>\n",
       "      <th>37</th>\n",
       "      <td>N103US</td>\n",
       "      <td>Corporation</td>\n",
       "      <td>AIRBUS INDUSTRIE</td>\n",
       "      <td>06/18/1999</td>\n",
       "      <td>A320-214</td>\n",
       "      <td>Valid</td>\n",
       "      <td>Fixed Wing Multi-Engine</td>\n",
       "      <td>Turbo-Fan</td>\n",
       "      <td>1999</td>\n",
       "      <td>N103US</td>\n",
       "    </tr>\n",
       "    <tr>\n",
       "      <th>38</th>\n",
       "      <td>N104UA</td>\n",
       "      <td>Corporation</td>\n",
       "      <td>BOEING</td>\n",
       "      <td>01/26/1998</td>\n",
       "      <td>747-422</td>\n",
       "      <td>Valid</td>\n",
       "      <td>Fixed Wing Multi-Engine</td>\n",
       "      <td>Turbo-Fan</td>\n",
       "      <td>1998</td>\n",
       "      <td>N104UA</td>\n",
       "    </tr>\n",
       "  </tbody>\n",
       "</table>\n",
       "</div>"
      ],
      "text/plain": [
       "   tailnum         type      manufacturer  issue_date      model status  \\\n",
       "34  N10156  Corporation           EMBRAER  02/13/2004  EMB-145XR  Valid   \n",
       "35  N102UW  Corporation  AIRBUS INDUSTRIE  05/26/1999   A320-214  Valid   \n",
       "36  N10323  Corporation            BOEING  07/01/1997    737-3TO  Valid   \n",
       "37  N103US  Corporation  AIRBUS INDUSTRIE  06/18/1999   A320-214  Valid   \n",
       "38  N104UA  Corporation            BOEING  01/26/1998    747-422  Valid   \n",
       "\n",
       "              aircraft_type engine_type  year TailNum  \n",
       "34  Fixed Wing Multi-Engine   Turbo-Fan  2004  N10156  \n",
       "35  Fixed Wing Multi-Engine   Turbo-Fan  1998  N102UW  \n",
       "36  Fixed Wing Multi-Engine   Turbo-Jet  1986  N10323  \n",
       "37  Fixed Wing Multi-Engine   Turbo-Fan  1999  N103US  \n",
       "38  Fixed Wing Multi-Engine   Turbo-Fan  1998  N104UA  "
      ]
     },
     "execution_count": 84,
     "metadata": {},
     "output_type": "execute_result"
    }
   ],
   "source": [
    "df_plane_data.head()"
   ]
  },
  {
   "cell_type": "code",
   "execution_count": 264,
   "metadata": {
    "collapsed": false
   },
   "outputs": [
    {
     "data": {
      "text/plain": [
       "724"
      ]
     },
     "execution_count": 264,
     "metadata": {},
     "output_type": "execute_result"
    }
   ],
   "source": [
    "len(df_ts_w)"
   ]
  },
  {
   "cell_type": "code",
   "execution_count": 86,
   "metadata": {
    "collapsed": false
   },
   "outputs": [],
   "source": [
    "plane_cols = df_plane_data.columns.values"
   ]
  },
  {
   "cell_type": "code",
   "execution_count": 88,
   "metadata": {
    "collapsed": false
   },
   "outputs": [],
   "source": [
    "plane_cols = list(plane_cols) + ['DepDelay']"
   ]
  },
  {
   "cell_type": "code",
   "execution_count": 280,
   "metadata": {
    "collapsed": true
   },
   "outputs": [],
   "source": [
    "df_plane_data['TailNum'] =df_plane_data['tailnum']\n",
    "df_ts_wp = pd.merge(df_ts_w,df_plane_data,how='inner',on='TailNum')"
   ]
  },
  {
   "cell_type": "markdown",
   "metadata": {},
   "source": [
    "## Holiday Data"
   ]
  },
  {
   "cell_type": "markdown",
   "metadata": {},
   "source": [
    "## Merging\n"
   ]
  },
  {
   "cell_type": "code",
   "execution_count": 394,
   "metadata": {
    "collapsed": true
   },
   "outputs": [],
   "source": [
    "df_plane_data['TailNum'] =df_plane_data['tailnum']\n",
    "df_ts_wp = pd.merge(df_final_feat,df_plane_data,how='inner',on='TailNum')"
   ]
  },
  {
   "cell_type": "code",
   "execution_count": 286,
   "metadata": {
    "collapsed": false
   },
   "outputs": [
    {
     "data": {
      "text/html": [
       "<div>\n",
       "<style>\n",
       "    .dataframe thead tr:only-child th {\n",
       "        text-align: right;\n",
       "    }\n",
       "\n",
       "    .dataframe thead th {\n",
       "        text-align: left;\n",
       "    }\n",
       "\n",
       "    .dataframe tbody tr th {\n",
       "        vertical-align: top;\n",
       "    }\n",
       "</style>\n",
       "<table border=\"1\" class=\"dataframe\">\n",
       "  <thead>\n",
       "    <tr style=\"text-align: right;\">\n",
       "      <th></th>\n",
       "      <th>Year</th>\n",
       "      <th>Quarter</th>\n",
       "      <th>Month</th>\n",
       "      <th>DayofMonth</th>\n",
       "      <th>DayOfWeek</th>\n",
       "      <th>FlightDate</th>\n",
       "      <th>UniqueCarrier</th>\n",
       "      <th>AirlineID</th>\n",
       "      <th>Carrier</th>\n",
       "      <th>TailNum</th>\n",
       "      <th>FlightNum</th>\n",
       "      <th>OriginAirportID</th>\n",
       "      <th>OriginAirportSeqID</th>\n",
       "      <th>OriginCityMarketID</th>\n",
       "      <th>Origin</th>\n",
       "      <th>OriginCityName</th>\n",
       "      <th>OriginState</th>\n",
       "      <th>OriginStateFips</th>\n",
       "      <th>OriginStateName</th>\n",
       "      <th>OriginWac</th>\n",
       "      <th>DestAirportID</th>\n",
       "      <th>DestAirportSeqID</th>\n",
       "      <th>DestCityMarketID</th>\n",
       "      <th>Dest</th>\n",
       "      <th>DestCityName</th>\n",
       "      <th>DestState</th>\n",
       "      <th>DestStateFips</th>\n",
       "      <th>DestStateName</th>\n",
       "      <th>DestWac</th>\n",
       "      <th>CRSDepTime</th>\n",
       "      <th>CRSArrTime</th>\n",
       "      <th>Distance</th>\n",
       "      <th>DepDelay</th>\n",
       "      <th>locationID</th>\n",
       "      <th>date</th>\n",
       "      <th>airport_code</th>\n",
       "      <th>lat</th>\n",
       "      <th>lon</th>\n",
       "      <th>TMAX</th>\n",
       "      <th>TMIN</th>\n",
       "      <th>PRCP</th>\n",
       "      <th>AWND</th>\n",
       "      <th>TAVG</th>\n",
       "      <th>WDF2</th>\n",
       "      <th>WDF5</th>\n",
       "      <th>WSF2</th>\n",
       "      <th>WSF5</th>\n",
       "      <th>TOBS</th>\n",
       "      <th>SNOW</th>\n",
       "      <th>SNWD</th>\n",
       "      <th>WT01</th>\n",
       "      <th>WT08</th>\n",
       "      <th>WT03</th>\n",
       "      <th>WT02</th>\n",
       "      <th>PSUN</th>\n",
       "      <th>TSUN</th>\n",
       "      <th>PGTM</th>\n",
       "      <th>WESD</th>\n",
       "      <th>WESF</th>\n",
       "      <th>WT05</th>\n",
       "      <th>WT06</th>\n",
       "      <th>WT04</th>\n",
       "      <th>WT11</th>\n",
       "      <th>WT09</th>\n",
       "      <th>DAPR</th>\n",
       "      <th>MDPR</th>\n",
       "      <th>SN32</th>\n",
       "      <th>SX32</th>\n",
       "      <th>WT07</th>\n",
       "      <th>WT10</th>\n",
       "      <th>SN52</th>\n",
       "      <th>SX52</th>\n",
       "      <th>EVAP</th>\n",
       "      <th>MNPN</th>\n",
       "      <th>MXPN</th>\n",
       "      <th>WDMV</th>\n",
       "      <th>tailnum</th>\n",
       "      <th>type</th>\n",
       "      <th>manufacturer</th>\n",
       "      <th>issue_date</th>\n",
       "      <th>model</th>\n",
       "      <th>status</th>\n",
       "      <th>aircraft_type</th>\n",
       "      <th>engine_type</th>\n",
       "      <th>year</th>\n",
       "    </tr>\n",
       "  </thead>\n",
       "  <tbody>\n",
       "    <tr>\n",
       "      <th>0</th>\n",
       "      <td>2016</td>\n",
       "      <td>2</td>\n",
       "      <td>6</td>\n",
       "      <td>17</td>\n",
       "      <td>5</td>\n",
       "      <td>2016-06-17</td>\n",
       "      <td>HA</td>\n",
       "      <td>19690</td>\n",
       "      <td>HA</td>\n",
       "      <td>N486HA</td>\n",
       "      <td>312</td>\n",
       "      <td>12173</td>\n",
       "      <td>1217302</td>\n",
       "      <td>32134</td>\n",
       "      <td>HNL</td>\n",
       "      <td>Honolulu, HI</td>\n",
       "      <td>HI</td>\n",
       "      <td>15</td>\n",
       "      <td>Hawaii</td>\n",
       "      <td>2</td>\n",
       "      <td>12402</td>\n",
       "      <td>1240203</td>\n",
       "      <td>32402</td>\n",
       "      <td>ITO</td>\n",
       "      <td>Hilo, HI</td>\n",
       "      <td>HI</td>\n",
       "      <td>15</td>\n",
       "      <td>Hawaii</td>\n",
       "      <td>2</td>\n",
       "      <td>2016-06-17 18:32:00</td>\n",
       "      <td>1925</td>\n",
       "      <td>216.0</td>\n",
       "      <td>11.0</td>\n",
       "      <td>HNL</td>\n",
       "      <td>20160617</td>\n",
       "      <td>USW00022521</td>\n",
       "      <td>21.3</td>\n",
       "      <td>157.9</td>\n",
       "      <td>289</td>\n",
       "      <td>228</td>\n",
       "      <td>8</td>\n",
       "      <td>59</td>\n",
       "      <td>254</td>\n",
       "      <td>70</td>\n",
       "      <td>80</td>\n",
       "      <td>116</td>\n",
       "      <td>143</td>\n",
       "      <td>0</td>\n",
       "      <td>0</td>\n",
       "      <td>0</td>\n",
       "      <td>1</td>\n",
       "      <td>1</td>\n",
       "      <td>0</td>\n",
       "      <td>0</td>\n",
       "      <td>0</td>\n",
       "      <td>0</td>\n",
       "      <td>0</td>\n",
       "      <td>0</td>\n",
       "      <td>0</td>\n",
       "      <td>0</td>\n",
       "      <td>0</td>\n",
       "      <td>0</td>\n",
       "      <td>0</td>\n",
       "      <td>0</td>\n",
       "      <td>0</td>\n",
       "      <td>0</td>\n",
       "      <td>0</td>\n",
       "      <td>0</td>\n",
       "      <td>0</td>\n",
       "      <td>0</td>\n",
       "      <td>0</td>\n",
       "      <td>0</td>\n",
       "      <td>0</td>\n",
       "      <td>0</td>\n",
       "      <td>0</td>\n",
       "      <td>0</td>\n",
       "      <td>N486HA</td>\n",
       "      <td>Corporation</td>\n",
       "      <td>BOEING</td>\n",
       "      <td>11/21/2001</td>\n",
       "      <td>717-200</td>\n",
       "      <td>Valid</td>\n",
       "      <td>Fixed Wing Multi-Engine</td>\n",
       "      <td>Turbo-Fan</td>\n",
       "      <td>2001</td>\n",
       "    </tr>\n",
       "    <tr>\n",
       "      <th>1</th>\n",
       "      <td>2016</td>\n",
       "      <td>2</td>\n",
       "      <td>4</td>\n",
       "      <td>14</td>\n",
       "      <td>4</td>\n",
       "      <td>2016-04-14</td>\n",
       "      <td>HA</td>\n",
       "      <td>19690</td>\n",
       "      <td>HA</td>\n",
       "      <td>N486HA</td>\n",
       "      <td>138</td>\n",
       "      <td>12173</td>\n",
       "      <td>1217302</td>\n",
       "      <td>32134</td>\n",
       "      <td>HNL</td>\n",
       "      <td>Honolulu, HI</td>\n",
       "      <td>HI</td>\n",
       "      <td>15</td>\n",
       "      <td>Hawaii</td>\n",
       "      <td>2</td>\n",
       "      <td>12758</td>\n",
       "      <td>1275803</td>\n",
       "      <td>32758</td>\n",
       "      <td>KOA</td>\n",
       "      <td>Kona, HI</td>\n",
       "      <td>HI</td>\n",
       "      <td>15</td>\n",
       "      <td>Hawaii</td>\n",
       "      <td>2</td>\n",
       "      <td>2016-04-14 12:47:00</td>\n",
       "      <td>1334</td>\n",
       "      <td>163.0</td>\n",
       "      <td>0.0</td>\n",
       "      <td>HNL</td>\n",
       "      <td>20160414</td>\n",
       "      <td>USW00022521</td>\n",
       "      <td>21.3</td>\n",
       "      <td>157.9</td>\n",
       "      <td>300</td>\n",
       "      <td>233</td>\n",
       "      <td>3</td>\n",
       "      <td>64</td>\n",
       "      <td>257</td>\n",
       "      <td>80</td>\n",
       "      <td>80</td>\n",
       "      <td>112</td>\n",
       "      <td>134</td>\n",
       "      <td>0</td>\n",
       "      <td>0</td>\n",
       "      <td>0</td>\n",
       "      <td>0</td>\n",
       "      <td>0</td>\n",
       "      <td>0</td>\n",
       "      <td>0</td>\n",
       "      <td>0</td>\n",
       "      <td>0</td>\n",
       "      <td>0</td>\n",
       "      <td>0</td>\n",
       "      <td>0</td>\n",
       "      <td>0</td>\n",
       "      <td>0</td>\n",
       "      <td>0</td>\n",
       "      <td>0</td>\n",
       "      <td>0</td>\n",
       "      <td>0</td>\n",
       "      <td>0</td>\n",
       "      <td>0</td>\n",
       "      <td>0</td>\n",
       "      <td>0</td>\n",
       "      <td>0</td>\n",
       "      <td>0</td>\n",
       "      <td>0</td>\n",
       "      <td>0</td>\n",
       "      <td>0</td>\n",
       "      <td>0</td>\n",
       "      <td>0</td>\n",
       "      <td>N486HA</td>\n",
       "      <td>Corporation</td>\n",
       "      <td>BOEING</td>\n",
       "      <td>11/21/2001</td>\n",
       "      <td>717-200</td>\n",
       "      <td>Valid</td>\n",
       "      <td>Fixed Wing Multi-Engine</td>\n",
       "      <td>Turbo-Fan</td>\n",
       "      <td>2001</td>\n",
       "    </tr>\n",
       "    <tr>\n",
       "      <th>2</th>\n",
       "      <td>2016</td>\n",
       "      <td>1</td>\n",
       "      <td>2</td>\n",
       "      <td>22</td>\n",
       "      <td>1</td>\n",
       "      <td>2016-02-22</td>\n",
       "      <td>HA</td>\n",
       "      <td>19690</td>\n",
       "      <td>HA</td>\n",
       "      <td>N486HA</td>\n",
       "      <td>171</td>\n",
       "      <td>12173</td>\n",
       "      <td>1217302</td>\n",
       "      <td>32134</td>\n",
       "      <td>HNL</td>\n",
       "      <td>Honolulu, HI</td>\n",
       "      <td>HI</td>\n",
       "      <td>15</td>\n",
       "      <td>Hawaii</td>\n",
       "      <td>2</td>\n",
       "      <td>12982</td>\n",
       "      <td>1298202</td>\n",
       "      <td>32982</td>\n",
       "      <td>LIH</td>\n",
       "      <td>Lihue, HI</td>\n",
       "      <td>HI</td>\n",
       "      <td>15</td>\n",
       "      <td>Hawaii</td>\n",
       "      <td>2</td>\n",
       "      <td>2016-02-22 14:10:00</td>\n",
       "      <td>1453</td>\n",
       "      <td>102.0</td>\n",
       "      <td>-4.0</td>\n",
       "      <td>HNL</td>\n",
       "      <td>20160222</td>\n",
       "      <td>USW00022521</td>\n",
       "      <td>21.3</td>\n",
       "      <td>157.9</td>\n",
       "      <td>272</td>\n",
       "      <td>183</td>\n",
       "      <td>0</td>\n",
       "      <td>38</td>\n",
       "      <td>228</td>\n",
       "      <td>340</td>\n",
       "      <td>350</td>\n",
       "      <td>81</td>\n",
       "      <td>125</td>\n",
       "      <td>0</td>\n",
       "      <td>0</td>\n",
       "      <td>0</td>\n",
       "      <td>0</td>\n",
       "      <td>0</td>\n",
       "      <td>0</td>\n",
       "      <td>0</td>\n",
       "      <td>0</td>\n",
       "      <td>0</td>\n",
       "      <td>0</td>\n",
       "      <td>0</td>\n",
       "      <td>0</td>\n",
       "      <td>0</td>\n",
       "      <td>0</td>\n",
       "      <td>0</td>\n",
       "      <td>0</td>\n",
       "      <td>0</td>\n",
       "      <td>0</td>\n",
       "      <td>0</td>\n",
       "      <td>0</td>\n",
       "      <td>0</td>\n",
       "      <td>0</td>\n",
       "      <td>0</td>\n",
       "      <td>0</td>\n",
       "      <td>0</td>\n",
       "      <td>0</td>\n",
       "      <td>0</td>\n",
       "      <td>0</td>\n",
       "      <td>0</td>\n",
       "      <td>N486HA</td>\n",
       "      <td>Corporation</td>\n",
       "      <td>BOEING</td>\n",
       "      <td>11/21/2001</td>\n",
       "      <td>717-200</td>\n",
       "      <td>Valid</td>\n",
       "      <td>Fixed Wing Multi-Engine</td>\n",
       "      <td>Turbo-Fan</td>\n",
       "      <td>2001</td>\n",
       "    </tr>\n",
       "    <tr>\n",
       "      <th>3</th>\n",
       "      <td>2016</td>\n",
       "      <td>3</td>\n",
       "      <td>7</td>\n",
       "      <td>4</td>\n",
       "      <td>1</td>\n",
       "      <td>2016-07-04</td>\n",
       "      <td>HA</td>\n",
       "      <td>19690</td>\n",
       "      <td>HA</td>\n",
       "      <td>N486HA</td>\n",
       "      <td>334</td>\n",
       "      <td>12173</td>\n",
       "      <td>1217302</td>\n",
       "      <td>32134</td>\n",
       "      <td>HNL</td>\n",
       "      <td>Honolulu, HI</td>\n",
       "      <td>HI</td>\n",
       "      <td>15</td>\n",
       "      <td>Hawaii</td>\n",
       "      <td>2</td>\n",
       "      <td>13830</td>\n",
       "      <td>1383002</td>\n",
       "      <td>33830</td>\n",
       "      <td>OGG</td>\n",
       "      <td>Kahului, HI</td>\n",
       "      <td>HI</td>\n",
       "      <td>15</td>\n",
       "      <td>Hawaii</td>\n",
       "      <td>2</td>\n",
       "      <td>2016-07-04 15:03:00</td>\n",
       "      <td>1543</td>\n",
       "      <td>100.0</td>\n",
       "      <td>-6.0</td>\n",
       "      <td>HNL</td>\n",
       "      <td>20160704</td>\n",
       "      <td>USW00022521</td>\n",
       "      <td>21.3</td>\n",
       "      <td>157.9</td>\n",
       "      <td>306</td>\n",
       "      <td>244</td>\n",
       "      <td>8</td>\n",
       "      <td>56</td>\n",
       "      <td>269</td>\n",
       "      <td>60</td>\n",
       "      <td>60</td>\n",
       "      <td>98</td>\n",
       "      <td>125</td>\n",
       "      <td>0</td>\n",
       "      <td>0</td>\n",
       "      <td>0</td>\n",
       "      <td>0</td>\n",
       "      <td>0</td>\n",
       "      <td>0</td>\n",
       "      <td>0</td>\n",
       "      <td>0</td>\n",
       "      <td>0</td>\n",
       "      <td>0</td>\n",
       "      <td>0</td>\n",
       "      <td>0</td>\n",
       "      <td>0</td>\n",
       "      <td>0</td>\n",
       "      <td>0</td>\n",
       "      <td>0</td>\n",
       "      <td>0</td>\n",
       "      <td>0</td>\n",
       "      <td>0</td>\n",
       "      <td>0</td>\n",
       "      <td>0</td>\n",
       "      <td>0</td>\n",
       "      <td>0</td>\n",
       "      <td>0</td>\n",
       "      <td>0</td>\n",
       "      <td>0</td>\n",
       "      <td>0</td>\n",
       "      <td>0</td>\n",
       "      <td>0</td>\n",
       "      <td>N486HA</td>\n",
       "      <td>Corporation</td>\n",
       "      <td>BOEING</td>\n",
       "      <td>11/21/2001</td>\n",
       "      <td>717-200</td>\n",
       "      <td>Valid</td>\n",
       "      <td>Fixed Wing Multi-Engine</td>\n",
       "      <td>Turbo-Fan</td>\n",
       "      <td>2001</td>\n",
       "    </tr>\n",
       "    <tr>\n",
       "      <th>4</th>\n",
       "      <td>2016</td>\n",
       "      <td>2</td>\n",
       "      <td>4</td>\n",
       "      <td>10</td>\n",
       "      <td>7</td>\n",
       "      <td>2016-04-10</td>\n",
       "      <td>HA</td>\n",
       "      <td>19690</td>\n",
       "      <td>HA</td>\n",
       "      <td>N486HA</td>\n",
       "      <td>520</td>\n",
       "      <td>12173</td>\n",
       "      <td>1217302</td>\n",
       "      <td>32134</td>\n",
       "      <td>HNL</td>\n",
       "      <td>Honolulu, HI</td>\n",
       "      <td>HI</td>\n",
       "      <td>15</td>\n",
       "      <td>Hawaii</td>\n",
       "      <td>2</td>\n",
       "      <td>13830</td>\n",
       "      <td>1383002</td>\n",
       "      <td>33830</td>\n",
       "      <td>OGG</td>\n",
       "      <td>Kahului, HI</td>\n",
       "      <td>HI</td>\n",
       "      <td>15</td>\n",
       "      <td>Hawaii</td>\n",
       "      <td>2</td>\n",
       "      <td>2016-04-10 09:45:00</td>\n",
       "      <td>1025</td>\n",
       "      <td>100.0</td>\n",
       "      <td>-8.0</td>\n",
       "      <td>HNL</td>\n",
       "      <td>20160410</td>\n",
       "      <td>USW00022521</td>\n",
       "      <td>21.3</td>\n",
       "      <td>157.9</td>\n",
       "      <td>300</td>\n",
       "      <td>211</td>\n",
       "      <td>0</td>\n",
       "      <td>41</td>\n",
       "      <td>254</td>\n",
       "      <td>40</td>\n",
       "      <td>20</td>\n",
       "      <td>98</td>\n",
       "      <td>116</td>\n",
       "      <td>0</td>\n",
       "      <td>0</td>\n",
       "      <td>0</td>\n",
       "      <td>0</td>\n",
       "      <td>0</td>\n",
       "      <td>0</td>\n",
       "      <td>0</td>\n",
       "      <td>0</td>\n",
       "      <td>0</td>\n",
       "      <td>0</td>\n",
       "      <td>0</td>\n",
       "      <td>0</td>\n",
       "      <td>0</td>\n",
       "      <td>0</td>\n",
       "      <td>0</td>\n",
       "      <td>0</td>\n",
       "      <td>0</td>\n",
       "      <td>0</td>\n",
       "      <td>0</td>\n",
       "      <td>0</td>\n",
       "      <td>0</td>\n",
       "      <td>0</td>\n",
       "      <td>0</td>\n",
       "      <td>0</td>\n",
       "      <td>0</td>\n",
       "      <td>0</td>\n",
       "      <td>0</td>\n",
       "      <td>0</td>\n",
       "      <td>0</td>\n",
       "      <td>N486HA</td>\n",
       "      <td>Corporation</td>\n",
       "      <td>BOEING</td>\n",
       "      <td>11/21/2001</td>\n",
       "      <td>717-200</td>\n",
       "      <td>Valid</td>\n",
       "      <td>Fixed Wing Multi-Engine</td>\n",
       "      <td>Turbo-Fan</td>\n",
       "      <td>2001</td>\n",
       "    </tr>\n",
       "  </tbody>\n",
       "</table>\n",
       "</div>"
      ],
      "text/plain": [
       "   Year  Quarter  Month  DayofMonth  DayOfWeek  FlightDate UniqueCarrier  \\\n",
       "0  2016        2      6          17          5  2016-06-17            HA   \n",
       "1  2016        2      4          14          4  2016-04-14            HA   \n",
       "2  2016        1      2          22          1  2016-02-22            HA   \n",
       "3  2016        3      7           4          1  2016-07-04            HA   \n",
       "4  2016        2      4          10          7  2016-04-10            HA   \n",
       "\n",
       "   AirlineID Carrier TailNum  FlightNum  OriginAirportID  OriginAirportSeqID  \\\n",
       "0      19690      HA  N486HA        312            12173             1217302   \n",
       "1      19690      HA  N486HA        138            12173             1217302   \n",
       "2      19690      HA  N486HA        171            12173             1217302   \n",
       "3      19690      HA  N486HA        334            12173             1217302   \n",
       "4      19690      HA  N486HA        520            12173             1217302   \n",
       "\n",
       "   OriginCityMarketID Origin OriginCityName OriginState  OriginStateFips  \\\n",
       "0               32134    HNL   Honolulu, HI          HI               15   \n",
       "1               32134    HNL   Honolulu, HI          HI               15   \n",
       "2               32134    HNL   Honolulu, HI          HI               15   \n",
       "3               32134    HNL   Honolulu, HI          HI               15   \n",
       "4               32134    HNL   Honolulu, HI          HI               15   \n",
       "\n",
       "  OriginStateName  OriginWac  DestAirportID  DestAirportSeqID  \\\n",
       "0          Hawaii          2          12402           1240203   \n",
       "1          Hawaii          2          12758           1275803   \n",
       "2          Hawaii          2          12982           1298202   \n",
       "3          Hawaii          2          13830           1383002   \n",
       "4          Hawaii          2          13830           1383002   \n",
       "\n",
       "   DestCityMarketID Dest DestCityName DestState  DestStateFips DestStateName  \\\n",
       "0             32402  ITO     Hilo, HI        HI             15        Hawaii   \n",
       "1             32758  KOA     Kona, HI        HI             15        Hawaii   \n",
       "2             32982  LIH    Lihue, HI        HI             15        Hawaii   \n",
       "3             33830  OGG  Kahului, HI        HI             15        Hawaii   \n",
       "4             33830  OGG  Kahului, HI        HI             15        Hawaii   \n",
       "\n",
       "   DestWac           CRSDepTime  CRSArrTime  Distance  DepDelay locationID  \\\n",
       "0        2  2016-06-17 18:32:00        1925     216.0      11.0        HNL   \n",
       "1        2  2016-04-14 12:47:00        1334     163.0       0.0        HNL   \n",
       "2        2  2016-02-22 14:10:00        1453     102.0      -4.0        HNL   \n",
       "3        2  2016-07-04 15:03:00        1543     100.0      -6.0        HNL   \n",
       "4        2  2016-04-10 09:45:00        1025     100.0      -8.0        HNL   \n",
       "\n",
       "       date airport_code   lat    lon  TMAX  TMIN  PRCP  AWND  TAVG  WDF2  \\\n",
       "0  20160617  USW00022521  21.3  157.9   289   228     8    59   254    70   \n",
       "1  20160414  USW00022521  21.3  157.9   300   233     3    64   257    80   \n",
       "2  20160222  USW00022521  21.3  157.9   272   183     0    38   228   340   \n",
       "3  20160704  USW00022521  21.3  157.9   306   244     8    56   269    60   \n",
       "4  20160410  USW00022521  21.3  157.9   300   211     0    41   254    40   \n",
       "\n",
       "   WDF5  WSF2  WSF5  TOBS  SNOW  SNWD  WT01  WT08  WT03  WT02  PSUN  TSUN  \\\n",
       "0    80   116   143     0     0     0     1     1     0     0     0     0   \n",
       "1    80   112   134     0     0     0     0     0     0     0     0     0   \n",
       "2   350    81   125     0     0     0     0     0     0     0     0     0   \n",
       "3    60    98   125     0     0     0     0     0     0     0     0     0   \n",
       "4    20    98   116     0     0     0     0     0     0     0     0     0   \n",
       "\n",
       "   PGTM  WESD  WESF  WT05  WT06  WT04  WT11  WT09  DAPR  MDPR  SN32  SX32  \\\n",
       "0     0     0     0     0     0     0     0     0     0     0     0     0   \n",
       "1     0     0     0     0     0     0     0     0     0     0     0     0   \n",
       "2     0     0     0     0     0     0     0     0     0     0     0     0   \n",
       "3     0     0     0     0     0     0     0     0     0     0     0     0   \n",
       "4     0     0     0     0     0     0     0     0     0     0     0     0   \n",
       "\n",
       "   WT07  WT10  SN52  SX52  EVAP  MNPN  MXPN  WDMV tailnum         type  \\\n",
       "0     0     0     0     0     0     0     0     0  N486HA  Corporation   \n",
       "1     0     0     0     0     0     0     0     0  N486HA  Corporation   \n",
       "2     0     0     0     0     0     0     0     0  N486HA  Corporation   \n",
       "3     0     0     0     0     0     0     0     0  N486HA  Corporation   \n",
       "4     0     0     0     0     0     0     0     0  N486HA  Corporation   \n",
       "\n",
       "  manufacturer  issue_date    model status            aircraft_type  \\\n",
       "0       BOEING  11/21/2001  717-200  Valid  Fixed Wing Multi-Engine   \n",
       "1       BOEING  11/21/2001  717-200  Valid  Fixed Wing Multi-Engine   \n",
       "2       BOEING  11/21/2001  717-200  Valid  Fixed Wing Multi-Engine   \n",
       "3       BOEING  11/21/2001  717-200  Valid  Fixed Wing Multi-Engine   \n",
       "4       BOEING  11/21/2001  717-200  Valid  Fixed Wing Multi-Engine   \n",
       "\n",
       "  engine_type  year  \n",
       "0   Turbo-Fan  2001  \n",
       "1   Turbo-Fan  2001  \n",
       "2   Turbo-Fan  2001  \n",
       "3   Turbo-Fan  2001  \n",
       "4   Turbo-Fan  2001  "
      ]
     },
     "execution_count": 286,
     "metadata": {},
     "output_type": "execute_result"
    }
   ],
   "source": [
    "df_ts_wp.head()"
   ]
  },
  {
   "cell_type": "code",
   "execution_count": 400,
   "metadata": {
    "collapsed": false
   },
   "outputs": [],
   "source": [
    "df_ts_wp['date']=df_ts_wp['FlightDate'].apply(lambda x : re.sub(\"-\",\"\",x))"
   ]
  },
  {
   "cell_type": "code",
   "execution_count": 290,
   "metadata": {
    "collapsed": false
   },
   "outputs": [],
   "source": [
    "df_holidays['date'] = df_holidays['Date'].apply(lambda x : re.sub(\"-\",\"\",x))"
   ]
  },
  {
   "cell_type": "code",
   "execution_count": 401,
   "metadata": {
    "collapsed": false
   },
   "outputs": [],
   "source": [
    "df_ts_wph = pd.merge(df_ts_wp,df_holidays,how='left',on='date')"
   ]
  },
  {
   "cell_type": "code",
   "execution_count": 293,
   "metadata": {
    "collapsed": false
   },
   "outputs": [],
   "source": [
    "df_ts_wph.to_csv('../data/all_data_sampled.tsv',sep='\\t')\n"
   ]
  },
  {
   "cell_type": "markdown",
   "metadata": {},
   "source": [
    "# Busy airports"
   ]
  },
  {
   "cell_type": "code",
   "execution_count": null,
   "metadata": {
    "collapsed": true
   },
   "outputs": [],
   "source": [
    "df_busy = pd.read_csv('../data/airport_data/airport_business.tsv',sep='\\t')"
   ]
  },
  {
   "cell_type": "code",
   "execution_count": 349,
   "metadata": {
    "collapsed": false
   },
   "outputs": [
    {
     "data": {
      "text/html": [
       "<div>\n",
       "<style>\n",
       "    .dataframe thead tr:only-child th {\n",
       "        text-align: right;\n",
       "    }\n",
       "\n",
       "    .dataframe thead th {\n",
       "        text-align: left;\n",
       "    }\n",
       "\n",
       "    .dataframe tbody tr th {\n",
       "        vertical-align: top;\n",
       "    }\n",
       "</style>\n",
       "<table border=\"1\" class=\"dataframe\">\n",
       "  <thead>\n",
       "    <tr style=\"text-align: right;\">\n",
       "      <th></th>\n",
       "      <th>Rank</th>\n",
       "      <th>Locid</th>\n",
       "      <th>S/L</th>\n",
       "      <th>Hub</th>\n",
       "      <th>CY 16 Enplanements</th>\n",
       "      <th>CY 15 Enplanements</th>\n",
       "      <th>% Change</th>\n",
       "    </tr>\n",
       "  </thead>\n",
       "  <tbody>\n",
       "    <tr>\n",
       "      <th>0</th>\n",
       "      <td>1</td>\n",
       "      <td>ATL</td>\n",
       "      <td>P</td>\n",
       "      <td>L</td>\n",
       "      <td>50,476,272</td>\n",
       "      <td>49,340,732</td>\n",
       "      <td>2.30%</td>\n",
       "    </tr>\n",
       "    <tr>\n",
       "      <th>1</th>\n",
       "      <td>2</td>\n",
       "      <td>LAX</td>\n",
       "      <td>P</td>\n",
       "      <td>L</td>\n",
       "      <td>39,635,691</td>\n",
       "      <td>36,351,272</td>\n",
       "      <td>9.04%</td>\n",
       "    </tr>\n",
       "    <tr>\n",
       "      <th>2</th>\n",
       "      <td>3</td>\n",
       "      <td>ORD</td>\n",
       "      <td>P</td>\n",
       "      <td>L</td>\n",
       "      <td>37,499,201</td>\n",
       "      <td>36,305,668</td>\n",
       "      <td>3.29%</td>\n",
       "    </tr>\n",
       "    <tr>\n",
       "      <th>3</th>\n",
       "      <td>4</td>\n",
       "      <td>DFW</td>\n",
       "      <td>P</td>\n",
       "      <td>L</td>\n",
       "      <td>31,274,875</td>\n",
       "      <td>31,589,839</td>\n",
       "      <td>-1.00%</td>\n",
       "    </tr>\n",
       "    <tr>\n",
       "      <th>4</th>\n",
       "      <td>5</td>\n",
       "      <td>JFK</td>\n",
       "      <td>P</td>\n",
       "      <td>L</td>\n",
       "      <td>29,224,554</td>\n",
       "      <td>27,782,369</td>\n",
       "      <td>5.19%</td>\n",
       "    </tr>\n",
       "  </tbody>\n",
       "</table>\n",
       "</div>"
      ],
      "text/plain": [
       "   Rank Locid S/L Hub CY 16 Enplanements CY 15 Enplanements % Change\n",
       "0     1   ATL   P   L         50,476,272         49,340,732    2.30%\n",
       "1     2   LAX   P   L         39,635,691         36,351,272    9.04%\n",
       "2     3   ORD   P   L         37,499,201         36,305,668    3.29%\n",
       "3     4   DFW   P   L         31,274,875         31,589,839   -1.00%\n",
       "4     5   JFK   P   L         29,224,554         27,782,369    5.19%"
      ]
     },
     "execution_count": 349,
     "metadata": {},
     "output_type": "execute_result"
    }
   ],
   "source": [
    "df_busy.head()"
   ]
  },
  {
   "cell_type": "code",
   "execution_count": 367,
   "metadata": {
    "collapsed": true
   },
   "outputs": [],
   "source": [
    "df_busy['Origin'] = df_busy['Locid']"
   ]
  },
  {
   "cell_type": "code",
   "execution_count": 370,
   "metadata": {
    "collapsed": true
   },
   "outputs": [],
   "source": [
    "cols=df_busy.columns.values\n",
    "cols = list(cols) + ['DepDelay_pos']"
   ]
  },
  {
   "cell_type": "code",
   "execution_count": 377,
   "metadata": {
    "collapsed": false
   },
   "outputs": [
    {
     "data": {
      "text/html": [
       "<div>\n",
       "<style>\n",
       "    .dataframe thead tr:only-child th {\n",
       "        text-align: right;\n",
       "    }\n",
       "\n",
       "    .dataframe thead th {\n",
       "        text-align: left;\n",
       "    }\n",
       "\n",
       "    .dataframe tbody tr th {\n",
       "        vertical-align: top;\n",
       "    }\n",
       "</style>\n",
       "<table border=\"1\" class=\"dataframe\">\n",
       "  <thead>\n",
       "    <tr style=\"text-align: right;\">\n",
       "      <th></th>\n",
       "      <th>Rank</th>\n",
       "      <th>CY 16 Enplanements</th>\n",
       "      <th>CY 15 Enplanements</th>\n",
       "      <th>% Change</th>\n",
       "      <th>DepDelay_pos</th>\n",
       "    </tr>\n",
       "  </thead>\n",
       "  <tbody>\n",
       "    <tr>\n",
       "      <th>Rank</th>\n",
       "      <td>1.000000</td>\n",
       "      <td>-0.609457</td>\n",
       "      <td>-0.606620</td>\n",
       "      <td>-0.198179</td>\n",
       "      <td>-0.000178</td>\n",
       "    </tr>\n",
       "    <tr>\n",
       "      <th>CY 16 Enplanements</th>\n",
       "      <td>-0.609457</td>\n",
       "      <td>1.000000</td>\n",
       "      <td>0.999183</td>\n",
       "      <td>0.023120</td>\n",
       "      <td>0.012451</td>\n",
       "    </tr>\n",
       "    <tr>\n",
       "      <th>CY 15 Enplanements</th>\n",
       "      <td>-0.606620</td>\n",
       "      <td>0.999183</td>\n",
       "      <td>1.000000</td>\n",
       "      <td>-0.002103</td>\n",
       "      <td>0.011376</td>\n",
       "    </tr>\n",
       "    <tr>\n",
       "      <th>% Change</th>\n",
       "      <td>-0.198179</td>\n",
       "      <td>0.023120</td>\n",
       "      <td>-0.002103</td>\n",
       "      <td>1.000000</td>\n",
       "      <td>0.019708</td>\n",
       "    </tr>\n",
       "    <tr>\n",
       "      <th>DepDelay_pos</th>\n",
       "      <td>-0.000178</td>\n",
       "      <td>0.012451</td>\n",
       "      <td>0.011376</td>\n",
       "      <td>0.019708</td>\n",
       "      <td>1.000000</td>\n",
       "    </tr>\n",
       "  </tbody>\n",
       "</table>\n",
       "</div>"
      ],
      "text/plain": [
       "                        Rank  CY 16 Enplanements  CY 15 Enplanements  \\\n",
       "Rank                1.000000           -0.609457           -0.606620   \n",
       "CY 16 Enplanements -0.609457            1.000000            0.999183   \n",
       "CY 15 Enplanements -0.606620            0.999183            1.000000   \n",
       "% Change           -0.198179            0.023120           -0.002103   \n",
       "DepDelay_pos       -0.000178            0.012451            0.011376   \n",
       "\n",
       "                    % Change  DepDelay_pos  \n",
       "Rank               -0.198179     -0.000178  \n",
       "CY 16 Enplanements  0.023120      0.012451  \n",
       "CY 15 Enplanements -0.002103      0.011376  \n",
       "% Change            1.000000      0.019708  \n",
       "DepDelay_pos        0.019708      1.000000  "
      ]
     },
     "execution_count": 377,
     "metadata": {},
     "output_type": "execute_result"
    }
   ],
   "source": [
    "df_ts_wph[cols].corr()"
   ]
  },
  {
   "cell_type": "code",
   "execution_count": 404,
   "metadata": {
    "collapsed": false
   },
   "outputs": [],
   "source": [
    "df_ts_wph=pd.merge(df_ts_wph,df_busy,how='inner',on='Origin')"
   ]
  },
  {
   "cell_type": "code",
   "execution_count": 8,
   "metadata": {
    "collapsed": false
   },
   "outputs": [],
   "source": [
    "df_ts_wph=pd.merge(df_ts_wph,df_weather,how='inner',on=['locationID','date'])"
   ]
  },
  {
   "cell_type": "code",
   "execution_count": 9,
   "metadata": {
    "collapsed": false
   },
   "outputs": [],
   "source": [
    "df_ts_wph.to_csv('../data/final_all.tsv',sep='\\t',index=False)"
   ]
  },
  {
   "cell_type": "code",
   "execution_count": 43,
   "metadata": {
    "collapsed": true
   },
   "outputs": [],
   "source": [
    "df_balanced.to_csv('../data/balanced.tsv',sep='\\t',index=False)"
   ]
  }
 ],
 "metadata": {
  "kernelspec": {
   "display_name": "Python 3",
   "language": "python",
   "name": "python3"
  },
  "language_info": {
   "codemirror_mode": {
    "name": "ipython",
    "version": 3
   },
   "file_extension": ".py",
   "mimetype": "text/x-python",
   "name": "python",
   "nbconvert_exporter": "python",
   "pygments_lexer": "ipython3",
   "version": "3.6.0"
  }
 },
 "nbformat": 4,
 "nbformat_minor": 2
}
