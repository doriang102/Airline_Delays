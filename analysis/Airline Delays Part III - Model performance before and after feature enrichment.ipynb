{
 "cells": [
  {
   "cell_type": "markdown",
   "metadata": {},
   "source": [
    "# Model Performance with and without enriched feature set."
   ]
  },
  {
   "cell_type": "markdown",
   "metadata": {},
   "source": [
    "In this section we measure the performance differences between various models before additional variables\n",
    "are added and after."
   ]
  },
  {
   "cell_type": "markdown",
   "metadata": {},
   "source": [
    "### Part I: Performance of original data set.\n",
    "\n",
    "#### I.1 Regression:\n",
    " - I.1a) Logistic Regression.\n",
    " - I.1b) Random Forest.\n",
    " - I.1c) Gradient Boosting.\n",
    " \n",
    "#### I.2 Classification:\n",
    " - I.1a) Logistic Regression.\n",
    " - I.1b) Random Forest.\n",
    " - I.1c) Gradient Boosting.\n",
    " \n",
    "### Part II: Performance with additional variables.\n",
    "\n",
    "#### Regression:\n",
    "- Note done due to poor results above and lack of time.\n",
    "\n",
    "#### II.2 Classification:\n",
    " - I.1a) Logistic Regression.\n",
    " - I.1b) Random Forest.\n",
    " - I.1c) Gradient Boosting."
   ]
  },
  {
   "cell_type": "code",
   "execution_count": 101,
   "metadata": {
    "collapsed": false
   },
   "outputs": [],
   "source": [
    "import pandas as pd\n",
    "# read data into a DataFrame\n",
    "import pandas as pd\n",
    "import pylab as plt\n",
    "import seaborn\n",
    "from sklearn.linear_model import LinearRegression\n",
    "import numpy.random as nprnd\n",
    "import random\n",
    "import json\n",
    "import numpy as np\n",
    "from sklearn.model_selection import train_test_split\n",
    "from scipy.spatial.distance import cosine\n",
    "from sklearn.metrics import pairwise_distances\n",
    "pd.set_option('display.max_columns', 500)\n",
    "%matplotlib inline\n"
   ]
  },
  {
   "cell_type": "code",
   "execution_count": 154,
   "metadata": {
    "collapsed": false
   },
   "outputs": [],
   "source": [
    "df_airline=pd.read_csv('../data/full_dataset_timefixed.tsv',sep='\\t')"
   ]
  },
  {
   "cell_type": "code",
   "execution_count": 23,
   "metadata": {
    "collapsed": true
   },
   "outputs": [],
   "source": [
    "df_original.to_csv('../data/original.tsv',sep='\\t',index=False)"
   ]
  },
  {
   "cell_type": "markdown",
   "metadata": {},
   "source": [
    "Restrict to only original variables for comparison"
   ]
  },
  {
   "cell_type": "code",
   "execution_count": 135,
   "metadata": {
    "collapsed": false
   },
   "outputs": [],
   "source": [
    "\n",
    "df_original=df_airline[df_airline.columns[0:33].values]"
   ]
  },
  {
   "cell_type": "code",
   "execution_count": 136,
   "metadata": {
    "collapsed": false
   },
   "outputs": [
    {
     "data": {
      "text/html": [
       "<div>\n",
       "<style>\n",
       "    .dataframe thead tr:only-child th {\n",
       "        text-align: right;\n",
       "    }\n",
       "\n",
       "    .dataframe thead th {\n",
       "        text-align: left;\n",
       "    }\n",
       "\n",
       "    .dataframe tbody tr th {\n",
       "        vertical-align: top;\n",
       "    }\n",
       "</style>\n",
       "<table border=\"1\" class=\"dataframe\">\n",
       "  <thead>\n",
       "    <tr style=\"text-align: right;\">\n",
       "      <th></th>\n",
       "      <th>Year</th>\n",
       "      <th>Quarter</th>\n",
       "      <th>Month</th>\n",
       "      <th>DayofMonth</th>\n",
       "      <th>DayOfWeek</th>\n",
       "      <th>FlightDate</th>\n",
       "      <th>UniqueCarrier</th>\n",
       "      <th>AirlineID</th>\n",
       "      <th>Carrier</th>\n",
       "      <th>TailNum</th>\n",
       "      <th>FlightNum</th>\n",
       "      <th>OriginAirportID</th>\n",
       "      <th>OriginAirportSeqID</th>\n",
       "      <th>OriginCityMarketID</th>\n",
       "      <th>Origin</th>\n",
       "      <th>OriginCityName</th>\n",
       "      <th>OriginState</th>\n",
       "      <th>OriginStateFips</th>\n",
       "      <th>OriginStateName</th>\n",
       "      <th>OriginWac</th>\n",
       "      <th>DestAirportID</th>\n",
       "      <th>DestAirportSeqID</th>\n",
       "      <th>DestCityMarketID</th>\n",
       "      <th>Dest</th>\n",
       "      <th>DestCityName</th>\n",
       "      <th>DestState</th>\n",
       "      <th>DestStateFips</th>\n",
       "      <th>DestStateName</th>\n",
       "      <th>DestWac</th>\n",
       "      <th>CRSDepTime</th>\n",
       "      <th>CRSArrTime</th>\n",
       "      <th>Distance</th>\n",
       "      <th>DepDelay</th>\n",
       "    </tr>\n",
       "  </thead>\n",
       "  <tbody>\n",
       "    <tr>\n",
       "      <th>0</th>\n",
       "      <td>2016</td>\n",
       "      <td>1</td>\n",
       "      <td>1</td>\n",
       "      <td>7</td>\n",
       "      <td>4</td>\n",
       "      <td>20160107</td>\n",
       "      <td>AA</td>\n",
       "      <td>19805</td>\n",
       "      <td>AA</td>\n",
       "      <td>N434AA</td>\n",
       "      <td>43</td>\n",
       "      <td>11298</td>\n",
       "      <td>1129804</td>\n",
       "      <td>30194</td>\n",
       "      <td>DFW</td>\n",
       "      <td>Dallas/Fort Worth, TX</td>\n",
       "      <td>TX</td>\n",
       "      <td>48</td>\n",
       "      <td>Texas</td>\n",
       "      <td>74</td>\n",
       "      <td>11433</td>\n",
       "      <td>1143302</td>\n",
       "      <td>31295</td>\n",
       "      <td>DTW</td>\n",
       "      <td>Detroit, MI</td>\n",
       "      <td>MI</td>\n",
       "      <td>26</td>\n",
       "      <td>Michigan</td>\n",
       "      <td>43</td>\n",
       "      <td>2016-01-07 11:00:00</td>\n",
       "      <td>2016-01-07 14:38:00</td>\n",
       "      <td>986.0</td>\n",
       "      <td>-4.0</td>\n",
       "    </tr>\n",
       "    <tr>\n",
       "      <th>1</th>\n",
       "      <td>2016</td>\n",
       "      <td>1</td>\n",
       "      <td>1</td>\n",
       "      <td>7</td>\n",
       "      <td>4</td>\n",
       "      <td>20160107</td>\n",
       "      <td>AA</td>\n",
       "      <td>19805</td>\n",
       "      <td>AA</td>\n",
       "      <td>N436AA</td>\n",
       "      <td>335</td>\n",
       "      <td>11298</td>\n",
       "      <td>1129804</td>\n",
       "      <td>30194</td>\n",
       "      <td>DFW</td>\n",
       "      <td>Dallas/Fort Worth, TX</td>\n",
       "      <td>TX</td>\n",
       "      <td>48</td>\n",
       "      <td>Texas</td>\n",
       "      <td>74</td>\n",
       "      <td>13930</td>\n",
       "      <td>1393004</td>\n",
       "      <td>30977</td>\n",
       "      <td>ORD</td>\n",
       "      <td>Chicago, IL</td>\n",
       "      <td>IL</td>\n",
       "      <td>17</td>\n",
       "      <td>Illinois</td>\n",
       "      <td>41</td>\n",
       "      <td>2016-01-07 11:00:00</td>\n",
       "      <td>2016-01-07 13:26:00</td>\n",
       "      <td>802.0</td>\n",
       "      <td>34.0</td>\n",
       "    </tr>\n",
       "    <tr>\n",
       "      <th>2</th>\n",
       "      <td>2016</td>\n",
       "      <td>1</td>\n",
       "      <td>1</td>\n",
       "      <td>7</td>\n",
       "      <td>4</td>\n",
       "      <td>20160107</td>\n",
       "      <td>AA</td>\n",
       "      <td>19805</td>\n",
       "      <td>AA</td>\n",
       "      <td>N488AA</td>\n",
       "      <td>2528</td>\n",
       "      <td>11298</td>\n",
       "      <td>1129804</td>\n",
       "      <td>30194</td>\n",
       "      <td>DFW</td>\n",
       "      <td>Dallas/Fort Worth, TX</td>\n",
       "      <td>TX</td>\n",
       "      <td>48</td>\n",
       "      <td>Texas</td>\n",
       "      <td>74</td>\n",
       "      <td>13244</td>\n",
       "      <td>1324402</td>\n",
       "      <td>33244</td>\n",
       "      <td>MEM</td>\n",
       "      <td>Memphis, TN</td>\n",
       "      <td>TN</td>\n",
       "      <td>47</td>\n",
       "      <td>Tennessee</td>\n",
       "      <td>54</td>\n",
       "      <td>2016-01-07 11:55:00</td>\n",
       "      <td>2016-01-07 13:24:00</td>\n",
       "      <td>431.0</td>\n",
       "      <td>-7.0</td>\n",
       "    </tr>\n",
       "    <tr>\n",
       "      <th>3</th>\n",
       "      <td>2016</td>\n",
       "      <td>1</td>\n",
       "      <td>1</td>\n",
       "      <td>7</td>\n",
       "      <td>4</td>\n",
       "      <td>20160107</td>\n",
       "      <td>AA</td>\n",
       "      <td>19805</td>\n",
       "      <td>AA</td>\n",
       "      <td>N567AA</td>\n",
       "      <td>1373</td>\n",
       "      <td>11298</td>\n",
       "      <td>1129804</td>\n",
       "      <td>30194</td>\n",
       "      <td>DFW</td>\n",
       "      <td>Dallas/Fort Worth, TX</td>\n",
       "      <td>TX</td>\n",
       "      <td>48</td>\n",
       "      <td>Texas</td>\n",
       "      <td>74</td>\n",
       "      <td>12451</td>\n",
       "      <td>1245102</td>\n",
       "      <td>31136</td>\n",
       "      <td>JAX</td>\n",
       "      <td>Jacksonville, FL</td>\n",
       "      <td>FL</td>\n",
       "      <td>12</td>\n",
       "      <td>Florida</td>\n",
       "      <td>33</td>\n",
       "      <td>2016-01-07 11:55:00</td>\n",
       "      <td>2016-01-07 15:13:00</td>\n",
       "      <td>918.0</td>\n",
       "      <td>-6.0</td>\n",
       "    </tr>\n",
       "    <tr>\n",
       "      <th>4</th>\n",
       "      <td>2016</td>\n",
       "      <td>1</td>\n",
       "      <td>1</td>\n",
       "      <td>7</td>\n",
       "      <td>4</td>\n",
       "      <td>20160107</td>\n",
       "      <td>AA</td>\n",
       "      <td>19805</td>\n",
       "      <td>AA</td>\n",
       "      <td>N184US</td>\n",
       "      <td>522</td>\n",
       "      <td>11298</td>\n",
       "      <td>1129804</td>\n",
       "      <td>30194</td>\n",
       "      <td>DFW</td>\n",
       "      <td>Dallas/Fort Worth, TX</td>\n",
       "      <td>TX</td>\n",
       "      <td>48</td>\n",
       "      <td>Texas</td>\n",
       "      <td>74</td>\n",
       "      <td>14107</td>\n",
       "      <td>1410702</td>\n",
       "      <td>30466</td>\n",
       "      <td>PHX</td>\n",
       "      <td>Phoenix, AZ</td>\n",
       "      <td>AZ</td>\n",
       "      <td>4</td>\n",
       "      <td>Arizona</td>\n",
       "      <td>81</td>\n",
       "      <td>2016-01-07 11:50:00</td>\n",
       "      <td>2016-01-07 13:31:00</td>\n",
       "      <td>868.0</td>\n",
       "      <td>-3.0</td>\n",
       "    </tr>\n",
       "  </tbody>\n",
       "</table>\n",
       "</div>"
      ],
      "text/plain": [
       "   Year  Quarter  Month  DayofMonth  DayOfWeek FlightDate UniqueCarrier  \\\n",
       "0  2016        1      1           7          4   20160107            AA   \n",
       "1  2016        1      1           7          4   20160107            AA   \n",
       "2  2016        1      1           7          4   20160107            AA   \n",
       "3  2016        1      1           7          4   20160107            AA   \n",
       "4  2016        1      1           7          4   20160107            AA   \n",
       "\n",
       "   AirlineID Carrier TailNum  FlightNum  OriginAirportID  OriginAirportSeqID  \\\n",
       "0      19805      AA  N434AA         43            11298             1129804   \n",
       "1      19805      AA  N436AA        335            11298             1129804   \n",
       "2      19805      AA  N488AA       2528            11298             1129804   \n",
       "3      19805      AA  N567AA       1373            11298             1129804   \n",
       "4      19805      AA  N184US        522            11298             1129804   \n",
       "\n",
       "   OriginCityMarketID Origin         OriginCityName OriginState  \\\n",
       "0               30194    DFW  Dallas/Fort Worth, TX          TX   \n",
       "1               30194    DFW  Dallas/Fort Worth, TX          TX   \n",
       "2               30194    DFW  Dallas/Fort Worth, TX          TX   \n",
       "3               30194    DFW  Dallas/Fort Worth, TX          TX   \n",
       "4               30194    DFW  Dallas/Fort Worth, TX          TX   \n",
       "\n",
       "   OriginStateFips OriginStateName  OriginWac  DestAirportID  \\\n",
       "0               48           Texas         74          11433   \n",
       "1               48           Texas         74          13930   \n",
       "2               48           Texas         74          13244   \n",
       "3               48           Texas         74          12451   \n",
       "4               48           Texas         74          14107   \n",
       "\n",
       "   DestAirportSeqID  DestCityMarketID Dest      DestCityName DestState  \\\n",
       "0           1143302             31295  DTW       Detroit, MI        MI   \n",
       "1           1393004             30977  ORD       Chicago, IL        IL   \n",
       "2           1324402             33244  MEM       Memphis, TN        TN   \n",
       "3           1245102             31136  JAX  Jacksonville, FL        FL   \n",
       "4           1410702             30466  PHX       Phoenix, AZ        AZ   \n",
       "\n",
       "   DestStateFips DestStateName  DestWac           CRSDepTime  \\\n",
       "0             26      Michigan       43  2016-01-07 11:00:00   \n",
       "1             17      Illinois       41  2016-01-07 11:00:00   \n",
       "2             47     Tennessee       54  2016-01-07 11:55:00   \n",
       "3             12       Florida       33  2016-01-07 11:55:00   \n",
       "4              4       Arizona       81  2016-01-07 11:50:00   \n",
       "\n",
       "            CRSArrTime  Distance  DepDelay  \n",
       "0  2016-01-07 14:38:00     986.0      -4.0  \n",
       "1  2016-01-07 13:26:00     802.0      34.0  \n",
       "2  2016-01-07 13:24:00     431.0      -7.0  \n",
       "3  2016-01-07 15:13:00     918.0      -6.0  \n",
       "4  2016-01-07 13:31:00     868.0      -3.0  "
      ]
     },
     "execution_count": 136,
     "metadata": {},
     "output_type": "execute_result"
    }
   ],
   "source": [
    "df_original.head()"
   ]
  },
  {
   "cell_type": "code",
   "execution_count": 164,
   "metadata": {
    "collapsed": false
   },
   "outputs": [],
   "source": [
    "h2o.cluster().shutdown()"
   ]
  },
  {
   "cell_type": "markdown",
   "metadata": {},
   "source": [
    "# Part 0: Initialization of h2o and preprocessing"
   ]
  },
  {
   "cell_type": "markdown",
   "metadata": {},
   "source": [
    "Initialize the cluster and the variables as an h2o object"
   ]
  },
  {
   "cell_type": "code",
   "execution_count": 165,
   "metadata": {
    "collapsed": false
   },
   "outputs": [
    {
     "name": "stdout",
     "output_type": "stream",
     "text": [
      "Checking whether there is an H2O instance running at http://localhost:54321..... not found.\n",
      "Attempting to start a local H2O server...\n",
      "  Java Version: java version \"1.8.0_73\"; Java(TM) SE Runtime Environment (build 1.8.0_73-b02); Java HotSpot(TM) 64-Bit Server VM (build 25.73-b02, mixed mode)\n",
      "  Starting server from /Users/dgoldma1/anaconda/lib/python3.6/site-packages/h2o/backend/bin/h2o.jar\n",
      "  Ice root: /var/folders/nd/18n1glmn1qsg_pym9tgdrx38nm52m5/T/tmpjytircmg\n",
      "  JVM stdout: /var/folders/nd/18n1glmn1qsg_pym9tgdrx38nm52m5/T/tmpjytircmg/h2o_dgoldma1_started_from_python.out\n",
      "  JVM stderr: /var/folders/nd/18n1glmn1qsg_pym9tgdrx38nm52m5/T/tmpjytircmg/h2o_dgoldma1_started_from_python.err\n",
      "  Server is running at http://127.0.0.1:54321\n",
      "Connecting to H2O server at http://127.0.0.1:54321... successful.\n"
     ]
    },
    {
     "data": {
      "text/html": [
       "<div style=\"overflow:auto\"><table style=\"width:50%\"><tr><td>H2O cluster uptime:</td>\n",
       "<td>02 secs</td></tr>\n",
       "<tr><td>H2O cluster version:</td>\n",
       "<td>3.10.4.8</td></tr>\n",
       "<tr><td>H2O cluster version age:</td>\n",
       "<td>1 month and 26 days </td></tr>\n",
       "<tr><td>H2O cluster name:</td>\n",
       "<td>H2O_from_python_dgoldma1_uykpv5</td></tr>\n",
       "<tr><td>H2O cluster total nodes:</td>\n",
       "<td>1</td></tr>\n",
       "<tr><td>H2O cluster free memory:</td>\n",
       "<td>3.556 Gb</td></tr>\n",
       "<tr><td>H2O cluster total cores:</td>\n",
       "<td>8</td></tr>\n",
       "<tr><td>H2O cluster allowed cores:</td>\n",
       "<td>8</td></tr>\n",
       "<tr><td>H2O cluster status:</td>\n",
       "<td>accepting new members, healthy</td></tr>\n",
       "<tr><td>H2O connection url:</td>\n",
       "<td>http://127.0.0.1:54321</td></tr>\n",
       "<tr><td>H2O connection proxy:</td>\n",
       "<td>None</td></tr>\n",
       "<tr><td>H2O internal security:</td>\n",
       "<td>False</td></tr>\n",
       "<tr><td>Python version:</td>\n",
       "<td>3.6.0 final</td></tr></table></div>"
      ],
      "text/plain": [
       "--------------------------  -------------------------------\n",
       "H2O cluster uptime:         02 secs\n",
       "H2O cluster version:        3.10.4.8\n",
       "H2O cluster version age:    1 month and 26 days\n",
       "H2O cluster name:           H2O_from_python_dgoldma1_uykpv5\n",
       "H2O cluster total nodes:    1\n",
       "H2O cluster free memory:    3.556 Gb\n",
       "H2O cluster total cores:    8\n",
       "H2O cluster allowed cores:  8\n",
       "H2O cluster status:         accepting new members, healthy\n",
       "H2O connection url:         http://127.0.0.1:54321\n",
       "H2O connection proxy:\n",
       "H2O internal security:      False\n",
       "Python version:             3.6.0 final\n",
       "--------------------------  -------------------------------"
      ]
     },
     "metadata": {},
     "output_type": "display_data"
    }
   ],
   "source": [
    "import h2o\n",
    "h2o.init()"
   ]
  },
  {
   "cell_type": "code",
   "execution_count": 145,
   "metadata": {
    "collapsed": false
   },
   "outputs": [],
   "source": [
    "df_original['DepDelay_pos']=df_original['DepDelay'].apply(lambda x : max(0,x))\n",
    "df_prelim = h2o.H2OFrame(df_original)\n",
    "train, valid, test = df_prelim.split_frame([0.7, 0.15], seed=1234)"
   ]
  },
  {
   "cell_type": "markdown",
   "metadata": {},
   "source": [
    "# Part I: Modeling Regression with h2o with original variables."
   ]
  },
  {
   "cell_type": "markdown",
   "metadata": {},
   "source": [
    "In this section we train models on the positive cut off departure delay. We find that\n",
    "the $R^2$ is very low in all cases. Due to time constraints, I decided not too investigate\n",
    "this much further after various methods were tried. I instead decided to focus on classification."
   ]
  },
  {
   "cell_type": "markdown",
   "metadata": {},
   "source": [
    "## I.1: Linear Models"
   ]
  },
  {
   "cell_type": "code",
   "execution_count": null,
   "metadata": {
    "collapsed": true
   },
   "outputs": [],
   "source": [
    "from h2o.estimators.glm import H2OGeneralizedLinearEstimator\n",
    "from h2o.estimators.gbm import H2OGradientBoostingEstimator"
   ]
  },
  {
   "cell_type": "markdown",
   "metadata": {},
   "source": [
    "I.1a) Poisson\n"
   ]
  },
  {
   "cell_type": "code",
   "execution_count": 139,
   "metadata": {
    "collapsed": false
   },
   "outputs": [
    {
     "name": "stdout",
     "output_type": "stream",
     "text": [
      "glm Model Build progress: |███████████████████████████████████████████████| 100%\n"
     ]
    },
    {
     "data": {
      "text/plain": [
       "0.015824215105904926"
      ]
     },
     "execution_count": 139,
     "metadata": {},
     "output_type": "execute_result"
    }
   ],
   "source": [
    "poisson_model = H2OGeneralizedLinearEstimator(family=\"poisson\",standardize=True,lambda_search=True)\n",
    "poisson_model.train(x=df_prelim.drop(['DepDelay','DepDelay_pos'],1).columns,y=\"DepDelay_pos\",training_frame=train, validation_frame=valid)\n",
    "poisson_model.r2(valid)"
   ]
  },
  {
   "cell_type": "markdown",
   "metadata": {},
   "source": [
    "I.1b) Tweedie"
   ]
  },
  {
   "cell_type": "code",
   "execution_count": 141,
   "metadata": {
    "collapsed": false
   },
   "outputs": [
    {
     "data": {
      "text/plain": [
       "0.0102121801080165"
      ]
     },
     "execution_count": 141,
     "metadata": {},
     "output_type": "execute_result"
    }
   ],
   "source": [
    "tweedie_model = H2OGeneralizedLinearEstimator(family=\"tweedie\",standardize=True,tweedie_variance_power=1.01)\n",
    "tweedie_model.train(x=df_prelim.drop(['DepDelay','DepDelay_pos'],1).columns,y=\"DepDelay_pos\",training_frame=train, validation_frame=valid,)\n",
    "tweedie_model.r2(valid)"
   ]
  },
  {
   "cell_type": "markdown",
   "metadata": {},
   "source": [
    "I.1c) Gaussian"
   ]
  },
  {
   "cell_type": "code",
   "execution_count": 142,
   "metadata": {
    "collapsed": false
   },
   "outputs": [
    {
     "name": "stdout",
     "output_type": "stream",
     "text": [
      "glm Model Build progress: |███████████████████████████████████████████████| 100%\n"
     ]
    },
    {
     "data": {
      "text/plain": [
       "0.010617917765816776"
      ]
     },
     "execution_count": 142,
     "metadata": {},
     "output_type": "execute_result"
    }
   ],
   "source": [
    "gaussian_model = H2OGeneralizedLinearEstimator(family=\"gaussian\",standardize=True,tweedie_variance_power=1.01)\n",
    "gaussian_model.train(x=df_prelim.drop(['DepDelay','DepDelay_pos'],1).columns,y=\"DepDelay_pos\",training_frame=train, validation_frame=valid,)\n",
    "gaussian_model.r2(valid)"
   ]
  },
  {
   "cell_type": "markdown",
   "metadata": {},
   "source": [
    "## I.2: Nonlinear Models"
   ]
  },
  {
   "cell_type": "markdown",
   "metadata": {},
   "source": [
    "I.2a) Random Forest Regressor"
   ]
  },
  {
   "cell_type": "code",
   "execution_count": 143,
   "metadata": {
    "collapsed": false
   },
   "outputs": [
    {
     "name": "stdout",
     "output_type": "stream",
     "text": [
      "drf Model Build progress: |███████████████████████████████████████████████| 100%\n"
     ]
    },
    {
     "data": {
      "text/plain": [
       "0.04599629827698648"
      ]
     },
     "execution_count": 143,
     "metadata": {},
     "output_type": "execute_result"
    }
   ],
   "source": [
    "from h2o.estimators.random_forest import H2ORandomForestEstimator\n",
    "rf = H2ORandomForestEstimator() \n",
    "rf.train(x=df_prelim.drop(['DepDelay','DepDelay_pos'],1).columns,y=\"DepDelay_pos\",training_frame=train, validation_frame=valid)\n",
    "rf.r2(valid)"
   ]
  },
  {
   "cell_type": "markdown",
   "metadata": {},
   "source": [
    "I.2b) Gradient Boosted Regressor"
   ]
  },
  {
   "cell_type": "code",
   "execution_count": 144,
   "metadata": {
    "collapsed": false
   },
   "outputs": [
    {
     "name": "stdout",
     "output_type": "stream",
     "text": [
      "gbm Model Build progress: |███████████████████████████████████████████████| 100%\n"
     ]
    },
    {
     "data": {
      "text/plain": [
       "0.05477461423247709"
      ]
     },
     "execution_count": 144,
     "metadata": {},
     "output_type": "execute_result"
    }
   ],
   "source": [
    "from h2o.estimators.gbm import H2OGradientBoostingEstimator\n",
    "gb = H2OGradientBoostingEstimator() \n",
    "gb.train(x=df_prelim.drop(['DepDelay','DepDelay_pos'],1).columns,y=\"DepDelay_pos\",training_frame=train, validation_frame=valid)\n",
    "gb.r2(valid)"
   ]
  },
  {
   "cell_type": "markdown",
   "metadata": {},
   "source": [
    "## Feature Importance Plot"
   ]
  },
  {
   "cell_type": "markdown",
   "metadata": {},
   "source": [
    "Here we plot the most important variables from both models."
   ]
  },
  {
   "cell_type": "code",
   "execution_count": 146,
   "metadata": {
    "collapsed": false
   },
   "outputs": [
    {
     "data": {
      "image/png": "[encoded data removed]",
      "text/plain": [
       "<matplotlib.figure.Figure at 0x1a0730e10>"
      ]
     },
     "metadata": {},
     "output_type": "display_data"
    }
   ],
   "source": [
    "import matplotlib.pyplot as plt\n",
    "import seaborn\n",
    "mymodel=gb\n",
    "plt.rcdefaults()\n",
    "fig, ax = plt.subplots()\n",
    "variables = mymodel._model_json['output']['variable_importances']['variable']\n",
    "y_pos = np.arange(len(variables))\n",
    "scaled_importance = mymodel._model_json['output']['variable_importances']['scaled_importance']\n",
    "ax.barh(y_pos[0:10], scaled_importance[0:10], align='center', color='green', ecolor='black')\n",
    "ax.set_yticks(y_pos[0:10])\n",
    "ax.set_yticklabels(variables[0:10])\n",
    "ax.invert_yaxis()\n",
    "ax.set_xlabel('Scaled Importance')\n",
    "ax.set_title('Variable Importance')\n",
    "plt.show()"
   ]
  },
  {
   "cell_type": "markdown",
   "metadata": {},
   "source": [
    "# Part II: Modeling Classifiction with h2o with original variables."
   ]
  },
  {
   "cell_type": "markdown",
   "metadata": {},
   "source": [
    "In this section we compare the performance to the final model with our added variables."
   ]
  },
  {
   "cell_type": "markdown",
   "metadata": {},
   "source": [
    "### II.0) Class variable creation"
   ]
  },
  {
   "cell_type": "code",
   "execution_count": 147,
   "metadata": {
    "collapsed": true
   },
   "outputs": [],
   "source": [
    "from h2o.estimators.glm import H2OGeneralizedLinearEstimator\n",
    "from h2o.estimators.deeplearning import H2ODeepLearningEstimator\n",
    "from h2o.estimators.random_forest import H2ORandomForestEstimator\n",
    "from h2o.estimators.gbm import H2OGradientBoostingEstimator"
   ]
  },
  {
   "cell_type": "markdown",
   "metadata": {},
   "source": [
    "First we recreate the class variable that we will use."
   ]
  },
  {
   "cell_type": "code",
   "execution_count": 149,
   "metadata": {
    "collapsed": false
   },
   "outputs": [],
   "source": [
    "def get_class(x):\n",
    "    if x > 20:\n",
    "        return 1\n",
    "    else:\n",
    "        return 0\n",
    "df_original['DepDelay_class']=df_original['DepDelay_pos'].apply(lambda x : get_class(x))"
   ]
  },
  {
   "cell_type": "code",
   "execution_count": 186,
   "metadata": {
    "collapsed": false
   },
   "outputs": [
    {
     "name": "stdout",
     "output_type": "stream",
     "text": [
      "Parse progress: |█████████████████████████████████████████████████████████| 100%\n"
     ]
    }
   ],
   "source": [
    "df_prelim = h2o.H2OFrame(df_original)\n",
    "df_prelim['DepDelay_class']=df_prelim['DepDelay_class'].asfactor()\n",
    "train, valid, test = df_prelim.split_frame([0.7, 0.15], seed=1234)\n",
    "train['DepDelay_class']=train['DepDelay_class'].asfactor()\n",
    "test['DepDelay_class']=test['DepDelay_class'].asfactor()\n",
    "valid['DepDelay_class']=valid['DepDelay_class'].asfactor()\n"
   ]
  },
  {
   "cell_type": "markdown",
   "metadata": {},
   "source": [
    "## I.1) Linear Models"
   ]
  },
  {
   "cell_type": "markdown",
   "metadata": {},
   "source": [
    "For the linear model, we do a grid search to find the optimal paramater. "
   ]
  },
  {
   "cell_type": "code",
   "execution_count": null,
   "metadata": {
    "collapsed": true
   },
   "outputs": [],
   "source": [
    "from h2o.grid.grid_search import H2OGridSearch\n",
    "\n",
    "#Build grid search with previously made GBM and hyper parameters\n",
    "hyper_parameters = {'alpha': [0.01,0.3,0.5], 'lambda': [1e-5,1e-6,1e-7,1e-8]}\n",
    "\n",
    "# test search_criteria plumbing and max_models\n",
    "search_criteria = { 'strategy': \"RandomDiscrete\", 'max_models': 3 }\n",
    "max_models_g = H2OGridSearch(H2OGeneralizedLinearEstimator(family='binomial'),\n",
    "                             hyper_parameters, search_criteria=search_criteria)\n",
    "max_models_g.train(x=df_prelim.drop(['DepDelay','DepDelay_pos','DepDelay_class'],1).columns,y=\"DepDelay_class\",training_frame=train, validation_frame=valid)\n",
    "\n"
   ]
  },
  {
   "cell_type": "code",
   "execution_count": 189,
   "metadata": {
    "collapsed": false
   },
   "outputs": [
    {
     "name": "stdout",
     "output_type": "stream",
     "text": [
      "glm Model Build progress: |███████████████████████████████████████████████| 100%\n"
     ]
    }
   ],
   "source": [
    "best_model=H2OGeneralizedLinearEstimator(family='binomial',alpha=0.01,lambda_=1.0e-8)\n",
    "best_model.train(x=df_prelim.drop(['DepDelay','DepDelay_pos','DepDelay_class'],1).columns,y=\"DepDelay_class\",training_frame=train, validation_frame=valid)\n"
   ]
  },
  {
   "cell_type": "code",
   "execution_count": 191,
   "metadata": {
    "collapsed": true
   },
   "outputs": [],
   "source": [
    "out = best_model.model_performance(test)\n",
    "fprs_best_model = out.fprs\n",
    "tprs_best_model = out.tprs\n",
    "roc_best_model = zip(fprs_best_model, tprs_best_model)"
   ]
  },
  {
   "cell_type": "markdown",
   "metadata": {},
   "source": [
    "## II.2) Nonlinear Models"
   ]
  },
  {
   "cell_type": "markdown",
   "metadata": {},
   "source": [
    "11.1a) Random Forest Classifier"
   ]
  },
  {
   "cell_type": "code",
   "execution_count": 192,
   "metadata": {
    "collapsed": false
   },
   "outputs": [
    {
     "name": "stdout",
     "output_type": "stream",
     "text": [
      "drf Model Build progress: |███████████████████████████████████████████████| 100%\n"
     ]
    },
    {
     "data": {
      "text/plain": [
       "0.700505010421721"
      ]
     },
     "execution_count": 192,
     "metadata": {},
     "output_type": "execute_result"
    }
   ],
   "source": [
    "\n",
    "rf_c=H2ORandomForestEstimator()\n",
    "\n",
    "rf_c.train(x=df_prelim.drop(['DepDelay','DepDelay_class','DepDelay_pos'],1).columns,y=\"DepDelay_class\",training_frame=train, validation_frame=valid)\n",
    "rf_c.auc(valid)"
   ]
  },
  {
   "cell_type": "code",
   "execution_count": 195,
   "metadata": {
    "collapsed": true
   },
   "outputs": [],
   "source": [
    "out = rf_c.model_performance(test)\n",
    "fprs_rf_c = out.fprs\n",
    "tprs_rf_c = out.tprs\n",
    "roc_rf_c = zip(fprs_rf_c, tprs_rf_c)"
   ]
  },
  {
   "cell_type": "markdown",
   "metadata": {},
   "source": [
    "II.1b) Gradient Booster Classifier"
   ]
  },
  {
   "cell_type": "code",
   "execution_count": 198,
   "metadata": {
    "collapsed": false
   },
   "outputs": [
    {
     "name": "stdout",
     "output_type": "stream",
     "text": [
      "gbm Model Build progress: |███████████████████████████████████████████████| 100%\n"
     ]
    },
    {
     "data": {
      "text/plain": [
       "0.6841502475989841"
      ]
     },
     "execution_count": 198,
     "metadata": {},
     "output_type": "execute_result"
    }
   ],
   "source": [
    "gb_c=H2OGradientBoostingEstimator()#ntrees=50, max_depth=10, nfolds=10)\n",
    "\n",
    "gb_c.train(x=df_prelim.drop(['DepDelay','DepDelay_class','DepDelay_pos'],1).columns,y=\"DepDelay_class\",training_frame=train, validation_frame=valid)\n",
    "gb_c.auc(valid)"
   ]
  },
  {
   "cell_type": "code",
   "execution_count": 199,
   "metadata": {
    "collapsed": true
   },
   "outputs": [],
   "source": [
    "out = gb_c.model_performance(test)\n",
    "fprs_gbb_c = out.fprs\n",
    "tprs_gbb_c = out.tprs\n",
    "roc_gbb_c = zip(fprs_gbb_c, tprs_gbb_c)"
   ]
  },
  {
   "cell_type": "markdown",
   "metadata": {},
   "source": [
    "## II.3) Feature Importance"
   ]
  },
  {
   "cell_type": "markdown",
   "metadata": {},
   "source": [
    "II.3a) Random Forest"
   ]
  },
  {
   "cell_type": "code",
   "execution_count": 63,
   "metadata": {
    "collapsed": false
   },
   "outputs": [
    {
     "data": {
      "image/png": "[encoded data removed]",
      "text/plain": [
       "<matplotlib.figure.Figure at 0x2d72fad68>"
      ]
     },
     "metadata": {},
     "output_type": "display_data"
    }
   ],
   "source": [
    "import matplotlib.pyplot as plt\n",
    "mymodel=rf_c\n",
    "plt.rcdefaults()\n",
    "fig, ax = plt.subplots()\n",
    "variables = mymodel._model_json['output']['variable_importances']['variable']\n",
    "y_pos = np.arange(len(variables))\n",
    "scaled_importance = mymodel._model_json['output']['variable_importances']['scaled_importance']\n",
    "ax.barh(y_pos[0:10], scaled_importance[0:10], align='center', color='green', ecolor='black')\n",
    "ax.set_yticks(y_pos[0:10])\n",
    "ax.set_yticklabels(variables[0:10])\n",
    "ax.invert_yaxis()\n",
    "ax.set_xlabel('Scaled Importance')\n",
    "ax.set_title('Variable Importance')\n",
    "plt.show()"
   ]
  },
  {
   "cell_type": "markdown",
   "metadata": {},
   "source": [
    "II.3b) Gradient Boosting"
   ]
  },
  {
   "cell_type": "code",
   "execution_count": 66,
   "metadata": {
    "collapsed": false
   },
   "outputs": [
    {
     "data": {
      "image/png": "[encoded data removed]",
      "text/plain": [
       "<matplotlib.figure.Figure at 0x12446de80>"
      ]
     },
     "metadata": {},
     "output_type": "display_data"
    }
   ],
   "source": [
    "import matplotlib.pyplot as plt\n",
    "mymodel=gb_c\n",
    "plt.rcdefaults()\n",
    "fig, ax = plt.subplots()\n",
    "variables = mymodel._model_json['output']['variable_importances']['variable']\n",
    "y_pos = np.arange(len(variables))\n",
    "scaled_importance = mymodel._model_json['output']['variable_importances']['scaled_importance']\n",
    "ax.barh(y_pos[0:10], scaled_importance[0:10], align='center', color='green', ecolor='black')\n",
    "ax.set_yticks(y_pos[0:10])\n",
    "ax.set_yticklabels(variables[0:10])\n",
    "ax.invert_yaxis()\n",
    "ax.set_xlabel('Scaled Importance')\n",
    "ax.set_title('Variable Importance')\n",
    "plt.show()"
   ]
  },
  {
   "cell_type": "markdown",
   "metadata": {},
   "source": [
    "# Part III: Classification with all variables"
   ]
  },
  {
   "cell_type": "code",
   "execution_count": 18,
   "metadata": {
    "collapsed": true
   },
   "outputs": [],
   "source": [
    "df_poisson=pd.read_csv('../data/hourly_mean_prediction.tsv',sep='\\t')"
   ]
  },
  {
   "cell_type": "code",
   "execution_count": 26,
   "metadata": {
    "collapsed": false
   },
   "outputs": [
    {
     "data": {
      "text/plain": [
       "actual        float64\n",
       "date           object\n",
       "prediction    float64\n",
       "day            object\n",
       "hour            int64\n",
       "dtype: object"
      ]
     },
     "execution_count": 26,
     "metadata": {},
     "output_type": "execute_result"
    }
   ],
   "source": [
    "df_poisson.head().dtypes"
   ]
  },
  {
   "cell_type": "code",
   "execution_count": 184,
   "metadata": {
    "collapsed": true
   },
   "outputs": [],
   "source": [
    "df_airline.to_csv('../data/final_909pm.tsv',sep='\\t',index=False)"
   ]
  },
  {
   "cell_type": "code",
   "execution_count": 25,
   "metadata": {
    "collapsed": false
   },
   "outputs": [],
   "source": [
    "df_poisson['day']=df_poisson['day'].astype(str)"
   ]
  },
  {
   "cell_type": "code",
   "execution_count": 27,
   "metadata": {
    "collapsed": false
   },
   "outputs": [],
   "source": [
    "df_poisson['FlightDate']=df_poisson['day'].astype(str)"
   ]
  },
  {
   "cell_type": "code",
   "execution_count": 10,
   "metadata": {
    "collapsed": false
   },
   "outputs": [],
   "source": [
    "import re\n",
    "df_airline['FlightDate']=df_airline['FlightDate'].apply(lambda x : re.sub(\"-\",\"\",x))"
   ]
  },
  {
   "cell_type": "code",
   "execution_count": 11,
   "metadata": {
    "collapsed": true
   },
   "outputs": [],
   "source": [
    "df_poisson['FlightDate']=df_poisson['day'].astype(str)"
   ]
  },
  {
   "cell_type": "code",
   "execution_count": 107,
   "metadata": {
    "collapsed": false
   },
   "outputs": [],
   "source": [
    "df_airline['date']=df_airline['date'].astype(str)"
   ]
  },
  {
   "cell_type": "code",
   "execution_count": 29,
   "metadata": {
    "collapsed": true
   },
   "outputs": [],
   "source": [
    "def make_hour(x):\n",
    "    return str(x).split(' ')[1].split(':')[0]\n",
    "df_airline['hour']=df_airline['CRSDepTime'].apply(lambda x : make_hour(x))"
   ]
  },
  {
   "cell_type": "code",
   "execution_count": 33,
   "metadata": {
    "collapsed": false
   },
   "outputs": [],
   "source": [
    "df_airline['hour']=df_airline['hour'].astype(int)"
   ]
  },
  {
   "cell_type": "code",
   "execution_count": null,
   "metadata": {
    "collapsed": true
   },
   "outputs": [],
   "source": [
    "df_airline['hour']=df_airline['hour'].astype(int)"
   ]
  },
  {
   "cell_type": "code",
   "execution_count": 44,
   "metadata": {
    "collapsed": false
   },
   "outputs": [],
   "source": [
    "df_airline=pd.merge(df_airline,df_poisson[['prediction','FlightDate','hour']],how='inner',on=['FlightDate','hour'])"
   ]
  },
  {
   "cell_type": "code",
   "execution_count": 45,
   "metadata": {
    "collapsed": true
   },
   "outputs": [],
   "source": [
    "df_airline.to_csv('../data/full_mon458pm.tsv',sep='\\t',index=False)"
   ]
  },
  {
   "cell_type": "code",
   "execution_count": 172,
   "metadata": {
    "collapsed": false
   },
   "outputs": [],
   "source": [
    "df_airline['poisson_hourly']=df_airline['prediction_y']\n",
    "df_airline['poisson_daily']=df_airline['prediction_x']\n",
    "df_airline_filtered=df_airline.drop(['prediction_y','prediction_x','tailnum','locationID','DestCityName','Locid','date','OriginAirportID','OriginCityName','airport_code','DestStateName'],1)"
   ]
  },
  {
   "cell_type": "code",
   "execution_count": 160,
   "metadata": {
    "collapsed": false
   },
   "outputs": [
    {
     "data": {
      "text/html": [
       "<div>\n",
       "<style>\n",
       "    .dataframe thead tr:only-child th {\n",
       "        text-align: right;\n",
       "    }\n",
       "\n",
       "    .dataframe thead th {\n",
       "        text-align: left;\n",
       "    }\n",
       "\n",
       "    .dataframe tbody tr th {\n",
       "        vertical-align: top;\n",
       "    }\n",
       "</style>\n",
       "<table border=\"1\" class=\"dataframe\">\n",
       "  <thead>\n",
       "    <tr style=\"text-align: right;\">\n",
       "      <th></th>\n",
       "      <th>Year</th>\n",
       "      <th>Quarter</th>\n",
       "      <th>Month</th>\n",
       "      <th>DayofMonth</th>\n",
       "      <th>DayOfWeek</th>\n",
       "      <th>FlightDate</th>\n",
       "      <th>UniqueCarrier</th>\n",
       "      <th>AirlineID</th>\n",
       "      <th>Carrier</th>\n",
       "      <th>TailNum</th>\n",
       "      <th>FlightNum</th>\n",
       "      <th>OriginAirportSeqID</th>\n",
       "      <th>OriginCityMarketID</th>\n",
       "      <th>Origin</th>\n",
       "      <th>OriginState</th>\n",
       "      <th>OriginStateFips</th>\n",
       "      <th>OriginStateName</th>\n",
       "      <th>OriginWac</th>\n",
       "      <th>DestAirportID</th>\n",
       "      <th>DestAirportSeqID</th>\n",
       "      <th>DestCityMarketID</th>\n",
       "      <th>Dest</th>\n",
       "      <th>DestState</th>\n",
       "      <th>DestStateFips</th>\n",
       "      <th>DestStateName</th>\n",
       "      <th>DestWac</th>\n",
       "      <th>CRSDepTime</th>\n",
       "      <th>CRSArrTime</th>\n",
       "      <th>Distance</th>\n",
       "      <th>DepDelay</th>\n",
       "      <th>type</th>\n",
       "      <th>manufacturer</th>\n",
       "      <th>issue_date</th>\n",
       "      <th>model</th>\n",
       "      <th>status</th>\n",
       "      <th>aircraft_type</th>\n",
       "      <th>engine_type</th>\n",
       "      <th>year</th>\n",
       "      <th>Date</th>\n",
       "      <th>Weekday</th>\n",
       "      <th>Holiday.Name</th>\n",
       "      <th>Holiday.Type</th>\n",
       "      <th>Rank</th>\n",
       "      <th>S/L</th>\n",
       "      <th>Hub</th>\n",
       "      <th>CY 16 Enplanements</th>\n",
       "      <th>CY 15 Enplanements</th>\n",
       "      <th>% Change</th>\n",
       "      <th>airport_code</th>\n",
       "      <th>lat</th>\n",
       "      <th>lon</th>\n",
       "      <th>TMAX</th>\n",
       "      <th>TMIN</th>\n",
       "      <th>PRCP</th>\n",
       "      <th>AWND</th>\n",
       "      <th>TAVG</th>\n",
       "      <th>WDF2</th>\n",
       "      <th>WDF5</th>\n",
       "      <th>WSF2</th>\n",
       "      <th>WSF5</th>\n",
       "      <th>TOBS</th>\n",
       "      <th>SNOW</th>\n",
       "      <th>SNWD</th>\n",
       "      <th>WT01</th>\n",
       "      <th>WT08</th>\n",
       "      <th>WT03</th>\n",
       "      <th>WT02</th>\n",
       "      <th>PSUN</th>\n",
       "      <th>TSUN</th>\n",
       "      <th>PGTM</th>\n",
       "      <th>WESD</th>\n",
       "      <th>WESF</th>\n",
       "      <th>WT05</th>\n",
       "      <th>WT06</th>\n",
       "      <th>WT04</th>\n",
       "      <th>WT11</th>\n",
       "      <th>WT09</th>\n",
       "      <th>DAPR</th>\n",
       "      <th>MDPR</th>\n",
       "      <th>SN32</th>\n",
       "      <th>SX32</th>\n",
       "      <th>WT07</th>\n",
       "      <th>WT10</th>\n",
       "      <th>SN52</th>\n",
       "      <th>SX52</th>\n",
       "      <th>EVAP</th>\n",
       "      <th>MNPN</th>\n",
       "      <th>MXPN</th>\n",
       "      <th>WDMV</th>\n",
       "      <th>DepDelay_pos</th>\n",
       "      <th>DepDelay_class</th>\n",
       "      <th>hour</th>\n",
       "      <th>poisson_hourly</th>\n",
       "      <th>poisson_daily</th>\n",
       "    </tr>\n",
       "  </thead>\n",
       "  <tbody>\n",
       "    <tr>\n",
       "      <th>0</th>\n",
       "      <td>2016</td>\n",
       "      <td>1</td>\n",
       "      <td>1</td>\n",
       "      <td>7</td>\n",
       "      <td>4</td>\n",
       "      <td>20160107</td>\n",
       "      <td>AA</td>\n",
       "      <td>19805</td>\n",
       "      <td>AA</td>\n",
       "      <td>N434AA</td>\n",
       "      <td>43</td>\n",
       "      <td>1129804</td>\n",
       "      <td>30194</td>\n",
       "      <td>DFW</td>\n",
       "      <td>TX</td>\n",
       "      <td>48</td>\n",
       "      <td>Texas</td>\n",
       "      <td>74</td>\n",
       "      <td>11433</td>\n",
       "      <td>1143302</td>\n",
       "      <td>31295</td>\n",
       "      <td>DTW</td>\n",
       "      <td>MI</td>\n",
       "      <td>26</td>\n",
       "      <td>Michigan</td>\n",
       "      <td>43</td>\n",
       "      <td>2016-01-07 11:00:00</td>\n",
       "      <td>2016-01-07 14:38:00</td>\n",
       "      <td>986.0</td>\n",
       "      <td>-4.0</td>\n",
       "      <td>Corporation</td>\n",
       "      <td>MCDONNELL DOUGLAS</td>\n",
       "      <td>08/12/1987</td>\n",
       "      <td>DC-9-83(MD-83)</td>\n",
       "      <td>Valid</td>\n",
       "      <td>Fixed Wing Multi-Engine</td>\n",
       "      <td>Turbo-Fan</td>\n",
       "      <td>1987</td>\n",
       "      <td>NaN</td>\n",
       "      <td>NaN</td>\n",
       "      <td>NaN</td>\n",
       "      <td>NaN</td>\n",
       "      <td>4</td>\n",
       "      <td>P</td>\n",
       "      <td>L</td>\n",
       "      <td>31274875.0</td>\n",
       "      <td>31589839.0</td>\n",
       "      <td>-1.0</td>\n",
       "      <td>USW00003927</td>\n",
       "      <td>32.9</td>\n",
       "      <td>97.0</td>\n",
       "      <td>178</td>\n",
       "      <td>89</td>\n",
       "      <td>15</td>\n",
       "      <td>39</td>\n",
       "      <td>110</td>\n",
       "      <td>170</td>\n",
       "      <td>170</td>\n",
       "      <td>81</td>\n",
       "      <td>98</td>\n",
       "      <td>0</td>\n",
       "      <td>0</td>\n",
       "      <td>0</td>\n",
       "      <td>1</td>\n",
       "      <td>0</td>\n",
       "      <td>0</td>\n",
       "      <td>1</td>\n",
       "      <td>0</td>\n",
       "      <td>0</td>\n",
       "      <td>0</td>\n",
       "      <td>0</td>\n",
       "      <td>0</td>\n",
       "      <td>0</td>\n",
       "      <td>0</td>\n",
       "      <td>0</td>\n",
       "      <td>0</td>\n",
       "      <td>0</td>\n",
       "      <td>0</td>\n",
       "      <td>0</td>\n",
       "      <td>0</td>\n",
       "      <td>0</td>\n",
       "      <td>0</td>\n",
       "      <td>0</td>\n",
       "      <td>0</td>\n",
       "      <td>0</td>\n",
       "      <td>0</td>\n",
       "      <td>0</td>\n",
       "      <td>0</td>\n",
       "      <td>0</td>\n",
       "      <td>0.0</td>\n",
       "      <td>0</td>\n",
       "      <td>11</td>\n",
       "      <td>9.4828</td>\n",
       "      <td>12.485015</td>\n",
       "    </tr>\n",
       "    <tr>\n",
       "      <th>1</th>\n",
       "      <td>2016</td>\n",
       "      <td>1</td>\n",
       "      <td>1</td>\n",
       "      <td>7</td>\n",
       "      <td>4</td>\n",
       "      <td>20160107</td>\n",
       "      <td>AA</td>\n",
       "      <td>19805</td>\n",
       "      <td>AA</td>\n",
       "      <td>N436AA</td>\n",
       "      <td>335</td>\n",
       "      <td>1129804</td>\n",
       "      <td>30194</td>\n",
       "      <td>DFW</td>\n",
       "      <td>TX</td>\n",
       "      <td>48</td>\n",
       "      <td>Texas</td>\n",
       "      <td>74</td>\n",
       "      <td>13930</td>\n",
       "      <td>1393004</td>\n",
       "      <td>30977</td>\n",
       "      <td>ORD</td>\n",
       "      <td>IL</td>\n",
       "      <td>17</td>\n",
       "      <td>Illinois</td>\n",
       "      <td>41</td>\n",
       "      <td>2016-01-07 11:00:00</td>\n",
       "      <td>2016-01-07 13:26:00</td>\n",
       "      <td>802.0</td>\n",
       "      <td>34.0</td>\n",
       "      <td>Corporation</td>\n",
       "      <td>MCDONNELL DOUGLAS</td>\n",
       "      <td>08/18/1987</td>\n",
       "      <td>DC-9-83(MD-83)</td>\n",
       "      <td>Valid</td>\n",
       "      <td>Fixed Wing Multi-Engine</td>\n",
       "      <td>Turbo-Fan</td>\n",
       "      <td>1987</td>\n",
       "      <td>NaN</td>\n",
       "      <td>NaN</td>\n",
       "      <td>NaN</td>\n",
       "      <td>NaN</td>\n",
       "      <td>4</td>\n",
       "      <td>P</td>\n",
       "      <td>L</td>\n",
       "      <td>31274875.0</td>\n",
       "      <td>31589839.0</td>\n",
       "      <td>-1.0</td>\n",
       "      <td>USW00003927</td>\n",
       "      <td>32.9</td>\n",
       "      <td>97.0</td>\n",
       "      <td>178</td>\n",
       "      <td>89</td>\n",
       "      <td>15</td>\n",
       "      <td>39</td>\n",
       "      <td>110</td>\n",
       "      <td>170</td>\n",
       "      <td>170</td>\n",
       "      <td>81</td>\n",
       "      <td>98</td>\n",
       "      <td>0</td>\n",
       "      <td>0</td>\n",
       "      <td>0</td>\n",
       "      <td>1</td>\n",
       "      <td>0</td>\n",
       "      <td>0</td>\n",
       "      <td>1</td>\n",
       "      <td>0</td>\n",
       "      <td>0</td>\n",
       "      <td>0</td>\n",
       "      <td>0</td>\n",
       "      <td>0</td>\n",
       "      <td>0</td>\n",
       "      <td>0</td>\n",
       "      <td>0</td>\n",
       "      <td>0</td>\n",
       "      <td>0</td>\n",
       "      <td>0</td>\n",
       "      <td>0</td>\n",
       "      <td>0</td>\n",
       "      <td>0</td>\n",
       "      <td>0</td>\n",
       "      <td>0</td>\n",
       "      <td>0</td>\n",
       "      <td>0</td>\n",
       "      <td>0</td>\n",
       "      <td>0</td>\n",
       "      <td>0</td>\n",
       "      <td>0</td>\n",
       "      <td>34.0</td>\n",
       "      <td>1</td>\n",
       "      <td>11</td>\n",
       "      <td>9.4828</td>\n",
       "      <td>12.485015</td>\n",
       "    </tr>\n",
       "    <tr>\n",
       "      <th>2</th>\n",
       "      <td>2016</td>\n",
       "      <td>1</td>\n",
       "      <td>1</td>\n",
       "      <td>7</td>\n",
       "      <td>4</td>\n",
       "      <td>20160107</td>\n",
       "      <td>AA</td>\n",
       "      <td>19805</td>\n",
       "      <td>AA</td>\n",
       "      <td>N488AA</td>\n",
       "      <td>2528</td>\n",
       "      <td>1129804</td>\n",
       "      <td>30194</td>\n",
       "      <td>DFW</td>\n",
       "      <td>TX</td>\n",
       "      <td>48</td>\n",
       "      <td>Texas</td>\n",
       "      <td>74</td>\n",
       "      <td>13244</td>\n",
       "      <td>1324402</td>\n",
       "      <td>33244</td>\n",
       "      <td>MEM</td>\n",
       "      <td>TN</td>\n",
       "      <td>47</td>\n",
       "      <td>Tennessee</td>\n",
       "      <td>54</td>\n",
       "      <td>2016-01-07 11:55:00</td>\n",
       "      <td>2016-01-07 13:24:00</td>\n",
       "      <td>431.0</td>\n",
       "      <td>-7.0</td>\n",
       "      <td>Corporation</td>\n",
       "      <td>MCDONNELL DOUGLAS</td>\n",
       "      <td>03/29/1989</td>\n",
       "      <td>DC-9-82(MD-82)</td>\n",
       "      <td>Valid</td>\n",
       "      <td>Fixed Wing Multi-Engine</td>\n",
       "      <td>Turbo-Fan</td>\n",
       "      <td>1988</td>\n",
       "      <td>NaN</td>\n",
       "      <td>NaN</td>\n",
       "      <td>NaN</td>\n",
       "      <td>NaN</td>\n",
       "      <td>4</td>\n",
       "      <td>P</td>\n",
       "      <td>L</td>\n",
       "      <td>31274875.0</td>\n",
       "      <td>31589839.0</td>\n",
       "      <td>-1.0</td>\n",
       "      <td>USW00003927</td>\n",
       "      <td>32.9</td>\n",
       "      <td>97.0</td>\n",
       "      <td>178</td>\n",
       "      <td>89</td>\n",
       "      <td>15</td>\n",
       "      <td>39</td>\n",
       "      <td>110</td>\n",
       "      <td>170</td>\n",
       "      <td>170</td>\n",
       "      <td>81</td>\n",
       "      <td>98</td>\n",
       "      <td>0</td>\n",
       "      <td>0</td>\n",
       "      <td>0</td>\n",
       "      <td>1</td>\n",
       "      <td>0</td>\n",
       "      <td>0</td>\n",
       "      <td>1</td>\n",
       "      <td>0</td>\n",
       "      <td>0</td>\n",
       "      <td>0</td>\n",
       "      <td>0</td>\n",
       "      <td>0</td>\n",
       "      <td>0</td>\n",
       "      <td>0</td>\n",
       "      <td>0</td>\n",
       "      <td>0</td>\n",
       "      <td>0</td>\n",
       "      <td>0</td>\n",
       "      <td>0</td>\n",
       "      <td>0</td>\n",
       "      <td>0</td>\n",
       "      <td>0</td>\n",
       "      <td>0</td>\n",
       "      <td>0</td>\n",
       "      <td>0</td>\n",
       "      <td>0</td>\n",
       "      <td>0</td>\n",
       "      <td>0</td>\n",
       "      <td>0</td>\n",
       "      <td>0.0</td>\n",
       "      <td>0</td>\n",
       "      <td>11</td>\n",
       "      <td>9.4828</td>\n",
       "      <td>12.485015</td>\n",
       "    </tr>\n",
       "    <tr>\n",
       "      <th>3</th>\n",
       "      <td>2016</td>\n",
       "      <td>1</td>\n",
       "      <td>1</td>\n",
       "      <td>7</td>\n",
       "      <td>4</td>\n",
       "      <td>20160107</td>\n",
       "      <td>AA</td>\n",
       "      <td>19805</td>\n",
       "      <td>AA</td>\n",
       "      <td>N567AA</td>\n",
       "      <td>1373</td>\n",
       "      <td>1129804</td>\n",
       "      <td>30194</td>\n",
       "      <td>DFW</td>\n",
       "      <td>TX</td>\n",
       "      <td>48</td>\n",
       "      <td>Texas</td>\n",
       "      <td>74</td>\n",
       "      <td>12451</td>\n",
       "      <td>1245102</td>\n",
       "      <td>31136</td>\n",
       "      <td>JAX</td>\n",
       "      <td>FL</td>\n",
       "      <td>12</td>\n",
       "      <td>Florida</td>\n",
       "      <td>33</td>\n",
       "      <td>2016-01-07 11:55:00</td>\n",
       "      <td>2016-01-07 15:13:00</td>\n",
       "      <td>918.0</td>\n",
       "      <td>-6.0</td>\n",
       "      <td>Individual</td>\n",
       "      <td>DEHAVILLAND</td>\n",
       "      <td>01/09/1976</td>\n",
       "      <td>OTTER DHC-3</td>\n",
       "      <td>Valid</td>\n",
       "      <td>Fixed Wing Single-Engine</td>\n",
       "      <td>Reciprocating</td>\n",
       "      <td>1959</td>\n",
       "      <td>NaN</td>\n",
       "      <td>NaN</td>\n",
       "      <td>NaN</td>\n",
       "      <td>NaN</td>\n",
       "      <td>4</td>\n",
       "      <td>P</td>\n",
       "      <td>L</td>\n",
       "      <td>31274875.0</td>\n",
       "      <td>31589839.0</td>\n",
       "      <td>-1.0</td>\n",
       "      <td>USW00003927</td>\n",
       "      <td>32.9</td>\n",
       "      <td>97.0</td>\n",
       "      <td>178</td>\n",
       "      <td>89</td>\n",
       "      <td>15</td>\n",
       "      <td>39</td>\n",
       "      <td>110</td>\n",
       "      <td>170</td>\n",
       "      <td>170</td>\n",
       "      <td>81</td>\n",
       "      <td>98</td>\n",
       "      <td>0</td>\n",
       "      <td>0</td>\n",
       "      <td>0</td>\n",
       "      <td>1</td>\n",
       "      <td>0</td>\n",
       "      <td>0</td>\n",
       "      <td>1</td>\n",
       "      <td>0</td>\n",
       "      <td>0</td>\n",
       "      <td>0</td>\n",
       "      <td>0</td>\n",
       "      <td>0</td>\n",
       "      <td>0</td>\n",
       "      <td>0</td>\n",
       "      <td>0</td>\n",
       "      <td>0</td>\n",
       "      <td>0</td>\n",
       "      <td>0</td>\n",
       "      <td>0</td>\n",
       "      <td>0</td>\n",
       "      <td>0</td>\n",
       "      <td>0</td>\n",
       "      <td>0</td>\n",
       "      <td>0</td>\n",
       "      <td>0</td>\n",
       "      <td>0</td>\n",
       "      <td>0</td>\n",
       "      <td>0</td>\n",
       "      <td>0</td>\n",
       "      <td>0.0</td>\n",
       "      <td>0</td>\n",
       "      <td>11</td>\n",
       "      <td>9.4828</td>\n",
       "      <td>12.485015</td>\n",
       "    </tr>\n",
       "    <tr>\n",
       "      <th>4</th>\n",
       "      <td>2016</td>\n",
       "      <td>1</td>\n",
       "      <td>1</td>\n",
       "      <td>7</td>\n",
       "      <td>4</td>\n",
       "      <td>20160107</td>\n",
       "      <td>AA</td>\n",
       "      <td>19805</td>\n",
       "      <td>AA</td>\n",
       "      <td>N184US</td>\n",
       "      <td>522</td>\n",
       "      <td>1129804</td>\n",
       "      <td>30194</td>\n",
       "      <td>DFW</td>\n",
       "      <td>TX</td>\n",
       "      <td>48</td>\n",
       "      <td>Texas</td>\n",
       "      <td>74</td>\n",
       "      <td>14107</td>\n",
       "      <td>1410702</td>\n",
       "      <td>30466</td>\n",
       "      <td>PHX</td>\n",
       "      <td>AZ</td>\n",
       "      <td>4</td>\n",
       "      <td>Arizona</td>\n",
       "      <td>81</td>\n",
       "      <td>2016-01-07 11:50:00</td>\n",
       "      <td>2016-01-07 13:31:00</td>\n",
       "      <td>868.0</td>\n",
       "      <td>-3.0</td>\n",
       "      <td>Corporation</td>\n",
       "      <td>AIRBUS INDUSTRIE</td>\n",
       "      <td>01/31/2002</td>\n",
       "      <td>A321-211</td>\n",
       "      <td>Valid</td>\n",
       "      <td>Fixed Wing Multi-Engine</td>\n",
       "      <td>Turbo-Jet</td>\n",
       "      <td>2002</td>\n",
       "      <td>NaN</td>\n",
       "      <td>NaN</td>\n",
       "      <td>NaN</td>\n",
       "      <td>NaN</td>\n",
       "      <td>4</td>\n",
       "      <td>P</td>\n",
       "      <td>L</td>\n",
       "      <td>31274875.0</td>\n",
       "      <td>31589839.0</td>\n",
       "      <td>-1.0</td>\n",
       "      <td>USW00003927</td>\n",
       "      <td>32.9</td>\n",
       "      <td>97.0</td>\n",
       "      <td>178</td>\n",
       "      <td>89</td>\n",
       "      <td>15</td>\n",
       "      <td>39</td>\n",
       "      <td>110</td>\n",
       "      <td>170</td>\n",
       "      <td>170</td>\n",
       "      <td>81</td>\n",
       "      <td>98</td>\n",
       "      <td>0</td>\n",
       "      <td>0</td>\n",
       "      <td>0</td>\n",
       "      <td>1</td>\n",
       "      <td>0</td>\n",
       "      <td>0</td>\n",
       "      <td>1</td>\n",
       "      <td>0</td>\n",
       "      <td>0</td>\n",
       "      <td>0</td>\n",
       "      <td>0</td>\n",
       "      <td>0</td>\n",
       "      <td>0</td>\n",
       "      <td>0</td>\n",
       "      <td>0</td>\n",
       "      <td>0</td>\n",
       "      <td>0</td>\n",
       "      <td>0</td>\n",
       "      <td>0</td>\n",
       "      <td>0</td>\n",
       "      <td>0</td>\n",
       "      <td>0</td>\n",
       "      <td>0</td>\n",
       "      <td>0</td>\n",
       "      <td>0</td>\n",
       "      <td>0</td>\n",
       "      <td>0</td>\n",
       "      <td>0</td>\n",
       "      <td>0</td>\n",
       "      <td>0.0</td>\n",
       "      <td>0</td>\n",
       "      <td>11</td>\n",
       "      <td>9.4828</td>\n",
       "      <td>12.485015</td>\n",
       "    </tr>\n",
       "  </tbody>\n",
       "</table>\n",
       "</div>"
      ],
      "text/plain": [
       "   Year  Quarter  Month  DayofMonth  DayOfWeek FlightDate UniqueCarrier  \\\n",
       "0  2016        1      1           7          4   20160107            AA   \n",
       "1  2016        1      1           7          4   20160107            AA   \n",
       "2  2016        1      1           7          4   20160107            AA   \n",
       "3  2016        1      1           7          4   20160107            AA   \n",
       "4  2016        1      1           7          4   20160107            AA   \n",
       "\n",
       "   AirlineID Carrier TailNum  FlightNum  OriginAirportSeqID  \\\n",
       "0      19805      AA  N434AA         43             1129804   \n",
       "1      19805      AA  N436AA        335             1129804   \n",
       "2      19805      AA  N488AA       2528             1129804   \n",
       "3      19805      AA  N567AA       1373             1129804   \n",
       "4      19805      AA  N184US        522             1129804   \n",
       "\n",
       "   OriginCityMarketID Origin OriginState  OriginStateFips OriginStateName  \\\n",
       "0               30194    DFW          TX               48           Texas   \n",
       "1               30194    DFW          TX               48           Texas   \n",
       "2               30194    DFW          TX               48           Texas   \n",
       "3               30194    DFW          TX               48           Texas   \n",
       "4               30194    DFW          TX               48           Texas   \n",
       "\n",
       "   OriginWac  DestAirportID  DestAirportSeqID  DestCityMarketID Dest  \\\n",
       "0         74          11433           1143302             31295  DTW   \n",
       "1         74          13930           1393004             30977  ORD   \n",
       "2         74          13244           1324402             33244  MEM   \n",
       "3         74          12451           1245102             31136  JAX   \n",
       "4         74          14107           1410702             30466  PHX   \n",
       "\n",
       "  DestState  DestStateFips DestStateName  DestWac           CRSDepTime  \\\n",
       "0        MI             26      Michigan       43  2016-01-07 11:00:00   \n",
       "1        IL             17      Illinois       41  2016-01-07 11:00:00   \n",
       "2        TN             47     Tennessee       54  2016-01-07 11:55:00   \n",
       "3        FL             12       Florida       33  2016-01-07 11:55:00   \n",
       "4        AZ              4       Arizona       81  2016-01-07 11:50:00   \n",
       "\n",
       "            CRSArrTime  Distance  DepDelay         type       manufacturer  \\\n",
       "0  2016-01-07 14:38:00     986.0      -4.0  Corporation  MCDONNELL DOUGLAS   \n",
       "1  2016-01-07 13:26:00     802.0      34.0  Corporation  MCDONNELL DOUGLAS   \n",
       "2  2016-01-07 13:24:00     431.0      -7.0  Corporation  MCDONNELL DOUGLAS   \n",
       "3  2016-01-07 15:13:00     918.0      -6.0   Individual        DEHAVILLAND   \n",
       "4  2016-01-07 13:31:00     868.0      -3.0  Corporation   AIRBUS INDUSTRIE   \n",
       "\n",
       "   issue_date           model status             aircraft_type    engine_type  \\\n",
       "0  08/12/1987  DC-9-83(MD-83)  Valid   Fixed Wing Multi-Engine      Turbo-Fan   \n",
       "1  08/18/1987  DC-9-83(MD-83)  Valid   Fixed Wing Multi-Engine      Turbo-Fan   \n",
       "2  03/29/1989  DC-9-82(MD-82)  Valid   Fixed Wing Multi-Engine      Turbo-Fan   \n",
       "3  01/09/1976     OTTER DHC-3  Valid  Fixed Wing Single-Engine  Reciprocating   \n",
       "4  01/31/2002        A321-211  Valid   Fixed Wing Multi-Engine      Turbo-Jet   \n",
       "\n",
       "   year  Date Weekday Holiday.Name Holiday.Type  Rank S/L Hub  \\\n",
       "0  1987   NaN     NaN          NaN          NaN     4   P   L   \n",
       "1  1987   NaN     NaN          NaN          NaN     4   P   L   \n",
       "2  1988   NaN     NaN          NaN          NaN     4   P   L   \n",
       "3  1959   NaN     NaN          NaN          NaN     4   P   L   \n",
       "4  2002   NaN     NaN          NaN          NaN     4   P   L   \n",
       "\n",
       "   CY 16 Enplanements  CY 15 Enplanements  % Change airport_code   lat   lon  \\\n",
       "0          31274875.0          31589839.0      -1.0  USW00003927  32.9  97.0   \n",
       "1          31274875.0          31589839.0      -1.0  USW00003927  32.9  97.0   \n",
       "2          31274875.0          31589839.0      -1.0  USW00003927  32.9  97.0   \n",
       "3          31274875.0          31589839.0      -1.0  USW00003927  32.9  97.0   \n",
       "4          31274875.0          31589839.0      -1.0  USW00003927  32.9  97.0   \n",
       "\n",
       "   TMAX  TMIN  PRCP  AWND  TAVG  WDF2  WDF5  WSF2  WSF5  TOBS  SNOW  SNWD  \\\n",
       "0   178    89    15    39   110   170   170    81    98     0     0     0   \n",
       "1   178    89    15    39   110   170   170    81    98     0     0     0   \n",
       "2   178    89    15    39   110   170   170    81    98     0     0     0   \n",
       "3   178    89    15    39   110   170   170    81    98     0     0     0   \n",
       "4   178    89    15    39   110   170   170    81    98     0     0     0   \n",
       "\n",
       "   WT01  WT08  WT03  WT02  PSUN  TSUN  PGTM  WESD  WESF  WT05  WT06  WT04  \\\n",
       "0     1     0     0     1     0     0     0     0     0     0     0     0   \n",
       "1     1     0     0     1     0     0     0     0     0     0     0     0   \n",
       "2     1     0     0     1     0     0     0     0     0     0     0     0   \n",
       "3     1     0     0     1     0     0     0     0     0     0     0     0   \n",
       "4     1     0     0     1     0     0     0     0     0     0     0     0   \n",
       "\n",
       "   WT11  WT09  DAPR  MDPR  SN32  SX32  WT07  WT10  SN52  SX52  EVAP  MNPN  \\\n",
       "0     0     0     0     0     0     0     0     0     0     0     0     0   \n",
       "1     0     0     0     0     0     0     0     0     0     0     0     0   \n",
       "2     0     0     0     0     0     0     0     0     0     0     0     0   \n",
       "3     0     0     0     0     0     0     0     0     0     0     0     0   \n",
       "4     0     0     0     0     0     0     0     0     0     0     0     0   \n",
       "\n",
       "   MXPN  WDMV  DepDelay_pos  DepDelay_class  hour  poisson_hourly  \\\n",
       "0     0     0           0.0               0    11          9.4828   \n",
       "1     0     0          34.0               1    11          9.4828   \n",
       "2     0     0           0.0               0    11          9.4828   \n",
       "3     0     0           0.0               0    11          9.4828   \n",
       "4     0     0           0.0               0    11          9.4828   \n",
       "\n",
       "   poisson_daily  \n",
       "0      12.485015  \n",
       "1      12.485015  \n",
       "2      12.485015  \n",
       "3      12.485015  \n",
       "4      12.485015  "
      ]
     },
     "execution_count": 160,
     "metadata": {},
     "output_type": "execute_result"
    }
   ],
   "source": [
    "df_airline_filtered.head()"
   ]
  },
  {
   "cell_type": "code",
   "execution_count": 173,
   "metadata": {
    "collapsed": false
   },
   "outputs": [
    {
     "name": "stdout",
     "output_type": "stream",
     "text": [
      "Parse progress: |██████████████████████████████████████████████████████████████| 100%\n"
     ]
    }
   ],
   "source": [
    "\n",
    "df_prelim = h2o.H2OFrame(df_airline_filtered)\n",
    "df_prelim['DepDelay_class']=df_prelim['DepDelay_class'].asfactor()\n",
    "train, valid, test = df_prelim.split_frame([0.7, 0.15], seed=1234)\n",
    "train['DepDelay_class']=train['DepDelay_class'].asfactor()\n",
    "test['DepDelay_class']=test['DepDelay_class'].asfactor()\n",
    "valid['DepDelay_class']=valid['DepDelay_class'].asfactor()\n"
   ]
  },
  {
   "cell_type": "markdown",
   "metadata": {},
   "source": [
    "## Part II.1) Linear Models"
   ]
  },
  {
   "cell_type": "code",
   "execution_count": 178,
   "metadata": {
    "collapsed": false
   },
   "outputs": [
    {
     "name": "stdout",
     "output_type": "stream",
     "text": [
      "glm Model Build progress: |███████████████████████████████████████████████| 100%\n"
     ]
    },
    {
     "data": {
      "text/plain": [
       "0.7107056788950973"
      ]
     },
     "execution_count": 178,
     "metadata": {},
     "output_type": "execute_result"
    }
   ],
   "source": [
    "best_linear=H2OGeneralizedLinearEstimator(family='binomial',alpha=0.01,lambda_=1e-5)\n",
    "best_linear.train(x=df_prelim.drop(['DepDelay','DepDelay_pos','DepDelay_class'],1).columns,y=\"DepDelay_class\",training_frame=train, validation_frame=valid)\n",
    "best_linear.auc(valid)"
   ]
  },
  {
   "cell_type": "markdown",
   "metadata": {},
   "source": [
    "## Part II.1) Nonlinear Models"
   ]
  },
  {
   "cell_type": "markdown",
   "metadata": {},
   "source": [
    "II.1a) Random Forest Classifier"
   ]
  },
  {
   "cell_type": "code",
   "execution_count": 174,
   "metadata": {
    "collapsed": false
   },
   "outputs": [
    {
     "name": "stdout",
     "output_type": "stream",
     "text": [
      "drf Model Build progress: |███████████████████████████████████████████████| 100%\n"
     ]
    },
    {
     "data": {
      "text/plain": [
       "0.7513694191629958"
      ]
     },
     "execution_count": 174,
     "metadata": {},
     "output_type": "execute_result"
    }
   ],
   "source": [
    "\n",
    "rf_c=H2ORandomForestEstimator()#ntrees=50, max_depth=10, nfolds=10)\n",
    "\n",
    "rf_c.train(x=df_prelim.drop(['DepDelay','DepDelay_class','DepDelay_pos'],1).columns,y=\"DepDelay_class\",training_frame=train, validation_frame=valid)\n",
    "rf_c.auc(valid)"
   ]
  },
  {
   "cell_type": "markdown",
   "metadata": {},
   "source": [
    "II.2b) Gradient Boosting Estimator"
   ]
  },
  {
   "cell_type": "code",
   "execution_count": 179,
   "metadata": {
    "collapsed": false
   },
   "outputs": [
    {
     "name": "stdout",
     "output_type": "stream",
     "text": [
      "gbm Model Build progress: |███████████████████████████████████████████████| 100%\n"
     ]
    },
    {
     "data": {
      "text/plain": [
       "0.7471532997226499"
      ]
     },
     "execution_count": 179,
     "metadata": {},
     "output_type": "execute_result"
    }
   ],
   "source": [
    "from h2o.estimators.gbm import H2OGradientBoostingEstimator\n",
    "gb_c=H2OGradientBoostingEstimator()#ntrees=50, max_depth=10, nfolds=10)\n",
    "\n",
    "gb_c.train(x=df_prelim.drop(['DepDelay','DepDelay_class','DepDelay_pos'],1).columns,y=\"DepDelay_class\",training_frame=train, validation_frame=valid)\n",
    "gb_c.auc(valid)"
   ]
  },
  {
   "cell_type": "markdown",
   "metadata": {},
   "source": [
    "## Part II.3) Feature Importance"
   ]
  },
  {
   "cell_type": "markdown",
   "metadata": {},
   "source": [
    "II.3a) Random Forest Classifier"
   ]
  },
  {
   "cell_type": "code",
   "execution_count": 175,
   "metadata": {
    "collapsed": false
   },
   "outputs": [
    {
     "data": {
      "image/png": "[encoded data removed]",
      "text/plain": [
       "<matplotlib.figure.Figure at 0x376f550b8>"
      ]
     },
     "metadata": {},
     "output_type": "display_data"
    }
   ],
   "source": [
    "import matplotlib.pyplot as plt\n",
    "mymodel=rf_c\n",
    "num_features=15\n",
    "plt.rcdefaults()\n",
    "fig, ax = plt.subplots()\n",
    "variables = mymodel._model_json['output']['variable_importances']['variable']\n",
    "y_pos = np.arange(len(variables))\n",
    "scaled_importance = mymodel._model_json['output']['variable_importances']['scaled_importance']\n",
    "ax.barh(y_pos[0:num_features], scaled_importance[0:num_features], align='center', color='green', ecolor='black')\n",
    "ax.set_yticks(y_pos[0:num_features])\n",
    "ax.set_yticklabels(variables[0:num_features])\n",
    "ax.invert_yaxis()\n",
    "ax.set_xlabel('Scaled Importance')\n",
    "ax.set_title('Variable Importance')\n",
    "plt.show()"
   ]
  },
  {
   "cell_type": "markdown",
   "metadata": {},
   "source": [
    "II.3b) Gradient Boosted Classifier"
   ]
  },
  {
   "cell_type": "code",
   "execution_count": 180,
   "metadata": {
    "collapsed": false
   },
   "outputs": [
    {
     "data": {
      "image/png": "[encoded data removed]",
      "text/plain": [
       "<matplotlib.figure.Figure at 0x367bf70f0>"
      ]
     },
     "metadata": {},
     "output_type": "display_data"
    }
   ],
   "source": [
    "import matplotlib.pyplot as plt\n",
    "mymodel=gb_c\n",
    "num_features=15\n",
    "plt.rcdefaults()\n",
    "fig, ax = plt.subplots()\n",
    "variables = mymodel._model_json['output']['variable_importances']['variable']\n",
    "y_pos = np.arange(len(variables))\n",
    "scaled_importance = mymodel._model_json['output']['variable_importances']['scaled_importance']\n",
    "ax.barh(y_pos[0:num_features], scaled_importance[0:num_features], align='center', color='green', ecolor='black')\n",
    "ax.set_yticks(y_pos[0:num_features])\n",
    "ax.set_yticklabels(variables[0:num_features])\n",
    "ax.invert_yaxis()\n",
    "ax.set_xlabel('Scaled Importance')\n",
    "ax.set_title('Variable Importance')\n",
    "plt.show()"
   ]
  },
  {
   "cell_type": "code",
   "execution_count": 68,
   "metadata": {
    "collapsed": true
   },
   "outputs": [],
   "source": [
    "from sklearn import metrics"
   ]
  },
  {
   "cell_type": "code",
   "execution_count": 176,
   "metadata": {
    "collapsed": false
   },
   "outputs": [],
   "source": [
    "from sklearn import metrics\n",
    "out = rf_c.model_performance(test)\n",
    "fprs_rf = out.fprs\n",
    "tprs_rf = out.tprs\n",
    "roc = zip(fprs, tprs)"
   ]
  },
  {
   "cell_type": "code",
   "execution_count": 202,
   "metadata": {
    "collapsed": false
   },
   "outputs": [],
   "source": [
    "from sklearn import metrics\n",
    "out = gb.model_performance(test)\n",
    "fprs_gb = out.fprs\n",
    "tprs_gb = out.tprs\n",
    "roc = zip(fprs, tprs)"
   ]
  },
  {
   "cell_type": "markdown",
   "metadata": {},
   "source": [
    "## Linear Model"
   ]
  },
  {
   "cell_type": "code",
   "execution_count": 110,
   "metadata": {
    "collapsed": false
   },
   "outputs": [
    {
     "name": "stdout",
     "output_type": "stream",
     "text": [
      "glm Grid Build progress: |████████████████████████████████████████████████| 100%\n"
     ]
    },
    {
     "name": "stderr",
     "output_type": "stream",
     "text": [
      "/Users/dgoldma1/anaconda/lib/python3.6/site-packages/h2o/job.py:65: UserWarning: Reached maximum number of iterations 50!\n",
      "  warnings.warn(w)\n"
     ]
    }
   ],
   "source": [
    "from h2o.grid.grid_search import H2OGridSearch\n",
    "#Build grid search with previously made GBM and hyper parameters\n",
    "hyper_parameters = {'alpha': [0.01,0.3,0.5], 'lambda': [1e-5,1e-6,1e-7,1e-8]}\n",
    "\n",
    "# test search_criteria plumbing and max_models\n",
    "search_criteria = { 'strategy': \"RandomDiscrete\", 'max_models': 3 }\n",
    "max_models_g = H2OGridSearch(H2OGeneralizedLinearEstimator(family='binomial'),\n",
    "                             hyper_parameters, search_criteria=search_criteria)\n",
    "max_models_g.train(x=df_prelim.drop(['DepDelay','DepDelay_pos','DepDelay_class'],1).columns,y=\"DepDelay_class\",training_frame=train, validation_frame=valid)\n",
    "\n"
   ]
  },
  {
   "cell_type": "code",
   "execution_count": 127,
   "metadata": {
    "collapsed": false
   },
   "outputs": [
    {
     "name": "stdout",
     "output_type": "stream",
     "text": [
      "glm Model Build progress: |███████████████████████████████████████████████| 100%\n"
     ]
    },
    {
     "name": "stderr",
     "output_type": "stream",
     "text": [
      "/Users/dgoldma1/anaconda/lib/python3.6/site-packages/h2o/job.py:65: UserWarning: Reached maximum number of iterations 50!\n",
      "  warnings.warn(w)\n"
     ]
    }
   ],
   "source": [
    "best_linear=H2OGeneralizedLinearEstimator(family='binomial',alpha=0.01,lambda_=1e-5)\n",
    "best_linear.train(x=df_prelim.drop(['DepDelay','DepDelay_pos','DepDelay_class'],1).columns,y=\"DepDelay_class\",training_frame=train, validation_frame=valid)\n"
   ]
  },
  {
   "cell_type": "code",
   "execution_count": 111,
   "metadata": {
    "collapsed": false
   },
   "outputs": [
    {
     "data": {
      "text/plain": [
       "{'Grid_GLM_py_7_sid_b9bd_model_python_1500325966275_56_model_0': 0.7062968570792488,\n",
       " 'Grid_GLM_py_7_sid_b9bd_model_python_1500325966275_56_model_1': 0.7044157231279455,\n",
       " 'Grid_GLM_py_7_sid_b9bd_model_python_1500325966275_56_model_2': 0.7060154223499939}"
      ]
     },
     "execution_count": 111,
     "metadata": {},
     "output_type": "execute_result"
    }
   ],
   "source": [
    "max_models_g.auc(test)"
   ]
  },
  {
   "cell_type": "code",
   "execution_count": 128,
   "metadata": {
    "collapsed": false
   },
   "outputs": [],
   "source": [
    "from sklearn import metrics\n",
    "out = best_linear.model_performance(test)\n",
    "fprs_linear = out.fprs\n",
    "tprs_linear = out.tprs\n",
    "roc = zip(fprs_linear, tprs_linear)"
   ]
  },
  {
   "cell_type": "markdown",
   "metadata": {},
   "source": [
    "## Gradient Boosting Macine"
   ]
  },
  {
   "cell_type": "code",
   "execution_count": 62,
   "metadata": {
    "collapsed": false
   },
   "outputs": [
    {
     "name": "stdout",
     "output_type": "stream",
     "text": [
      "gbm Model Build progress: |███████████████████████████████████████████████| 100%\n"
     ]
    },
    {
     "data": {
      "text/plain": [
       "0.7470208871524803"
      ]
     },
     "execution_count": 62,
     "metadata": {},
     "output_type": "execute_result"
    }
   ],
   "source": [
    "from h2o.estimators.glm import H2OGeneralizedLinearEstimator\n",
    "from h2o.estimators.gbm import H2OGradientBoostingEstimator\n",
    "gb_c=H2OGradientBoostingEstimator()#ntrees=50, max_depth=10, nfolds=10)\n",
    "\n",
    "gb_c.train(x=df_prelim.drop(['DepDelay','DepDelay_class','DepDelay_pos'],1).columns,y=\"DepDelay_class\",training_frame=train, validation_frame=valid)\n",
    "gb_c.auc(valid)"
   ]
  },
  {
   "cell_type": "code",
   "execution_count": 113,
   "metadata": {
    "collapsed": true
   },
   "outputs": [],
   "source": [
    "out = gb_c.model_performance(test)\n",
    "fprs_gbc = out.fprs\n",
    "tprs_gbc = out.tprs\n",
    "roc_gbc = zip(fprs_gbc, tprs_gbc)"
   ]
  },
  {
   "cell_type": "markdown",
   "metadata": {},
   "source": [
    "# Final Plot"
   ]
  },
  {
   "cell_type": "markdown",
   "metadata": {},
   "source": [
    "This is the final plot which shows the comparison of all of the models above."
   ]
  },
  {
   "cell_type": "code",
   "execution_count": 201,
   "metadata": {
    "collapsed": false
   },
   "outputs": [
    {
     "data": {
      "text/plain": [
       "<matplotlib.legend.Legend at 0x1b3ae0e80>"
      ]
     },
     "execution_count": 201,
     "metadata": {},
     "output_type": "execute_result"
    },
    {
     "data": {
      "image/png": "[encoded data removed]",
      "text/plain": [
       "<matplotlib.figure.Figure at 0x1b331acf8>"
      ]
     },
     "metadata": {},
     "output_type": "display_data"
    }
   ],
   "source": [
    "plt.figure(figsize=(10,10))\n",
    "plt.title('Performance comparisons of various models')\n",
    "plt.plot(fprs_gbc,fprs_gbc)\n",
    "plt.plot(fprs_linear,fprs_linear)\n",
    "\n",
    "plt.plot(fprs,tprs,label='Random Forest Classifier (Enanced) ROC=0.76')\n",
    "plt.plot(fprs_gbc,tprs_gbc,label='Gradient Boosted Classifier (Enhanced) ROC=0.75')\n",
    "plt.plot(fprs_linear,tprs_linear,label='Linear Classifier (Enhanced) ROC=0.71')\n",
    "\n",
    "\n",
    "plt.plot(fprs_rf_c,tprs_rf_c,label=\"Random Forest (Orig) ROC=0.70\")\n",
    "plt.plot(fprs_gbb_c,tprs_gbb_c,label=\"Gradient Boosted Classifier (Orig) ROC=0.70\")\n",
    "plt.plot(fprs_best_model,tprs_best_model,label='Linear (Orig) ROC=0.65')\n",
    "\n",
    "\n",
    "plt.legend(loc=2)"
   ]
  }
 ],
 "metadata": {
  "kernelspec": {
   "display_name": "Python 3",
   "language": "python",
   "name": "python3"
  },
  "language_info": {
   "codemirror_mode": {
    "name": "ipython",
    "version": 3
   },
   "file_extension": ".py",
   "mimetype": "text/x-python",
   "name": "python",
   "nbconvert_exporter": "python",
   "pygments_lexer": "ipython3",
   "version": "3.6.0"
  }
 },
 "nbformat": 4,
 "nbformat_minor": 2
}
