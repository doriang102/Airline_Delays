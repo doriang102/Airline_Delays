{
 "cells": [
  {
   "cell_type": "code",
   "execution_count": 1,
   "metadata": {
    "collapsed": false
   },
   "outputs": [
    {
     "name": "stderr",
     "output_type": "stream",
     "text": [
      "/Users/dgoldma1/anaconda/lib/python3.6/site-packages/statsmodels/compat/pandas.py:56: FutureWarning: The pandas.core.datetools module is deprecated and will be removed in a future version. Please use the pandas.tseries module instead.\n",
      "  from pandas.core import datetools\n"
     ]
    }
   ],
   "source": [
    "import matplotlib.pyplot as plt\n",
    "import numpy as np\n",
    "import pandas as pd\n",
    "import pymc3 as pm\n",
    "import scipy\n",
    "import scipy.stats as stats\n",
    "import seaborn.apionly as sns\n",
    "import statsmodels.api as sm\n",
    "import theano.tensor as tt\n",
    "import pymc3\n",
    "from sklearn import preprocessing\n",
    "%matplotlib inline"
   ]
  },
  {
   "cell_type": "markdown",
   "metadata": {},
   "source": [
    "## Load in 2016 weather data."
   ]
  },
  {
   "cell_type": "markdown",
   "metadata": {},
   "source": [
    "- station identifier (GHCN Daily Identification Number)\n",
    "\n",
    " - date (yyyymmdd; where yyyy=year; mm=month; and, dd=day)\n",
    " - observation type (see ftp://ftp.ncdc.noaa.gov/pub/data/ghcn/daily/readme.txt for definitions)\n",
    " - observation value (see ftp://ftp.ncdc.noaa.gov/pub/data/ghcn/daily/readme.txt for units)\n",
    " - observation time (if available, as hhmm where hh=hour and mm=minutes in local time)\n"
   ]
  },
  {
   "cell_type": "code",
   "execution_count": 3,
   "metadata": {
    "collapsed": false
   },
   "outputs": [],
   "source": [
    "df_weather = pd.read_csv('../data/weather/2016_weather.csv',names=['airport_code','date','type','value','t1','t2','t3','t4'])"
   ]
  },
  {
   "cell_type": "code",
   "execution_count": 68,
   "metadata": {
    "collapsed": false
   },
   "outputs": [
    {
     "data": {
      "text/html": [
       "<div>\n",
       "<style>\n",
       "    .dataframe thead tr:only-child th {\n",
       "        text-align: right;\n",
       "    }\n",
       "\n",
       "    .dataframe thead th {\n",
       "        text-align: left;\n",
       "    }\n",
       "\n",
       "    .dataframe tbody tr th {\n",
       "        vertical-align: top;\n",
       "    }\n",
       "</style>\n",
       "<table border=\"1\" class=\"dataframe\">\n",
       "  <thead>\n",
       "    <tr style=\"text-align: right;\">\n",
       "      <th></th>\n",
       "      <th>airport_code</th>\n",
       "      <th>date</th>\n",
       "      <th>type</th>\n",
       "      <th>value</th>\n",
       "      <th>t1</th>\n",
       "      <th>t2</th>\n",
       "      <th>t3</th>\n",
       "      <th>t4</th>\n",
       "    </tr>\n",
       "  </thead>\n",
       "  <tbody>\n",
       "    <tr>\n",
       "      <th>0</th>\n",
       "      <td>US1NJES0019</td>\n",
       "      <td>20160101</td>\n",
       "      <td>PRCP</td>\n",
       "      <td>0</td>\n",
       "      <td>NaN</td>\n",
       "      <td>NaN</td>\n",
       "      <td>N</td>\n",
       "      <td>NaN</td>\n",
       "    </tr>\n",
       "    <tr>\n",
       "      <th>1</th>\n",
       "      <td>US1NJES0019</td>\n",
       "      <td>20160101</td>\n",
       "      <td>SNOW</td>\n",
       "      <td>0</td>\n",
       "      <td>NaN</td>\n",
       "      <td>NaN</td>\n",
       "      <td>N</td>\n",
       "      <td>NaN</td>\n",
       "    </tr>\n",
       "    <tr>\n",
       "      <th>2</th>\n",
       "      <td>US1NJGL0001</td>\n",
       "      <td>20160101</td>\n",
       "      <td>PRCP</td>\n",
       "      <td>0</td>\n",
       "      <td>NaN</td>\n",
       "      <td>NaN</td>\n",
       "      <td>N</td>\n",
       "      <td>NaN</td>\n",
       "    </tr>\n",
       "    <tr>\n",
       "      <th>3</th>\n",
       "      <td>US1NJGL0001</td>\n",
       "      <td>20160101</td>\n",
       "      <td>SNOW</td>\n",
       "      <td>0</td>\n",
       "      <td>NaN</td>\n",
       "      <td>NaN</td>\n",
       "      <td>N</td>\n",
       "      <td>NaN</td>\n",
       "    </tr>\n",
       "    <tr>\n",
       "      <th>4</th>\n",
       "      <td>CA1AB000023</td>\n",
       "      <td>20160101</td>\n",
       "      <td>PRCP</td>\n",
       "      <td>0</td>\n",
       "      <td>NaN</td>\n",
       "      <td>NaN</td>\n",
       "      <td>N</td>\n",
       "      <td>NaN</td>\n",
       "    </tr>\n",
       "  </tbody>\n",
       "</table>\n",
       "</div>"
      ],
      "text/plain": [
       "  airport_code      date  type  value   t1   t2 t3  t4\n",
       "0  US1NJES0019  20160101  PRCP      0  NaN  NaN  N NaN\n",
       "1  US1NJES0019  20160101  SNOW      0  NaN  NaN  N NaN\n",
       "2  US1NJGL0001  20160101  PRCP      0  NaN  NaN  N NaN\n",
       "3  US1NJGL0001  20160101  SNOW      0  NaN  NaN  N NaN\n",
       "4  CA1AB000023  20160101  PRCP      0  NaN  NaN  N NaN"
      ]
     },
     "execution_count": 68,
     "metadata": {},
     "output_type": "execute_result"
    }
   ],
   "source": [
    "df_weather.head()"
   ]
  },
  {
   "cell_type": "markdown",
   "metadata": {},
   "source": [
    "According to the readme, the value -999 is used only when there is no record available."
   ]
  },
  {
   "cell_type": "code",
   "execution_count": 4,
   "metadata": {
    "collapsed": false
   },
   "outputs": [],
   "source": [
    "df_weather=df_weather[df_weather['value'] > -999]"
   ]
  },
  {
   "cell_type": "markdown",
   "metadata": {},
   "source": [
    "## Load in airport lookup data."
   ]
  },
  {
   "cell_type": "markdown",
   "metadata": {},
   "source": [
    "The format was bad as it was seperated by spaces and not tabs. So I did the following bash command to make a tsv:"
   ]
  },
  {
   "cell_type": "code",
   "execution_count": 59,
   "metadata": {
    "collapsed": false
   },
   "outputs": [],
   "source": [
    "#!cat stations_airport.txt | awk {'printf (\"%s\\t%s\\t%s\\t%s\\t%s %s %s %s %s\\n\", $1, $2,$3,$4,$5,$6,$7,$8,$9)'} > airports.tsv"
   ]
  },
  {
   "cell_type": "code",
   "execution_count": 5,
   "metadata": {
    "collapsed": true
   },
   "outputs": [],
   "source": [
    "df_stations=pd.read_csv('../data/weather/airports.tsv',sep='\\t',names=['airport_code','lat','lon','height','name'])"
   ]
  },
  {
   "cell_type": "code",
   "execution_count": 74,
   "metadata": {
    "collapsed": false
   },
   "outputs": [
    {
     "data": {
      "text/html": [
       "<div>\n",
       "<style>\n",
       "    .dataframe thead tr:only-child th {\n",
       "        text-align: right;\n",
       "    }\n",
       "\n",
       "    .dataframe thead th {\n",
       "        text-align: left;\n",
       "    }\n",
       "\n",
       "    .dataframe tbody tr th {\n",
       "        vertical-align: top;\n",
       "    }\n",
       "</style>\n",
       "<table border=\"1\" class=\"dataframe\">\n",
       "  <thead>\n",
       "    <tr style=\"text-align: right;\">\n",
       "      <th></th>\n",
       "      <th>airport_code</th>\n",
       "      <th>lat</th>\n",
       "      <th>lon</th>\n",
       "      <th>height</th>\n",
       "      <th>name</th>\n",
       "    </tr>\n",
       "  </thead>\n",
       "  <tbody>\n",
       "    <tr>\n",
       "      <th>0</th>\n",
       "      <td>AM000037699</td>\n",
       "      <td>40.5330</td>\n",
       "      <td>44.3830</td>\n",
       "      <td>1892.0</td>\n",
       "      <td>APARAN 37699</td>\n",
       "    </tr>\n",
       "    <tr>\n",
       "      <th>1</th>\n",
       "      <td>AQC00914869</td>\n",
       "      <td>-14.3333</td>\n",
       "      <td>-170.7167</td>\n",
       "      <td>3.0</td>\n",
       "      <td>AS TAFUNA AP TUTUILA</td>\n",
       "    </tr>\n",
       "    <tr>\n",
       "      <th>2</th>\n",
       "      <td>AQW00061705</td>\n",
       "      <td>-14.3306</td>\n",
       "      <td>-170.7136</td>\n",
       "      <td>3.7</td>\n",
       "      <td>AS PAGO PAGO WSO AP</td>\n",
       "    </tr>\n",
       "    <tr>\n",
       "      <th>3</th>\n",
       "      <td>ASN00017006</td>\n",
       "      <td>-29.9267</td>\n",
       "      <td>138.7517</td>\n",
       "      <td>123.0</td>\n",
       "      <td>APOLLINARIS WELL</td>\n",
       "    </tr>\n",
       "    <tr>\n",
       "      <th>4</th>\n",
       "      <td>ASN00019001</td>\n",
       "      <td>-33.0524</td>\n",
       "      <td>138.4277</td>\n",
       "      <td>369.0</td>\n",
       "      <td>APPILA</td>\n",
       "    </tr>\n",
       "  </tbody>\n",
       "</table>\n",
       "</div>"
      ],
      "text/plain": [
       "  airport_code      lat       lon  height                   name\n",
       "0  AM000037699  40.5330   44.3830  1892.0        APARAN 37699   \n",
       "1  AQC00914869 -14.3333 -170.7167     3.0  AS TAFUNA AP TUTUILA \n",
       "2  AQW00061705 -14.3306 -170.7136     3.7    AS PAGO PAGO WSO AP\n",
       "3  ASN00017006 -29.9267  138.7517   123.0    APOLLINARIS WELL   \n",
       "4  ASN00019001 -33.0524  138.4277   369.0             APPILA    "
      ]
     },
     "execution_count": 74,
     "metadata": {},
     "output_type": "execute_result"
    }
   ],
   "source": [
    "df_stations.head()"
   ]
  },
  {
   "cell_type": "code",
   "execution_count": 75,
   "metadata": {
    "collapsed": false
   },
   "outputs": [
    {
     "data": {
      "text/html": [
       "<div>\n",
       "<style>\n",
       "    .dataframe thead tr:only-child th {\n",
       "        text-align: right;\n",
       "    }\n",
       "\n",
       "    .dataframe thead th {\n",
       "        text-align: left;\n",
       "    }\n",
       "\n",
       "    .dataframe tbody tr th {\n",
       "        vertical-align: top;\n",
       "    }\n",
       "</style>\n",
       "<table border=\"1\" class=\"dataframe\">\n",
       "  <thead>\n",
       "    <tr style=\"text-align: right;\">\n",
       "      <th></th>\n",
       "      <th>airport_code</th>\n",
       "      <th>date</th>\n",
       "      <th>type</th>\n",
       "      <th>value</th>\n",
       "      <th>t1</th>\n",
       "      <th>t2</th>\n",
       "      <th>t3</th>\n",
       "      <th>t4</th>\n",
       "    </tr>\n",
       "  </thead>\n",
       "  <tbody>\n",
       "    <tr>\n",
       "      <th>0</th>\n",
       "      <td>US1NJES0019</td>\n",
       "      <td>20160101</td>\n",
       "      <td>PRCP</td>\n",
       "      <td>0</td>\n",
       "      <td>NaN</td>\n",
       "      <td>NaN</td>\n",
       "      <td>N</td>\n",
       "      <td>NaN</td>\n",
       "    </tr>\n",
       "    <tr>\n",
       "      <th>1</th>\n",
       "      <td>US1NJES0019</td>\n",
       "      <td>20160101</td>\n",
       "      <td>SNOW</td>\n",
       "      <td>0</td>\n",
       "      <td>NaN</td>\n",
       "      <td>NaN</td>\n",
       "      <td>N</td>\n",
       "      <td>NaN</td>\n",
       "    </tr>\n",
       "    <tr>\n",
       "      <th>2</th>\n",
       "      <td>US1NJGL0001</td>\n",
       "      <td>20160101</td>\n",
       "      <td>PRCP</td>\n",
       "      <td>0</td>\n",
       "      <td>NaN</td>\n",
       "      <td>NaN</td>\n",
       "      <td>N</td>\n",
       "      <td>NaN</td>\n",
       "    </tr>\n",
       "    <tr>\n",
       "      <th>3</th>\n",
       "      <td>US1NJGL0001</td>\n",
       "      <td>20160101</td>\n",
       "      <td>SNOW</td>\n",
       "      <td>0</td>\n",
       "      <td>NaN</td>\n",
       "      <td>NaN</td>\n",
       "      <td>N</td>\n",
       "      <td>NaN</td>\n",
       "    </tr>\n",
       "    <tr>\n",
       "      <th>4</th>\n",
       "      <td>CA1AB000023</td>\n",
       "      <td>20160101</td>\n",
       "      <td>PRCP</td>\n",
       "      <td>0</td>\n",
       "      <td>NaN</td>\n",
       "      <td>NaN</td>\n",
       "      <td>N</td>\n",
       "      <td>NaN</td>\n",
       "    </tr>\n",
       "  </tbody>\n",
       "</table>\n",
       "</div>"
      ],
      "text/plain": [
       "  airport_code      date  type  value   t1   t2 t3  t4\n",
       "0  US1NJES0019  20160101  PRCP      0  NaN  NaN  N NaN\n",
       "1  US1NJES0019  20160101  SNOW      0  NaN  NaN  N NaN\n",
       "2  US1NJGL0001  20160101  PRCP      0  NaN  NaN  N NaN\n",
       "3  US1NJGL0001  20160101  SNOW      0  NaN  NaN  N NaN\n",
       "4  CA1AB000023  20160101  PRCP      0  NaN  NaN  N NaN"
      ]
     },
     "execution_count": 75,
     "metadata": {},
     "output_type": "execute_result"
    }
   ],
   "source": [
    "df_weather.head()"
   ]
  },
  {
   "cell_type": "markdown",
   "metadata": {},
   "source": [
    "### Join the weather data to the location data"
   ]
  },
  {
   "cell_type": "code",
   "execution_count": 6,
   "metadata": {
    "collapsed": false
   },
   "outputs": [],
   "source": [
    "df_weather_stations = pd.merge(df_stations,df_weather,how='inner',on=['airport_code'])"
   ]
  },
  {
   "cell_type": "code",
   "execution_count": 7,
   "metadata": {
    "collapsed": true
   },
   "outputs": [],
   "source": [
    "df_codelatlon = pd.read_csv('../data/airport_data/airport_codes_latlon.csv')"
   ]
  },
  {
   "cell_type": "markdown",
   "metadata": {},
   "source": [
    "### Load in On Time Performance Data"
   ]
  },
  {
   "cell_type": "code",
   "execution_count": 50,
   "metadata": {
    "collapsed": true
   },
   "outputs": [],
   "source": [
    "df_air=pd.read_csv('../data/On_Time_Performance/On_Time_Performance_2016_agg.tsv',sep='\\t')"
   ]
  },
  {
   "cell_type": "code",
   "execution_count": 27,
   "metadata": {
    "collapsed": false
   },
   "outputs": [
    {
     "data": {
      "text/plain": [
       "171.40000000000001"
      ]
     },
     "execution_count": 27,
     "metadata": {},
     "output_type": "execute_result"
    }
   ],
   "source": [
    "df_weather_stations['lon'].max()"
   ]
  },
  {
   "cell_type": "markdown",
   "metadata": {},
   "source": [
    "## Join data on latitude and longitude "
   ]
  },
  {
   "cell_type": "code",
   "execution_count": 28,
   "metadata": {
    "collapsed": false
   },
   "outputs": [],
   "source": [
    "df_weather_stations['lat']=df_weather_stations['lat'].apply(lambda x : abs(round(x,1)))\n",
    "df_weather_stations['lon']=df_weather_stations['lon'].apply(lambda x : abs(round(x,1)))"
   ]
  },
  {
   "cell_type": "code",
   "execution_count": 29,
   "metadata": {
    "collapsed": false
   },
   "outputs": [],
   "source": [
    "df_codelatlon['lat']=df_codelatlon['Latitude'].apply(lambda x : abs(round(x,1)))\n",
    "df_codelatlon['lon']=df_codelatlon['Longitude'].apply(lambda x : abs(round(x,1)))"
   ]
  },
  {
   "cell_type": "code",
   "execution_count": 30,
   "metadata": {
    "collapsed": false
   },
   "outputs": [],
   "source": [
    "df_joined=pd.merge(df_weather_stations,df_codelatlon,how='inner',on=['lat','lon'])"
   ]
  },
  {
   "cell_type": "code",
   "execution_count": 33,
   "metadata": {
    "collapsed": true
   },
   "outputs": [],
   "source": [
    "df_joined.fillna(0,inplace=True)"
   ]
  },
  {
   "cell_type": "code",
   "execution_count": 38,
   "metadata": {
    "collapsed": true
   },
   "outputs": [],
   "source": [
    "df_joined.to_csv('../data/weather/weather2016_row_airport_code.tsv',sep='\\t',index=False)"
   ]
  },
  {
   "cell_type": "markdown",
   "metadata": {},
   "source": [
    "### Convert to record based format"
   ]
  },
  {
   "cell_type": "code",
   "execution_count": 40,
   "metadata": {
    "collapsed": true
   },
   "outputs": [],
   "source": [
    "df_record =pd.concat([df_joined,pd.get_dummies(df_joined['type'])],axis=1)"
   ]
  },
  {
   "cell_type": "code",
   "execution_count": 43,
   "metadata": {
    "collapsed": false
   },
   "outputs": [
    {
     "data": {
      "text/html": [
       "<div>\n",
       "<style>\n",
       "    .dataframe thead tr:only-child th {\n",
       "        text-align: right;\n",
       "    }\n",
       "\n",
       "    .dataframe thead th {\n",
       "        text-align: left;\n",
       "    }\n",
       "\n",
       "    .dataframe tbody tr th {\n",
       "        vertical-align: top;\n",
       "    }\n",
       "</style>\n",
       "<table border=\"1\" class=\"dataframe\">\n",
       "  <thead>\n",
       "    <tr style=\"text-align: right;\">\n",
       "      <th></th>\n",
       "      <th>airport_code</th>\n",
       "      <th>lat</th>\n",
       "      <th>lon</th>\n",
       "      <th>height</th>\n",
       "      <th>name</th>\n",
       "      <th>date</th>\n",
       "      <th>type</th>\n",
       "      <th>value</th>\n",
       "      <th>t1</th>\n",
       "      <th>t2</th>\n",
       "      <th>...</th>\n",
       "      <th>WT02</th>\n",
       "      <th>WT03</th>\n",
       "      <th>WT04</th>\n",
       "      <th>WT05</th>\n",
       "      <th>WT06</th>\n",
       "      <th>WT07</th>\n",
       "      <th>WT08</th>\n",
       "      <th>WT09</th>\n",
       "      <th>WT10</th>\n",
       "      <th>WT11</th>\n",
       "    </tr>\n",
       "  </thead>\n",
       "  <tbody>\n",
       "    <tr>\n",
       "      <th>0</th>\n",
       "      <td>AQW00061705</td>\n",
       "      <td>14.3</td>\n",
       "      <td>170.7</td>\n",
       "      <td>3.7</td>\n",
       "      <td>AS PAGO PAGO WSO AP</td>\n",
       "      <td>20160101</td>\n",
       "      <td>TMAX</td>\n",
       "      <td>286</td>\n",
       "      <td>0</td>\n",
       "      <td>0</td>\n",
       "      <td>...</td>\n",
       "      <td>0</td>\n",
       "      <td>0</td>\n",
       "      <td>0</td>\n",
       "      <td>0</td>\n",
       "      <td>0</td>\n",
       "      <td>0</td>\n",
       "      <td>0</td>\n",
       "      <td>0</td>\n",
       "      <td>0</td>\n",
       "      <td>0</td>\n",
       "    </tr>\n",
       "    <tr>\n",
       "      <th>1</th>\n",
       "      <td>AQW00061705</td>\n",
       "      <td>14.3</td>\n",
       "      <td>170.7</td>\n",
       "      <td>3.7</td>\n",
       "      <td>AS PAGO PAGO WSO AP</td>\n",
       "      <td>20160101</td>\n",
       "      <td>TMIN</td>\n",
       "      <td>260</td>\n",
       "      <td>0</td>\n",
       "      <td>0</td>\n",
       "      <td>...</td>\n",
       "      <td>0</td>\n",
       "      <td>0</td>\n",
       "      <td>0</td>\n",
       "      <td>0</td>\n",
       "      <td>0</td>\n",
       "      <td>0</td>\n",
       "      <td>0</td>\n",
       "      <td>0</td>\n",
       "      <td>0</td>\n",
       "      <td>0</td>\n",
       "    </tr>\n",
       "  </tbody>\n",
       "</table>\n",
       "<p>2 rows × 53 columns</p>\n",
       "</div>"
      ],
      "text/plain": [
       "  airport_code   lat    lon  height                 name      date  type  \\\n",
       "0  AQW00061705  14.3  170.7     3.7  AS PAGO PAGO WSO AP  20160101  TMAX   \n",
       "1  AQW00061705  14.3  170.7     3.7  AS PAGO PAGO WSO AP  20160101  TMIN   \n",
       "\n",
       "   value t1 t2  ...  WT02  WT03 WT04  WT05  WT06  WT07  WT08  WT09  WT10  WT11  \n",
       "0    286  0  0  ...     0     0    0     0     0     0     0     0     0     0  \n",
       "1    260  0  0  ...     0     0    0     0     0     0     0     0     0     0  \n",
       "\n",
       "[2 rows x 53 columns]"
      ]
     },
     "execution_count": 43,
     "metadata": {},
     "output_type": "execute_result"
    }
   ],
   "source": [
    "df_record.head(2)"
   ]
  },
  {
   "cell_type": "code",
   "execution_count": 44,
   "metadata": {
    "collapsed": true
   },
   "outputs": [],
   "source": [
    "def fill_value(row):\n",
    "    tmp_val = row['value']\n",
    "    row[row['type']]=tmp_val\n",
    "    return row\n",
    "\n",
    "df_record=df_record.apply(lambda row : fill_value(row),axis=1)"
   ]
  },
  {
   "cell_type": "code",
   "execution_count": 47,
   "metadata": {
    "collapsed": false
   },
   "outputs": [],
   "source": [
    "df_record.to_csv('../data/weather/weather2016_row_airport_code_wdummies.tsv',sep='\\t',index=False)"
   ]
  },
  {
   "cell_type": "markdown",
   "metadata": {},
   "source": [
    "# Aggregation"
   ]
  },
  {
   "cell_type": "code",
   "execution_count": 49,
   "metadata": {
    "collapsed": true
   },
   "outputs": [],
   "source": [
    "pd.set_option('display.max_columns', 500)\n",
    "%matplotlib inline"
   ]
  },
  {
   "cell_type": "code",
   "execution_count": 54,
   "metadata": {
    "collapsed": false
   },
   "outputs": [],
   "source": [
    "weather_cols=df_record['type'].drop_duplicates().values"
   ]
  },
  {
   "cell_type": "code",
   "execution_count": 57,
   "metadata": {
    "collapsed": false
   },
   "outputs": [],
   "source": [
    "df_agg=df_record.groupby(['locationID','airport_code','lat','lon','date'])[weather_cols].sum()"
   ]
  },
  {
   "cell_type": "code",
   "execution_count": 59,
   "metadata": {
    "collapsed": false
   },
   "outputs": [],
   "source": [
    "df_agg.to_csv('../data/weather/all_weather_data_agg.tsv',sep='\\t')"
   ]
  }
 ],
 "metadata": {
  "kernelspec": {
   "display_name": "Python 3",
   "language": "python",
   "name": "python3"
  },
  "language_info": {
   "codemirror_mode": {
    "name": "ipython",
    "version": 3
   },
   "file_extension": ".py",
   "mimetype": "text/x-python",
   "name": "python",
   "nbconvert_exporter": "python",
   "pygments_lexer": "ipython3",
   "version": "3.6.0"
  }
 },
 "nbformat": 4,
 "nbformat_minor": 2
}
